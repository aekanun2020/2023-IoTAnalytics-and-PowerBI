{
 "cells": [
  {
   "cell_type": "code",
   "execution_count": 1,
   "id": "4e65ec34",
   "metadata": {},
   "outputs": [],
   "source": [
    "## โค้ดนี้พัฒนาจาก A-aggValuePM3-alertDisplay-withTrigger.ipynb"
   ]
  },
  {
   "cell_type": "code",
   "execution_count": 2,
   "id": "ea47ac95",
   "metadata": {},
   "outputs": [],
   "source": [
    "## โจทย์ทางธุรกิจ คือ ธุรกิจต้องการรับการแจ้งเตือนเมื่อมีค่าฝุ่น (pm 2.5) เกินกว่าค่า threshold \n",
    "## โดยให้มีการคำนวณเปรียบเทียบกับ threshold ในทุกๆ 5 วินาทีที่ processing platform (Spark) ได้รับข้อมูล (Message Arrival)"
   ]
  },
  {
   "cell_type": "raw",
   "id": "3960673a",
   "metadata": {},
   "source": [
    "ข้อมูลที่ publish เข้าสู่ Kafka broker คือ 2022-01-01-2022-12-31.csv ซึ่งมีหน้าตาแบบนี้\n",
    "\n",
    "{\"locationId\": \"225577\", \"location\": \"Bank of Ayuthaya Head Office Yan Nawa, Bangkok\", \"parameter\": \"pm25\", \"value\": \"35.0\", \"date\": \"{'utc': '2022-12-31T04:00:00+00:00', 'local': '2022-12-31T11:00:00+07:00'}\", \"unit\": \"\\u00b5g/m\\u00b3\", \"coordinates\": \"{'latitude': 13.679226, 'longitude': 100.54687}\", \"country\": \"NA\", \"city\": \"\", \"isMobile\": \"False\", \"isAnalysis\": \"\", \"entity\": \"Governmental Organization\", \"sensorType\": \"reference grade\"}\n",
    "{\"locationId\": \"225577\", \"location\": \"Bank of Ayuthaya Head Office Yan Nawa, Bangkok\", \"parameter\": \"pm25\", \"value\": \"36.0\", \"date\": \"{'utc': '2022-12-31T05:00:00+00:00', 'local': '2022-12-31T12:00:00+07:00'}\", \"unit\": \"\\u00b5g/m\\u00b3\", \"coordinates\": \"{'latitude': 13.679226, 'longitude': 100.54687}\", \"country\": \"NA\", \"city\": \"\", \"isMobile\": \"False\", \"isAnalysis\": \"\", \"entity\": \"Governmental Organization\", \"sensorType\": \"reference grade\"}\n",
    "{\"locationId\": \"225577\", \"location\": \"Bank of Ayuthaya Head Office Yan Nawa, Bangkok\", \"parameter\": \"pm25\", \"value\": \"36.0\", \"date\": \"{'utc': '2022-12-31T06:00:00+00:00', 'local': '2022-12-31T13:00:00+07:00'}\", \"unit\": \"\\u00b5g/m\\u00b3\", \"coordinates\": \"{'latitude': 13.679226, 'longitude': 100.54687}\", \"country\": \"NA\", \"city\": \"\", \"isMobile\": \"False\", \"isAnalysis\": \"\", \"entity\": \"Governmental Organization\", \"sensorType\": \"reference grade\"}"
   ]
  },
  {
   "cell_type": "code",
   "execution_count": 3,
   "id": "8d0f5cfc",
   "metadata": {},
   "outputs": [],
   "source": [
    "# จำเป็นต้องเปลี่ยนเลขไอพีของ Kafka broker โดยใช้ INTERNAL IP Address พร้อมด้วยหมายเลข port 9092\n",
    "\n",
    "kafka_broker = \"10.128.0.12:9092\""
   ]
  },
  {
   "cell_type": "code",
   "execution_count": 4,
   "id": "8d55fd5b",
   "metadata": {},
   "outputs": [
    {
     "name": "stderr",
     "output_type": "stream",
     "text": [
      "Ivy Default Cache set to: /root/.ivy2/cache\n",
      "The jars for the packages stored in: /root/.ivy2/jars\n",
      ":: loading settings :: url = jar:file:/usr/local/lib/python3.9/dist-packages/pyspark/jars/ivy-2.4.0.jar!/org/apache/ivy/core/settings/ivysettings.xml\n",
      "org.apache.spark#spark-sql-kafka-0-10_2.12 added as a dependency\n",
      ":: resolving dependencies :: org.apache.spark#spark-submit-parent-7d7555c0-3aab-4d1f-818e-0ea5a9730abb;1.0\n",
      "\tconfs: [default]\n",
      "\tfound org.apache.spark#spark-sql-kafka-0-10_2.12;3.0.0 in central\n",
      "\tfound org.apache.spark#spark-token-provider-kafka-0-10_2.12;3.0.0 in central\n",
      "\tfound org.apache.kafka#kafka-clients;2.4.1 in central\n",
      "\tfound com.github.luben#zstd-jni;1.4.4-3 in central\n",
      "\tfound org.lz4#lz4-java;1.7.1 in central\n",
      "\tfound org.xerial.snappy#snappy-java;1.1.7.5 in central\n",
      "\tfound org.slf4j#slf4j-api;1.7.30 in central\n",
      "\tfound org.spark-project.spark#unused;1.0.0 in central\n",
      "\tfound org.apache.commons#commons-pool2;2.6.2 in central\n",
      ":: resolution report :: resolve 687ms :: artifacts dl 15ms\n",
      "\t:: modules in use:\n",
      "\tcom.github.luben#zstd-jni;1.4.4-3 from central in [default]\n",
      "\torg.apache.commons#commons-pool2;2.6.2 from central in [default]\n",
      "\torg.apache.kafka#kafka-clients;2.4.1 from central in [default]\n",
      "\torg.apache.spark#spark-sql-kafka-0-10_2.12;3.0.0 from central in [default]\n",
      "\torg.apache.spark#spark-token-provider-kafka-0-10_2.12;3.0.0 from central in [default]\n",
      "\torg.lz4#lz4-java;1.7.1 from central in [default]\n",
      "\torg.slf4j#slf4j-api;1.7.30 from central in [default]\n",
      "\torg.spark-project.spark#unused;1.0.0 from central in [default]\n",
      "\torg.xerial.snappy#snappy-java;1.1.7.5 from central in [default]\n",
      "\t---------------------------------------------------------------------\n",
      "\t|                  |            modules            ||   artifacts   |\n",
      "\t|       conf       | number| search|dwnlded|evicted|| number|dwnlded|\n",
      "\t---------------------------------------------------------------------\n",
      "\t|      default     |   9   |   0   |   0   |   0   ||   9   |   0   |\n",
      "\t---------------------------------------------------------------------\n",
      ":: retrieving :: org.apache.spark#spark-submit-parent-7d7555c0-3aab-4d1f-818e-0ea5a9730abb\n",
      "\tconfs: [default]\n",
      "\t0 artifacts copied, 9 already retrieved (0kB/14ms)\n",
      "23/06/21 16:10:00 WARN NativeCodeLoader: Unable to load native-hadoop library for your platform... using builtin-java classes where applicable\n",
      "Using Spark's default log4j profile: org/apache/spark/log4j-defaults.properties\n",
      "Setting default log level to \"WARN\".\n",
      "To adjust logging level use sc.setLogLevel(newLevel). For SparkR, use setLogLevel(newLevel).\n"
     ]
    }
   ],
   "source": [
    "# สร้าง Spark session โดยใช้การตั้งค่าที่กำหนด\n",
    "\n",
    "from pyspark.sql import SparkSession\n",
    "\n",
    "spark = SparkSession.\\\n",
    "        builder.\\\n",
    "        appName(\"KafkaSubscribe\").\\\n",
    "        master(\"spark://spark-master:7077\").\\\n",
    "        config(\"spark.executor.memory\", \"1000m\").\\\n",
    "        config(\"spark.executor.cores\", \"2\").\\\n",
    "        config(\"spark.cores.max\", \"6\").\\\n",
    "        config(\"spark.jars.packages\", \"org.apache.spark:spark-sql-kafka-0-10_2.12:3.0.0\").\\\n",
    "        getOrCreate()\n",
    "\n"
   ]
  },
  {
   "cell_type": "markdown",
   "id": "269db7dc",
   "metadata": {},
   "source": [
    "# 1. ได้รับ Unbounded input table "
   ]
  },
  {
   "cell_type": "code",
   "execution_count": 5,
   "id": "b0bc4151",
   "metadata": {},
   "outputs": [],
   "source": [
    "# สร้าง DataFrame โดยอ่านข้อมูลจาก Kafka stream\n",
    "\n",
    "unboundInput_table_df = spark \\\n",
    "  .readStream \\\n",
    "  .format(\"kafka\") \\\n",
    "  .option(\"kafka.bootstrap.servers\", kafka_broker) \\\n",
    "  .option(\"subscribe\", \"quickstart-events\") \\\n",
    "  .option(\"group.id\", \"Aekanun-Spark-App\") \\\n",
    "  .load()"
   ]
  },
  {
   "cell_type": "code",
   "execution_count": 6,
   "id": "ed4c0203",
   "metadata": {},
   "outputs": [],
   "source": [
    "from pyspark.sql import functions as sparkf"
   ]
  },
  {
   "cell_type": "code",
   "execution_count": 7,
   "id": "a49286e1",
   "metadata": {},
   "outputs": [
    {
     "name": "stdout",
     "output_type": "stream",
     "text": [
      "root\n",
      " |-- key: binary (nullable = true)\n",
      " |-- value: binary (nullable = true)\n",
      " |-- topic: string (nullable = true)\n",
      " |-- partition: integer (nullable = true)\n",
      " |-- offset: long (nullable = true)\n",
      " |-- timestamp: timestamp (nullable = true)\n",
      " |-- timestampType: integer (nullable = true)\n",
      "\n"
     ]
    }
   ],
   "source": [
    "# แสดง schema ของ column ต่างๆ ใน DataFrame\n",
    "\n",
    "unboundInput_table_df.printSchema()"
   ]
  },
  {
   "cell_type": "markdown",
   "id": "ebe7b18b",
   "metadata": {},
   "source": [
    "# 2. เกิดการ Query - Stream Data Processing"
   ]
  },
  {
   "cell_type": "code",
   "execution_count": 8,
   "id": "2849f945",
   "metadata": {},
   "outputs": [],
   "source": [
    "# เลือกคอลัมน์ที่ต้องการจาก DataFrame\n",
    "\n",
    "selectedCol_df = unboundInput_table_df.selectExpr(\"CAST(key AS STRING)\", \"CAST(value AS STRING)\")"
   ]
  },
  {
   "cell_type": "code",
   "execution_count": 9,
   "id": "0eddebee",
   "metadata": {},
   "outputs": [],
   "source": [
    "from pyspark.sql.types import *\n",
    "from pyspark.sql.functions import from_json, col\n",
    "\n",
    "# กำหนด schema สำหรับข้อมูลที่ต้องการ\n",
    "\n",
    "schema = StructType([\n",
    "    StructField(\"locationId\", StringType()),\n",
    "    StructField(\"location\", StringType()),\n",
    "    StructField(\"parameter\", StringType()),\n",
    "    StructField(\"value\", StringType()),\n",
    "    StructField(\"date\", StringType()),\n",
    "    StructField(\"unit\", StringType()),\n",
    "    StructField(\"coordinates\", StringType()),\n",
    "    StructField(\"country\", StringType()),\n",
    "    StructField(\"city\", StringType()),\n",
    "    StructField(\"isMobile\", StringType()),\n",
    "    StructField(\"isAnalysis\", StringType()),\n",
    "    StructField(\"entity\", StringType()),\n",
    "    StructField(\"sensorType\", StringType())\n",
    "])\n",
    "\n",
    "date_schema = StructType([\n",
    "    StructField(\"utc\", StringType()),\n",
    "    StructField(\"local\", StringType())\n",
    "])\n",
    "\n",
    "coordinates_schema = StructType([\n",
    "    StructField(\"latitude\", DoubleType()),\n",
    "    StructField(\"longitude\", DoubleType())\n",
    "])\n",
    "\n",
    "# แปลงข้อมูลที่มีโครงสร้างเป็น JSON ใน column value เป็น schema ที่กำหนดไว้ก่อนหน้านี้\n",
    "parsedData_df = selectedCol_df.withColumn(\"data\", from_json(\"value\", schema))"
   ]
  },
  {
   "cell_type": "code",
   "execution_count": 10,
   "id": "0dc42b04",
   "metadata": {},
   "outputs": [
    {
     "name": "stdout",
     "output_type": "stream",
     "text": [
      "root\n",
      " |-- key: string (nullable = true)\n",
      " |-- value: string (nullable = true)\n",
      " |-- data: struct (nullable = true)\n",
      " |    |-- locationId: string (nullable = true)\n",
      " |    |-- location: string (nullable = true)\n",
      " |    |-- parameter: string (nullable = true)\n",
      " |    |-- value: string (nullable = true)\n",
      " |    |-- date: string (nullable = true)\n",
      " |    |-- unit: string (nullable = true)\n",
      " |    |-- coordinates: string (nullable = true)\n",
      " |    |-- country: string (nullable = true)\n",
      " |    |-- city: string (nullable = true)\n",
      " |    |-- isMobile: string (nullable = true)\n",
      " |    |-- isAnalysis: string (nullable = true)\n",
      " |    |-- entity: string (nullable = true)\n",
      " |    |-- sensorType: string (nullable = true)\n",
      "\n"
     ]
    }
   ],
   "source": [
    "parsedData_df.printSchema()"
   ]
  },
  {
   "cell_type": "code",
   "execution_count": 11,
   "id": "76360075",
   "metadata": {},
   "outputs": [],
   "source": [
    "# เลือกคอลัมน์ที่ต้องการจาก DataFrame และแยก nested column ออกมา (ทำ unnest)\n",
    "\n",
    "unNested_df = parsedData_df.select(\"key\", \"data.*\")"
   ]
  },
  {
   "cell_type": "code",
   "execution_count": 12,
   "id": "621eefa2",
   "metadata": {},
   "outputs": [
    {
     "name": "stdout",
     "output_type": "stream",
     "text": [
      "root\n",
      " |-- key: string (nullable = true)\n",
      " |-- locationId: string (nullable = true)\n",
      " |-- location: string (nullable = true)\n",
      " |-- parameter: string (nullable = true)\n",
      " |-- value: string (nullable = true)\n",
      " |-- date: string (nullable = true)\n",
      " |-- unit: string (nullable = true)\n",
      " |-- coordinates: string (nullable = true)\n",
      " |-- country: string (nullable = true)\n",
      " |-- city: string (nullable = true)\n",
      " |-- isMobile: string (nullable = true)\n",
      " |-- isAnalysis: string (nullable = true)\n",
      " |-- entity: string (nullable = true)\n",
      " |-- sensorType: string (nullable = true)\n",
      "\n"
     ]
    }
   ],
   "source": [
    "unNested_df.printSchema()"
   ]
  },
  {
   "cell_type": "code",
   "execution_count": 13,
   "id": "cbf4c2ac",
   "metadata": {},
   "outputs": [
    {
     "name": "stdout",
     "output_type": "stream",
     "text": [
      "root\n",
      " |-- key: string (nullable = true)\n",
      " |-- locationId: string (nullable = true)\n",
      " |-- location: string (nullable = true)\n",
      " |-- parameter: string (nullable = true)\n",
      " |-- value: string (nullable = true)\n",
      " |-- date: struct (nullable = true)\n",
      " |    |-- utc: string (nullable = true)\n",
      " |    |-- local: string (nullable = true)\n",
      " |-- unit: string (nullable = true)\n",
      " |-- coordinates: struct (nullable = true)\n",
      " |    |-- latitude: double (nullable = true)\n",
      " |    |-- longitude: double (nullable = true)\n",
      " |-- country: string (nullable = true)\n",
      " |-- city: string (nullable = true)\n",
      " |-- isMobile: string (nullable = true)\n",
      " |-- isAnalysis: string (nullable = true)\n",
      " |-- entity: string (nullable = true)\n",
      " |-- sensorType: string (nullable = true)\n",
      " |-- data: struct (nullable = true)\n",
      " |    |-- locationId: string (nullable = true)\n",
      " |    |-- location: string (nullable = true)\n",
      " |    |-- parameter: string (nullable = true)\n",
      " |    |-- value: string (nullable = true)\n",
      " |    |-- date: string (nullable = true)\n",
      " |    |-- unit: string (nullable = true)\n",
      " |    |-- coordinates: string (nullable = true)\n",
      " |    |-- country: string (nullable = true)\n",
      " |    |-- city: string (nullable = true)\n",
      " |    |-- isMobile: string (nullable = true)\n",
      " |    |-- isAnalysis: string (nullable = true)\n",
      " |    |-- entity: string (nullable = true)\n",
      " |    |-- sensorType: string (nullable = true)\n",
      "\n"
     ]
    }
   ],
   "source": [
    "# แสดง schema เพื่อจะใช้ในการแปลงข้อมูลที่มีโครงสร้างเป็น JSON ใน column value (คนละตัวกับ value ก่อนหน้านี้) เป็น schema ที่กำหนดไว้\n",
    "# แสดง schema เพื่อจะใช้ในการแปลงข้อมูลที่มีโครงสร้างเป็น JSON ใน column date เป็น schema ที่กำหนดไว้\n",
    "# แสดง schema เพื่อจะใช้ในการแปลงข้อมูลที่มีโครงสร้างเป็น JSON ใน column coordiates เป็น schema ที่กำหนดไว้\n",
    "\n",
    "unNested_df.withColumn(\"data\", from_json(\"value\", schema))\\\n",
    ".withColumn(\"date\", from_json(\"date\", date_schema))\\\n",
    ".withColumn(\"coordinates\", from_json(\"coordinates\", coordinates_schema))\\\n",
    ".printSchema()"
   ]
  },
  {
   "cell_type": "code",
   "execution_count": 14,
   "id": "48a9def1",
   "metadata": {},
   "outputs": [],
   "source": [
    "# แปลงข้อมูลที่มีโครงสร้างเป็น JSON ใน column value (คนละตัวกับ value ก่อนหน้านี้) เป็น schema ที่กำหนดไว้\n",
    "# แปลงข้อมูลที่มีโครงสร้างเป็น JSON ใน column date เป็น schema ที่กำหนดไว้\n",
    "# แปลงข้อมูลที่มีโครงสร้างเป็น JSON ใน column coordiates เป็น schema ที่กำหนดไว้\n",
    "# แล้วจึงทำ unnest ด้วย .select กับ col. data, date, coordinate\n",
    "\n",
    "extractedDateLatLong_df = unNested_df.withColumn(\"data\", from_json(\"value\", schema))\\\n",
    ".withColumn(\"date\", from_json(\"date\", date_schema))\\\n",
    ".withColumn(\"coordinates\", from_json(\"coordinates\", coordinates_schema))\\\n",
    ".select('key',\n",
    " 'locationId',\n",
    " 'location',\n",
    " 'parameter',\n",
    " 'value',\n",
    " 'date.*',\n",
    " 'unit',\n",
    " 'coordinates.*',\n",
    " 'country',\n",
    " 'city',\n",
    " 'isMobile',\n",
    " 'isAnalysis',\n",
    " 'entity',\n",
    " 'sensorType')"
   ]
  },
  {
   "cell_type": "code",
   "execution_count": 15,
   "id": "64faa442",
   "metadata": {},
   "outputs": [
    {
     "name": "stdout",
     "output_type": "stream",
     "text": [
      "root\n",
      " |-- key: string (nullable = true)\n",
      " |-- locationId: string (nullable = true)\n",
      " |-- location: string (nullable = true)\n",
      " |-- parameter: string (nullable = true)\n",
      " |-- value: string (nullable = true)\n",
      " |-- utc: string (nullable = true)\n",
      " |-- local: string (nullable = true)\n",
      " |-- unit: string (nullable = true)\n",
      " |-- latitude: double (nullable = true)\n",
      " |-- longitude: double (nullable = true)\n",
      " |-- country: string (nullable = true)\n",
      " |-- city: string (nullable = true)\n",
      " |-- isMobile: string (nullable = true)\n",
      " |-- isAnalysis: string (nullable = true)\n",
      " |-- entity: string (nullable = true)\n",
      " |-- sensorType: string (nullable = true)\n",
      "\n"
     ]
    }
   ],
   "source": [
    "extractedDateLatLong_df.printSchema()"
   ]
  },
  {
   "cell_type": "code",
   "execution_count": 16,
   "id": "aa088b7c",
   "metadata": {},
   "outputs": [],
   "source": [
    "#extractedDateLatLong_df.filter(sparkf.col('isMobile').isNotNull())"
   ]
  },
  {
   "cell_type": "markdown",
   "id": "bb52753a",
   "metadata": {},
   "source": [
    "# 3. ได้รับ Result table"
   ]
  },
  {
   "cell_type": "code",
   "execution_count": 17,
   "id": "72c1a104",
   "metadata": {},
   "outputs": [],
   "source": [
    "result_table_df = extractedDateLatLong_df"
   ]
  },
  {
   "cell_type": "code",
   "execution_count": 18,
   "id": "e8c98c62",
   "metadata": {},
   "outputs": [
    {
     "data": {
      "text/plain": [
       "['key',\n",
       " 'locationId',\n",
       " 'location',\n",
       " 'parameter',\n",
       " 'value',\n",
       " 'utc',\n",
       " 'local',\n",
       " 'unit',\n",
       " 'latitude',\n",
       " 'longitude',\n",
       " 'country',\n",
       " 'city',\n",
       " 'isMobile',\n",
       " 'isAnalysis',\n",
       " 'entity',\n",
       " 'sensorType']"
      ]
     },
     "execution_count": 18,
     "metadata": {},
     "output_type": "execute_result"
    }
   ],
   "source": [
    "# แสดงรายชื่อ column เป็น list\n",
    "\n",
    "result_table_df.columns"
   ]
  },
  {
   "cell_type": "code",
   "execution_count": 19,
   "id": "d36eb718",
   "metadata": {},
   "outputs": [
    {
     "name": "stdout",
     "output_type": "stream",
     "text": [
      "root\n",
      " |-- key: string (nullable = true)\n",
      " |-- locationId: string (nullable = true)\n",
      " |-- location: string (nullable = true)\n",
      " |-- parameter: string (nullable = true)\n",
      " |-- value: string (nullable = true)\n",
      " |-- utc: string (nullable = true)\n",
      " |-- local: string (nullable = true)\n",
      " |-- unit: string (nullable = true)\n",
      " |-- latitude: double (nullable = true)\n",
      " |-- longitude: double (nullable = true)\n",
      " |-- country: string (nullable = true)\n",
      " |-- city: string (nullable = true)\n",
      " |-- isMobile: string (nullable = true)\n",
      " |-- isAnalysis: string (nullable = true)\n",
      " |-- entity: string (nullable = true)\n",
      " |-- sensorType: string (nullable = true)\n",
      "\n"
     ]
    }
   ],
   "source": [
    "result_table_df.printSchema()"
   ]
  },
  {
   "cell_type": "markdown",
   "id": "4ac76af8",
   "metadata": {},
   "source": [
    "# 4. ได้รับ Output (table)"
   ]
  },
  {
   "cell_type": "code",
   "execution_count": null,
   "id": "9582c781",
   "metadata": {},
   "outputs": [
    {
     "name": "stderr",
     "output_type": "stream",
     "text": [
      "23/06/21 16:10:11 WARN StreamingQueryManager: Temporary checkpoint location created which is deleted normally when the query didn't fail: /tmp/temporary-0b681d83-f41e-42d9-b0da-3c34942f5a6d. If it's required to delete it under any circumstances, please set spark.sql.streaming.forceDeleteTempCheckpointLocation to true. Important to know deleting temp checkpoint folder is best effort.\n"
     ]
    },
    {
     "name": "stdout",
     "output_type": "stream",
     "text": [
      "Batch: 0, No data\n"
     ]
    },
    {
     "name": "stderr",
     "output_type": "stream",
     "text": [
      "23/06/21 16:12:18 WARN ProcessingTimeExecutor: Current batch is falling behind. The trigger interval is 5000 milliseconds, but spent 8392 milliseconds\n"
     ]
    },
    {
     "name": "stdout",
     "output_type": "stream",
     "text": [
      "ALERT! Batch: 1, Max value: 64.0 exceeded 60 at date: 2022-03-09T20:00:00+07:00!\n"
     ]
    },
    {
     "name": "stderr",
     "output_type": "stream",
     "text": [
      "                                                                                \r"
     ]
    },
    {
     "name": "stdout",
     "output_type": "stream",
     "text": [
      "ALERT! Batch: 2, Max value: 73.0 exceeded 60 at date: 2022-04-10T03:00:00+07:00!\n",
      "ALERT! Batch: 3, Max value: 62.0 exceeded 60 at date: 2022-12-23T07:00:00+07:00!\n"
     ]
    }
   ],
   "source": [
    "from pyspark.sql import functions as F\n",
    "\n",
    "# กำหนดฟังก์ชันสำหรับการตรวจสอบค่ามากที่สุดของฝุ่น ในแต่ละ trigger ที่ Spark ไป subscribe จาก Kafka มา (ทุกๆ 5 sec.)\n",
    "def max_value(df, epoch_id):\n",
    "    df = df.withColumn(\"value\", df[\"value\"].cast(\"float\"))\n",
    "    max_value_row = df.orderBy(df.value.desc()).first()\n",
    "    if max_value_row is not None and max_value_row.value > 60:\n",
    "        print(f\"ALERT! Batch: {epoch_id}, Max value: {max_value_row.value} exceeded 60 at date: {max_value_row.local}!\")\n",
    "    elif max_value_row is not None:\n",
    "        print(f\"Batch: {epoch_id}, Max value: {max_value_row.value} at date: {max_value_row.local}\")\n",
    "    else:\n",
    "        print(f\"Batch: {epoch_id}, No data\")\n",
    "\n",
    "output_df = result_table_df.writeStream \\\n",
    "    .foreachBatch(max_value) \\\n",
    "    .outputMode(\"update\") \\\n",
    "    .trigger(processingTime='5 seconds') \\\n",
    "    .start()\n",
    "\n",
    "output_df.awaitTermination()\n"
   ]
  },
  {
   "cell_type": "code",
   "execution_count": null,
   "id": "2bae494e",
   "metadata": {},
   "outputs": [],
   "source": [
    "output_df.stop()"
   ]
  },
  {
   "cell_type": "code",
   "execution_count": null,
   "id": "3457eb70",
   "metadata": {},
   "outputs": [],
   "source": []
  }
 ],
 "metadata": {
  "kernelspec": {
   "display_name": "Python 3 (ipykernel)",
   "language": "python",
   "name": "python3"
  },
  "language_info": {
   "codemirror_mode": {
    "name": "ipython",
    "version": 3
   },
   "file_extension": ".py",
   "mimetype": "text/x-python",
   "name": "python",
   "nbconvert_exporter": "python",
   "pygments_lexer": "ipython3",
   "version": "3.9.2"
  }
 },
 "nbformat": 4,
 "nbformat_minor": 5
}
