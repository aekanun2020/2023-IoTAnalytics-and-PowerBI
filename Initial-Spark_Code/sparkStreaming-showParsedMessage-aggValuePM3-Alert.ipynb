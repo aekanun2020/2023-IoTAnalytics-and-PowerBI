{
 "cells": [
  {
   "cell_type": "code",
   "execution_count": 1,
   "id": "e2de9371",
   "metadata": {},
   "outputs": [
    {
     "name": "stderr",
     "output_type": "stream",
     "text": [
      "Ivy Default Cache set to: /root/.ivy2/cache\n",
      "The jars for the packages stored in: /root/.ivy2/jars\n",
      ":: loading settings :: url = jar:file:/usr/local/lib/python3.9/dist-packages/pyspark/jars/ivy-2.4.0.jar!/org/apache/ivy/core/settings/ivysettings.xml\n",
      "org.apache.spark#spark-sql-kafka-0-10_2.12 added as a dependency\n",
      ":: resolving dependencies :: org.apache.spark#spark-submit-parent-ddc48008-a6b4-4e45-9f5f-17ec2093e16f;1.0\n",
      "\tconfs: [default]\n",
      "\tfound org.apache.spark#spark-sql-kafka-0-10_2.12;3.0.0 in central\n",
      "\tfound org.apache.spark#spark-token-provider-kafka-0-10_2.12;3.0.0 in central\n",
      "\tfound org.apache.kafka#kafka-clients;2.4.1 in central\n",
      "\tfound com.github.luben#zstd-jni;1.4.4-3 in central\n",
      "\tfound org.lz4#lz4-java;1.7.1 in central\n",
      "\tfound org.xerial.snappy#snappy-java;1.1.7.5 in central\n",
      "\tfound org.slf4j#slf4j-api;1.7.30 in central\n",
      "\tfound org.spark-project.spark#unused;1.0.0 in central\n",
      "\tfound org.apache.commons#commons-pool2;2.6.2 in central\n",
      ":: resolution report :: resolve 673ms :: artifacts dl 13ms\n",
      "\t:: modules in use:\n",
      "\tcom.github.luben#zstd-jni;1.4.4-3 from central in [default]\n",
      "\torg.apache.commons#commons-pool2;2.6.2 from central in [default]\n",
      "\torg.apache.kafka#kafka-clients;2.4.1 from central in [default]\n",
      "\torg.apache.spark#spark-sql-kafka-0-10_2.12;3.0.0 from central in [default]\n",
      "\torg.apache.spark#spark-token-provider-kafka-0-10_2.12;3.0.0 from central in [default]\n",
      "\torg.lz4#lz4-java;1.7.1 from central in [default]\n",
      "\torg.slf4j#slf4j-api;1.7.30 from central in [default]\n",
      "\torg.spark-project.spark#unused;1.0.0 from central in [default]\n",
      "\torg.xerial.snappy#snappy-java;1.1.7.5 from central in [default]\n",
      "\t---------------------------------------------------------------------\n",
      "\t|                  |            modules            ||   artifacts   |\n",
      "\t|       conf       | number| search|dwnlded|evicted|| number|dwnlded|\n",
      "\t---------------------------------------------------------------------\n",
      "\t|      default     |   9   |   0   |   0   |   0   ||   9   |   0   |\n",
      "\t---------------------------------------------------------------------\n",
      ":: retrieving :: org.apache.spark#spark-submit-parent-ddc48008-a6b4-4e45-9f5f-17ec2093e16f\n",
      "\tconfs: [default]\n",
      "\t0 artifacts copied, 9 already retrieved (0kB/14ms)\n",
      "23/06/17 12:53:30 WARN NativeCodeLoader: Unable to load native-hadoop library for your platform... using builtin-java classes where applicable\n",
      "Using Spark's default log4j profile: org/apache/spark/log4j-defaults.properties\n",
      "Setting default log level to \"WARN\".\n",
      "To adjust logging level use sc.setLogLevel(newLevel). For SparkR, use setLogLevel(newLevel).\n"
     ]
    }
   ],
   "source": [
    "# ปรับแต่งค่าการทำงานของ Spark\n",
    "from pyspark.sql import SparkSession\n",
    "\n",
    "spark = SparkSession.\\\n",
    "        builder.\\\n",
    "        appName(\"KafkaSubscribe\").\\\n",
    "        master(\"spark://spark-master:7077\").\\\n",
    "        config(\"spark.executor.memory\", \"1000m\").\\\n",
    "        config(\"spark.executor.cores\", \"2\").\\\n",
    "        config(\"spark.cores.max\", \"6\").\\\n",
    "        config(\"spark.jars.packages\", \"org.apache.spark:spark-sql-kafka-0-10_2.12:3.0.0\").\\\n",
    "        getOrCreate()\n",
    "\n"
   ]
  },
  {
   "cell_type": "code",
   "execution_count": 2,
   "id": "b75c66d6",
   "metadata": {},
   "outputs": [],
   "source": [
    "rawMetadata_df = spark \\\n",
    "  .readStream \\\n",
    "  .format(\"kafka\") \\\n",
    "  .option(\"kafka.bootstrap.servers\", \"10.128.0.12:9092\") \\\n",
    "  .option(\"subscribe\", \"quickstart-events\") \\\n",
    "  .option(\"group.id\", \"Aekanun-Spark-App\") \\\n",
    "  .load()"
   ]
  },
  {
   "cell_type": "code",
   "execution_count": 3,
   "id": "0d037812",
   "metadata": {},
   "outputs": [],
   "source": [
    "from pyspark.sql import functions as sparkf"
   ]
  },
  {
   "cell_type": "code",
   "execution_count": 4,
   "id": "6746b355",
   "metadata": {},
   "outputs": [
    {
     "name": "stdout",
     "output_type": "stream",
     "text": [
      "root\n",
      " |-- key: binary (nullable = true)\n",
      " |-- value: binary (nullable = true)\n",
      " |-- topic: string (nullable = true)\n",
      " |-- partition: integer (nullable = true)\n",
      " |-- offset: long (nullable = true)\n",
      " |-- timestamp: timestamp (nullable = true)\n",
      " |-- timestampType: integer (nullable = true)\n",
      "\n"
     ]
    }
   ],
   "source": [
    "rawMetadata_df.printSchema()"
   ]
  },
  {
   "cell_type": "code",
   "execution_count": 5,
   "id": "aa8c88d4",
   "metadata": {},
   "outputs": [],
   "source": [
    "# เลือกเฉพาะคอลัมน์ที่ต้องการ\n",
    "onlyMetadata_df = rawMetadata_df.selectExpr(\"CAST(key AS STRING)\", \"CAST(value AS STRING)\")"
   ]
  },
  {
   "cell_type": "code",
   "execution_count": 6,
   "id": "205d873a",
   "metadata": {},
   "outputs": [],
   "source": [
    "from pyspark.sql.types import *\n",
    "from pyspark.sql.functions import from_json, col\n",
    "\n",
    "# Main schema\n",
    "schema = StructType([\n",
    "    StructField(\"locationId\", StringType()),\n",
    "    StructField(\"location\", StringType()),\n",
    "    StructField(\"parameter\", StringType()),\n",
    "    StructField(\"value\", StringType()),\n",
    "    StructField(\"date\", StringType()),\n",
    "    StructField(\"unit\", StringType()),\n",
    "    StructField(\"coordinates\", StringType()),\n",
    "    StructField(\"country\", StringType()),\n",
    "    StructField(\"city\", StringType()),\n",
    "    StructField(\"isMobile\", StringType()),\n",
    "    StructField(\"isAnalysis\", StringType()),\n",
    "    StructField(\"entity\", StringType()),\n",
    "    StructField(\"sensorType\", StringType())\n",
    "])\n",
    "\n",
    "# Nested 'date' and 'coordinates' schema\n",
    "date_schema = StructType([\n",
    "    StructField(\"utc\", StringType()),\n",
    "    StructField(\"local\", StringType())\n",
    "])\n",
    "\n",
    "coordinates_schema = StructType([\n",
    "    StructField(\"latitude\", DoubleType()),\n",
    "    StructField(\"longitude\", DoubleType())\n",
    "])\n",
    "\n",
    "# Parse the JSON string column and convert it to a struct.\n",
    "parsedData_df = onlyMetadata_df.withColumn(\"data\", from_json(\"value\", schema))"
   ]
  },
  {
   "cell_type": "code",
   "execution_count": 7,
   "id": "af4f2a03",
   "metadata": {},
   "outputs": [
    {
     "name": "stdout",
     "output_type": "stream",
     "text": [
      "root\n",
      " |-- key: string (nullable = true)\n",
      " |-- value: string (nullable = true)\n",
      " |-- data: struct (nullable = true)\n",
      " |    |-- locationId: string (nullable = true)\n",
      " |    |-- location: string (nullable = true)\n",
      " |    |-- parameter: string (nullable = true)\n",
      " |    |-- value: string (nullable = true)\n",
      " |    |-- date: string (nullable = true)\n",
      " |    |-- unit: string (nullable = true)\n",
      " |    |-- coordinates: string (nullable = true)\n",
      " |    |-- country: string (nullable = true)\n",
      " |    |-- city: string (nullable = true)\n",
      " |    |-- isMobile: string (nullable = true)\n",
      " |    |-- isAnalysis: string (nullable = true)\n",
      " |    |-- entity: string (nullable = true)\n",
      " |    |-- sensorType: string (nullable = true)\n",
      "\n"
     ]
    }
   ],
   "source": [
    "parsedData_df.printSchema()"
   ]
  },
  {
   "cell_type": "code",
   "execution_count": 8,
   "id": "617c7b2a",
   "metadata": {},
   "outputs": [],
   "source": [
    "# Select only the nested fields\n",
    "unNested_df = parsedData_df.select(\"key\", \"data.*\")"
   ]
  },
  {
   "cell_type": "code",
   "execution_count": 9,
   "id": "58d55106",
   "metadata": {},
   "outputs": [
    {
     "name": "stdout",
     "output_type": "stream",
     "text": [
      "root\n",
      " |-- key: string (nullable = true)\n",
      " |-- locationId: string (nullable = true)\n",
      " |-- location: string (nullable = true)\n",
      " |-- parameter: string (nullable = true)\n",
      " |-- value: string (nullable = true)\n",
      " |-- date: string (nullable = true)\n",
      " |-- unit: string (nullable = true)\n",
      " |-- coordinates: string (nullable = true)\n",
      " |-- country: string (nullable = true)\n",
      " |-- city: string (nullable = true)\n",
      " |-- isMobile: string (nullable = true)\n",
      " |-- isAnalysis: string (nullable = true)\n",
      " |-- entity: string (nullable = true)\n",
      " |-- sensorType: string (nullable = true)\n",
      "\n"
     ]
    }
   ],
   "source": [
    "unNested_df.printSchema()"
   ]
  },
  {
   "cell_type": "code",
   "execution_count": 10,
   "id": "6f66a9f4",
   "metadata": {},
   "outputs": [
    {
     "name": "stdout",
     "output_type": "stream",
     "text": [
      "root\n",
      " |-- key: string (nullable = true)\n",
      " |-- locationId: string (nullable = true)\n",
      " |-- location: string (nullable = true)\n",
      " |-- parameter: string (nullable = true)\n",
      " |-- value: string (nullable = true)\n",
      " |-- date: struct (nullable = true)\n",
      " |    |-- utc: string (nullable = true)\n",
      " |    |-- local: string (nullable = true)\n",
      " |-- unit: string (nullable = true)\n",
      " |-- coordinates: struct (nullable = true)\n",
      " |    |-- latitude: double (nullable = true)\n",
      " |    |-- longitude: double (nullable = true)\n",
      " |-- country: string (nullable = true)\n",
      " |-- city: string (nullable = true)\n",
      " |-- isMobile: string (nullable = true)\n",
      " |-- isAnalysis: string (nullable = true)\n",
      " |-- entity: string (nullable = true)\n",
      " |-- sensorType: string (nullable = true)\n",
      " |-- data: struct (nullable = true)\n",
      " |    |-- locationId: string (nullable = true)\n",
      " |    |-- location: string (nullable = true)\n",
      " |    |-- parameter: string (nullable = true)\n",
      " |    |-- value: string (nullable = true)\n",
      " |    |-- date: string (nullable = true)\n",
      " |    |-- unit: string (nullable = true)\n",
      " |    |-- coordinates: string (nullable = true)\n",
      " |    |-- country: string (nullable = true)\n",
      " |    |-- city: string (nullable = true)\n",
      " |    |-- isMobile: string (nullable = true)\n",
      " |    |-- isAnalysis: string (nullable = true)\n",
      " |    |-- entity: string (nullable = true)\n",
      " |    |-- sensorType: string (nullable = true)\n",
      "\n"
     ]
    }
   ],
   "source": [
    "# Parse the JSON string column and convert it to a struct.\n",
    "unNested_df.withColumn(\"data\", from_json(\"value\", schema))\\\n",
    ".withColumn(\"date\", from_json(\"date\", date_schema))\\\n",
    ".withColumn(\"coordinates\", from_json(\"coordinates\", coordinates_schema))\\\n",
    ".printSchema()"
   ]
  },
  {
   "cell_type": "code",
   "execution_count": 11,
   "id": "1c0dfc85",
   "metadata": {},
   "outputs": [],
   "source": [
    "extractedDateLatLong_df = unNested_df.withColumn(\"data\", from_json(\"value\", schema))\\\n",
    ".withColumn(\"date\", from_json(\"date\", date_schema))\\\n",
    ".withColumn(\"coordinates\", from_json(\"coordinates\", coordinates_schema))\\\n",
    ".select('key',\n",
    " 'locationId',\n",
    " 'location',\n",
    " 'parameter',\n",
    " 'value',\n",
    " 'date.*',\n",
    " 'unit',\n",
    " 'coordinates.*',\n",
    " 'country',\n",
    " 'city',\n",
    " 'isMobile',\n",
    " 'isAnalysis',\n",
    " 'entity',\n",
    " 'sensorType')"
   ]
  },
  {
   "cell_type": "code",
   "execution_count": 12,
   "id": "01072ad8",
   "metadata": {},
   "outputs": [
    {
     "name": "stdout",
     "output_type": "stream",
     "text": [
      "root\n",
      " |-- key: string (nullable = true)\n",
      " |-- locationId: string (nullable = true)\n",
      " |-- location: string (nullable = true)\n",
      " |-- parameter: string (nullable = true)\n",
      " |-- value: string (nullable = true)\n",
      " |-- utc: string (nullable = true)\n",
      " |-- local: string (nullable = true)\n",
      " |-- unit: string (nullable = true)\n",
      " |-- latitude: double (nullable = true)\n",
      " |-- longitude: double (nullable = true)\n",
      " |-- country: string (nullable = true)\n",
      " |-- city: string (nullable = true)\n",
      " |-- isMobile: string (nullable = true)\n",
      " |-- isAnalysis: string (nullable = true)\n",
      " |-- entity: string (nullable = true)\n",
      " |-- sensorType: string (nullable = true)\n",
      "\n"
     ]
    }
   ],
   "source": [
    "extractedDateLatLong_df.printSchema()"
   ]
  },
  {
   "cell_type": "code",
   "execution_count": 13,
   "id": "2b9b13b4",
   "metadata": {},
   "outputs": [],
   "source": [
    "final_df = extractedDateLatLong_df\\\n",
    ".withColumn('sourceUnixSTP',sparkf.unix_timestamp(sparkf.col('utc'), \"yyyy-MM-dd'T'HH:mm:ssXXX\"))"
   ]
  },
  {
   "cell_type": "code",
   "execution_count": 14,
   "id": "707c58ba",
   "metadata": {},
   "outputs": [
    {
     "data": {
      "text/plain": [
       "['key',\n",
       " 'locationId',\n",
       " 'location',\n",
       " 'parameter',\n",
       " 'value',\n",
       " 'utc',\n",
       " 'local',\n",
       " 'unit',\n",
       " 'latitude',\n",
       " 'longitude',\n",
       " 'country',\n",
       " 'city',\n",
       " 'isMobile',\n",
       " 'isAnalysis',\n",
       " 'entity',\n",
       " 'sensorType',\n",
       " 'sourceUnixSTP']"
      ]
     },
     "execution_count": 14,
     "metadata": {},
     "output_type": "execute_result"
    }
   ],
   "source": [
    "final_df.columns"
   ]
  },
  {
   "cell_type": "code",
   "execution_count": 15,
   "id": "92606c7f",
   "metadata": {},
   "outputs": [
    {
     "name": "stdout",
     "output_type": "stream",
     "text": [
      "root\n",
      " |-- key: string (nullable = true)\n",
      " |-- locationId: string (nullable = true)\n",
      " |-- location: string (nullable = true)\n",
      " |-- parameter: string (nullable = true)\n",
      " |-- value: string (nullable = true)\n",
      " |-- utc: string (nullable = true)\n",
      " |-- local: string (nullable = true)\n",
      " |-- unit: string (nullable = true)\n",
      " |-- latitude: double (nullable = true)\n",
      " |-- longitude: double (nullable = true)\n",
      " |-- country: string (nullable = true)\n",
      " |-- city: string (nullable = true)\n",
      " |-- isMobile: string (nullable = true)\n",
      " |-- isAnalysis: string (nullable = true)\n",
      " |-- entity: string (nullable = true)\n",
      " |-- sensorType: string (nullable = true)\n",
      " |-- sourceUnixSTP: long (nullable = true)\n",
      "\n"
     ]
    }
   ],
   "source": [
    "final_df.printSchema()"
   ]
  },
  {
   "cell_type": "code",
   "execution_count": 16,
   "id": "e261a290",
   "metadata": {},
   "outputs": [],
   "source": [
    "#agg_df = final_df.groupBy('value').agg(sparkf.max(sparkf.col('value')))"
   ]
  },
  {
   "cell_type": "code",
   "execution_count": null,
   "id": "0255d487",
   "metadata": {},
   "outputs": [
    {
     "name": "stderr",
     "output_type": "stream",
     "text": [
      "23/06/17 12:53:41 WARN StreamingQueryManager: Temporary checkpoint location created which is deleted normally when the query didn't fail: /tmp/temporary-3ab00b7a-a2bf-4524-955b-2fdde2e00bc1. If it's required to delete it under any circumstances, please set spark.sql.streaming.forceDeleteTempCheckpointLocation to true. Important to know deleting temp checkpoint folder is best effort.\n",
      "23/06/17 12:53:47 WARN ProcessingTimeExecutor: Current batch is falling behind. The trigger interval is 5000 milliseconds, but spent 6181 milliseconds\n"
     ]
    },
    {
     "name": "stdout",
     "output_type": "stream",
     "text": [
      "Batch: 0, No data\n"
     ]
    },
    {
     "name": "stderr",
     "output_type": "stream",
     "text": [
      "                                                                                \r"
     ]
    },
    {
     "name": "stdout",
     "output_type": "stream",
     "text": [
      "Batch: 1, Max value: 24.0\n"
     ]
    },
    {
     "name": "stderr",
     "output_type": "stream",
     "text": [
      "23/06/17 12:54:11 WARN ProcessingTimeExecutor: Current batch is falling behind. The trigger interval is 5000 milliseconds, but spent 6495 milliseconds\n"
     ]
    },
    {
     "name": "stdout",
     "output_type": "stream",
     "text": [
      "Batch: 2, Max value: 24.0\n",
      "Batch: 3, Max value: 36.0\n",
      "Batch: 4, Max value: 50.0\n",
      "Batch: 5, Max value: 57.0\n",
      "Batch: 6, Max value: 57.0\n",
      "Batch: 7, Max value: 48.0\n",
      "Batch: 8, Max value: 53.0\n",
      "Batch: 9, Max value: 48.0\n",
      "Batch: 10, Max value: 39.0\n",
      "Batch: 11, Max value: 39.0\n",
      "Batch: 12, Max value: 42.0\n",
      "Batch: 13, Max value: 59.0\n",
      "Batch: 14, Max value: 50.0\n",
      "Batch: 15, Max value: 39.0\n",
      "Batch: 16, Max value: 23.0\n",
      "Batch: 17, Max value: 22.0\n",
      "Batch: 18, Max value: 28.0\n",
      "Batch: 19, Max value: 32.0\n",
      "Batch: 20, Max value: 34.0\n",
      "Batch: 21, Max value: 29.0\n",
      "Batch: 22, Max value: 23.0\n",
      "Batch: 23, Max value: 20.0\n",
      "Batch: 24, Max value: 22.0\n",
      "Batch: 25, Max value: 35.0\n",
      "Batch: 26, Max value: 59.0\n",
      "Batch: 27, Max value: 63.0\n",
      "Batch: 28, Max value: 57.0\n",
      "Batch: 29, Max value: 30.0\n",
      "Batch: 30, Max value: 38.0\n",
      "Batch: 31, Max value: 38.0\n",
      "Batch: 32, Max value: 33.0\n",
      "Batch: 33, Max value: 61.0\n",
      "Batch: 34, Max value: 60.0\n",
      "Batch: 35, Max value: 22.0\n",
      "Batch: 36, Max value: 13.0\n",
      "Batch: 37, Max value: 34.0\n",
      "Batch: 38, Max value: 40.0\n",
      "Batch: 39, Max value: 45.0\n",
      "Batch: 40, Max value: 52.0\n",
      "Batch: 41, Max value: 58.0\n",
      "Batch: 42, Max value: 34.0\n",
      "Batch: 43, Max value: 25.0\n",
      "Batch: 44, Max value: 28.0\n",
      "Batch: 45, Max value: 23.0\n",
      "Batch: 46, Max value: 60.0\n",
      "Batch: 47, Max value: 64.0\n",
      "Batch: 48, Max value: 30.0\n",
      "Batch: 49, Max value: 31.0\n",
      "Batch: 50, Max value: 34.0\n",
      "Batch: 51, Max value: 20.0\n",
      "Batch: 52, Max value: 18.0\n",
      "Batch: 53, Max value: 33.0\n",
      "Batch: 54, Max value: 33.0\n",
      "Batch: 55, Max value: 21.0\n",
      "Batch: 56, Max value: 19.0\n",
      "Batch: 57, Max value: 16.0\n",
      "Batch: 58, Max value: 21.0\n",
      "Batch: 59, Max value: 23.0\n",
      "Batch: 60, Max value: 35.0\n",
      "Batch: 61, Max value: 19.0\n",
      "Batch: 62, Max value: 30.0\n",
      "Batch: 63, Max value: 56.0\n",
      "Batch: 64, Max value: 51.0\n",
      "ALERT! Batch: 65, Max value: 67.0 exceeded 40!\n",
      "ALERT! Batch: 66, Max value: 73.0 exceeded 40!\n",
      "Batch: 67, Max value: 61.0\n",
      "Batch: 68, Max value: 49.0\n",
      "Batch: 69, Max value: 39.0\n",
      "Batch: 70, Max value: 35.0\n",
      "Batch: 71, Max value: 34.0\n",
      "Batch: 72, Max value: 35.0\n",
      "Batch: 73, Max value: 52.0\n",
      "Batch: 74, Max value: 51.0\n",
      "Batch: 75, Max value: 26.0\n",
      "Batch: 76, Max value: 16.0\n",
      "Batch: 77, Max value: 15.0\n",
      "Batch: 78, Max value: 24.0\n",
      "Batch: 79, Max value: 23.0\n",
      "Batch: 80, Max value: 42.0\n",
      "Batch: 81, Max value: 28.0\n",
      "Batch: 82, Max value: 18.0\n",
      "Batch: 83, Max value: 28.0\n",
      "Batch: 84, Max value: 37.0\n",
      "Batch: 85, Max value: 36.0\n",
      "Batch: 86, Max value: 27.0\n",
      "Batch: 87, Max value: 25.0\n",
      "Batch: 88, Max value: 16.0\n",
      "Batch: 89, Max value: 18.0\n",
      "Batch: 90, Max value: 22.0\n",
      "Batch: 91, Max value: 23.0\n",
      "Batch: 92, Max value: 22.0\n",
      "Batch: 93, Max value: 23.0\n",
      "Batch: 94, Max value: 15.0\n",
      "Batch: 95, Max value: 11.0\n",
      "Batch: 96, Max value: 16.0\n",
      "Batch: 97, Max value: 17.0\n",
      "Batch: 98, Max value: 22.0\n",
      "Batch: 99, Max value: 29.0\n",
      "Batch: 100, Max value: 24.0\n",
      "Batch: 101, Max value: 28.0\n",
      "Batch: 102, Max value: 26.0\n",
      "Batch: 103, Max value: 13.0\n",
      "Batch: 104, Max value: 12.0\n",
      "Batch: 105, Max value: 19.0\n",
      "Batch: 106, Max value: 17.0\n",
      "Batch: 107, Max value: 15.0\n",
      "Batch: 108, Max value: 19.0\n",
      "Batch: 109, Max value: 19.0\n",
      "Batch: 110, Max value: 21.0\n",
      "Batch: 111, Max value: 20.0\n",
      "Batch: 112, Max value: 18.0\n",
      "Batch: 113, Max value: 20.0\n",
      "Batch: 114, Max value: 19.0\n",
      "Batch: 115, Max value: 19.0\n",
      "Batch: 116, Max value: 17.0\n",
      "Batch: 117, Max value: 20.0\n",
      "Batch: 118, Max value: 18.0\n",
      "Batch: 119, Max value: 23.0\n",
      "Batch: 120, Max value: 21.0\n",
      "Batch: 121, Max value: 17.0\n",
      "Batch: 122, Max value: 16.0\n",
      "Batch: 123, Max value: 14.0\n",
      "Batch: 124, Max value: 17.0\n",
      "Batch: 125, Max value: 19.0\n",
      "Batch: 126, Max value: 17.0\n",
      "Batch: 127, Max value: 17.0\n",
      "Batch: 128, Max value: 16.0\n",
      "Batch: 129, Max value: 21.0\n",
      "Batch: 130, Max value: 23.0\n",
      "Batch: 131, Max value: 25.0\n",
      "Batch: 132, Max value: 18.0\n",
      "Batch: 133, Max value: 14.0\n",
      "Batch: 134, Max value: 16.0\n",
      "Batch: 135, Max value: 18.0\n",
      "Batch: 136, Max value: 16.0\n",
      "Batch: 137, Max value: 17.0\n",
      "Batch: 138, Max value: 20.0\n",
      "Batch: 139, Max value: 19.0\n",
      "Batch: 140, Max value: 16.0\n",
      "Batch: 141, Max value: 19.0\n",
      "Batch: 142, Max value: 21.0\n",
      "Batch: 143, Max value: 12.0\n",
      "Batch: 144, Max value: 19.0\n",
      "Batch: 145, Max value: 18.0\n",
      "Batch: 146, Max value: 17.0\n",
      "Batch: 147, Max value: 15.0\n",
      "Batch: 148, Max value: 16.0\n",
      "Batch: 149, Max value: 14.0\n",
      "Batch: 150, Max value: 24.0\n",
      "Batch: 151, Max value: 18.0\n",
      "Batch: 152, Max value: 20.0\n",
      "Batch: 153, Max value: 21.0\n",
      "Batch: 154, Max value: 21.0\n",
      "Batch: 155, Max value: 20.0\n",
      "Batch: 156, Max value: 24.0\n",
      "Batch: 157, Max value: 30.0\n",
      "Batch: 158, Max value: 35.0\n",
      "Batch: 159, Max value: 32.0\n",
      "Batch: 160, Max value: 31.0\n",
      "Batch: 161, Max value: 23.0\n",
      "Batch: 162, Max value: 15.0\n",
      "Batch: 163, Max value: 15.0\n",
      "Batch: 164, Max value: 22.0\n",
      "Batch: 165, Max value: 21.0\n",
      "Batch: 166, Max value: 15.0\n",
      "Batch: 167, Max value: 26.0\n",
      "Batch: 168, Max value: 26.0\n",
      "Batch: 169, Max value: 18.0\n",
      "Batch: 170, Max value: 16.0\n",
      "Batch: 171, Max value: 17.0\n",
      "Batch: 172, Max value: 15.0\n",
      "Batch: 173, Max value: 16.0\n",
      "Batch: 174, Max value: 31.0\n",
      "Batch: 175, Max value: 32.0\n",
      "Batch: 176, Max value: 26.0\n",
      "Batch: 177, Max value: 26.0\n",
      "Batch: 178, Max value: 16.0\n",
      "Batch: 179, Max value: 16.0\n",
      "Batch: 180, Max value: 23.0\n",
      "Batch: 181, Max value: 25.0\n",
      "Batch: 182, Max value: 28.0\n",
      "Batch: 183, Max value: 32.0\n",
      "Batch: 184, Max value: 32.0\n",
      "Batch: 185, Max value: 35.0\n",
      "Batch: 186, Max value: 43.0\n",
      "Batch: 187, Max value: 43.0\n",
      "Batch: 188, Max value: 46.0\n",
      "Batch: 189, Max value: 49.0\n",
      "Batch: 190, Max value: 53.0\n",
      "Batch: 191, Max value: 41.0\n",
      "Batch: 192, Max value: 40.0\n",
      "Batch: 193, Max value: 51.0\n",
      "Batch: 194, Max value: 44.0\n",
      "Batch: 195, Max value: 25.0\n",
      "Batch: 196, Max value: 31.0\n",
      "Batch: 197, Max value: 43.0\n",
      "Batch: 198, Max value: 48.0\n",
      "Batch: 199, Max value: 37.0\n",
      "Batch: 200, Max value: 38.0\n",
      "Batch: 201, Max value: 54.0\n",
      "Batch: 202, Max value: 54.0\n",
      "Batch: 203, Max value: 55.0\n",
      "Batch: 204, Max value: 48.0\n",
      "Batch: 205, Max value: 37.0\n",
      "Batch: 206, Max value: 35.0\n",
      "Batch: 207, Max value: 26.0\n",
      "Batch: 208, Max value: 30.0\n",
      "Batch: 209, Max value: 39.0\n",
      "Batch: 210, Max value: 37.0\n",
      "Batch: 211, Max value: 37.0\n",
      "Batch: 212, Max value: 33.0\n",
      "Batch: 213, Max value: 41.0\n",
      "Batch: 214, Max value: 27.0\n",
      "Batch: 215, Max value: 23.0\n",
      "Batch: 216, Max value: 26.0\n",
      "Batch: 217, Max value: 51.0\n",
      "Batch: 218, Max value: 53.0\n",
      "Batch: 219, Max value: 36.0\n",
      "Batch: 220, Max value: 35.0\n",
      "Batch: 221, Max value: 37.0\n",
      "Batch: 222, Max value: 30.0\n",
      "Batch: 223, Max value: 43.0\n",
      "Batch: 224, Max value: 42.0\n",
      "Batch: 225, Max value: 49.0\n",
      "Batch: 226, Max value: 46.0\n",
      "Batch: 227, Max value: 50.0\n",
      "Batch: 228, Max value: 52.0\n",
      "Batch: 229, Max value: 55.0\n",
      "Batch: 230, Max value: 55.0\n",
      "Batch: 231, Max value: 35.0\n",
      "Batch: 232, Max value: 47.0\n",
      "Batch: 233, Max value: 55.0\n",
      "Batch: 234, Max value: 62.0\n",
      "Batch: 235, Max value: 47.0\n",
      "Batch: 236, Max value: 43.0\n",
      "Batch: 237, Max value: 48.0\n",
      "Batch: 238, Max value: 48.0\n",
      "Batch: 239, Max value: 37.0\n"
     ]
    }
   ],
   "source": [
    "from pyspark.sql import functions as F\n",
    "\n",
    "def max_value(df, epoch_id):\n",
    "    df = df.withColumn(\"value\", df[\"value\"].cast(\"float\"))\n",
    "    max_value = df.agg(F.max(df.value)).collect()[0][0]\n",
    "    if max_value is not None:\n",
    "        if max_value > 65:\n",
    "            print(f\"ALERT! Batch: {epoch_id}, Max value: {max_value} exceeded 40!\")\n",
    "        else:\n",
    "            print(f\"Batch: {epoch_id}, Max value: {max_value}\")\n",
    "    else:\n",
    "        print(f\"Batch: {epoch_id}, No data\")\n",
    "\n",
    "query = final_df.writeStream \\\n",
    "    .foreachBatch(max_value) \\\n",
    "    .outputMode(\"update\") \\\n",
    "    .trigger(processingTime='5 seconds') \\\n",
    "    .start()\n",
    "\n",
    "query.awaitTermination()\n"
   ]
  },
  {
   "cell_type": "code",
   "execution_count": null,
   "id": "4da88b28",
   "metadata": {},
   "outputs": [],
   "source": [
    "query.stop()"
   ]
  },
  {
   "cell_type": "code",
   "execution_count": null,
   "id": "4337452f",
   "metadata": {},
   "outputs": [],
   "source": []
  }
 ],
 "metadata": {
  "kernelspec": {
   "display_name": "Python 3 (ipykernel)",
   "language": "python",
   "name": "python3"
  },
  "language_info": {
   "codemirror_mode": {
    "name": "ipython",
    "version": 3
   },
   "file_extension": ".py",
   "mimetype": "text/x-python",
   "name": "python",
   "nbconvert_exporter": "python",
   "pygments_lexer": "ipython3",
   "version": "3.9.2"
  }
 },
 "nbformat": 4,
 "nbformat_minor": 5
}
