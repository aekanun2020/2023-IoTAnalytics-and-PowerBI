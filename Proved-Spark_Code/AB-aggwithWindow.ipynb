{
 "cells": [
  {
   "cell_type": "code",
   "execution_count": 1,
   "id": "5257c18a",
   "metadata": {},
   "outputs": [
    {
     "name": "stderr",
     "output_type": "stream",
     "text": [
      "Ivy Default Cache set to: /root/.ivy2/cache\n",
      "The jars for the packages stored in: /root/.ivy2/jars\n",
      ":: loading settings :: url = jar:file:/usr/local/lib/python3.9/dist-packages/pyspark/jars/ivy-2.4.0.jar!/org/apache/ivy/core/settings/ivysettings.xml\n",
      "org.apache.spark#spark-sql-kafka-0-10_2.12 added as a dependency\n",
      ":: resolving dependencies :: org.apache.spark#spark-submit-parent-81ce6043-3a2c-4650-9c8e-23026639db7b;1.0\n",
      "\tconfs: [default]\n",
      "\tfound org.apache.spark#spark-sql-kafka-0-10_2.12;3.0.0 in central\n",
      "\tfound org.apache.spark#spark-token-provider-kafka-0-10_2.12;3.0.0 in central\n",
      "\tfound org.apache.kafka#kafka-clients;2.4.1 in central\n",
      "\tfound com.github.luben#zstd-jni;1.4.4-3 in central\n",
      "\tfound org.lz4#lz4-java;1.7.1 in central\n",
      "\tfound org.xerial.snappy#snappy-java;1.1.7.5 in central\n",
      "\tfound org.slf4j#slf4j-api;1.7.30 in central\n",
      "\tfound org.spark-project.spark#unused;1.0.0 in central\n",
      "\tfound org.apache.commons#commons-pool2;2.6.2 in central\n",
      ":: resolution report :: resolve 607ms :: artifacts dl 14ms\n",
      "\t:: modules in use:\n",
      "\tcom.github.luben#zstd-jni;1.4.4-3 from central in [default]\n",
      "\torg.apache.commons#commons-pool2;2.6.2 from central in [default]\n",
      "\torg.apache.kafka#kafka-clients;2.4.1 from central in [default]\n",
      "\torg.apache.spark#spark-sql-kafka-0-10_2.12;3.0.0 from central in [default]\n",
      "\torg.apache.spark#spark-token-provider-kafka-0-10_2.12;3.0.0 from central in [default]\n",
      "\torg.lz4#lz4-java;1.7.1 from central in [default]\n",
      "\torg.slf4j#slf4j-api;1.7.30 from central in [default]\n",
      "\torg.spark-project.spark#unused;1.0.0 from central in [default]\n",
      "\torg.xerial.snappy#snappy-java;1.1.7.5 from central in [default]\n",
      "\t---------------------------------------------------------------------\n",
      "\t|                  |            modules            ||   artifacts   |\n",
      "\t|       conf       | number| search|dwnlded|evicted|| number|dwnlded|\n",
      "\t---------------------------------------------------------------------\n",
      "\t|      default     |   9   |   0   |   0   |   0   ||   9   |   0   |\n",
      "\t---------------------------------------------------------------------\n",
      ":: retrieving :: org.apache.spark#spark-submit-parent-81ce6043-3a2c-4650-9c8e-23026639db7b\n",
      "\tconfs: [default]\n",
      "\t0 artifacts copied, 9 already retrieved (0kB/12ms)\n",
      "23/06/19 15:32:43 WARN NativeCodeLoader: Unable to load native-hadoop library for your platform... using builtin-java classes where applicable\n",
      "Using Spark's default log4j profile: org/apache/spark/log4j-defaults.properties\n",
      "Setting default log level to \"WARN\".\n",
      "To adjust logging level use sc.setLogLevel(newLevel). For SparkR, use setLogLevel(newLevel).\n"
     ]
    }
   ],
   "source": [
    "# ปรับแต่งค่าการทำงานของ Spark\n",
    "from pyspark.sql import SparkSession\n",
    "\n",
    "spark = SparkSession.\\\n",
    "        builder.\\\n",
    "        appName(\"KafkaSubscribe\").\\\n",
    "        master(\"spark://spark-master:7077\").\\\n",
    "        config(\"spark.executor.memory\", \"1000m\").\\\n",
    "        config(\"spark.executor.cores\", \"2\").\\\n",
    "        config(\"spark.cores.max\", \"6\").\\\n",
    "        config(\"spark.jars.packages\", \"org.apache.spark:spark-sql-kafka-0-10_2.12:3.0.0\").\\\n",
    "        getOrCreate()\n",
    "\n"
   ]
  },
  {
   "cell_type": "code",
   "execution_count": 2,
   "id": "934f64f0",
   "metadata": {},
   "outputs": [],
   "source": [
    "rawMetadata_df = spark \\\n",
    "  .readStream \\\n",
    "  .format(\"kafka\") \\\n",
    "  .option(\"kafka.bootstrap.servers\", \"10.128.0.12:9092\") \\\n",
    "  .option(\"subscribe\", \"quickstart-events\") \\\n",
    "  .option(\"group.id\", \"Aekanun-Spark-App\") \\\n",
    "  .load()"
   ]
  },
  {
   "cell_type": "code",
   "execution_count": 3,
   "id": "b1f9ca7d",
   "metadata": {},
   "outputs": [],
   "source": [
    "from pyspark.sql import functions as sparkf"
   ]
  },
  {
   "cell_type": "code",
   "execution_count": 4,
   "id": "b4e46f40",
   "metadata": {},
   "outputs": [
    {
     "name": "stdout",
     "output_type": "stream",
     "text": [
      "root\n",
      " |-- key: binary (nullable = true)\n",
      " |-- value: binary (nullable = true)\n",
      " |-- topic: string (nullable = true)\n",
      " |-- partition: integer (nullable = true)\n",
      " |-- offset: long (nullable = true)\n",
      " |-- timestamp: timestamp (nullable = true)\n",
      " |-- timestampType: integer (nullable = true)\n",
      "\n"
     ]
    }
   ],
   "source": [
    "rawMetadata_df.printSchema()"
   ]
  },
  {
   "cell_type": "code",
   "execution_count": 5,
   "id": "9f770f30",
   "metadata": {},
   "outputs": [],
   "source": [
    "# เลือกเฉพาะคอลัมน์ที่ต้องการ\n",
    "onlyMetadata_df = rawMetadata_df.selectExpr(\"CAST(key AS STRING)\", \"CAST(value AS STRING)\")"
   ]
  },
  {
   "cell_type": "code",
   "execution_count": 6,
   "id": "9187686b",
   "metadata": {},
   "outputs": [],
   "source": [
    "from pyspark.sql.types import *\n",
    "from pyspark.sql.functions import from_json, col\n",
    "\n",
    "# Main schema\n",
    "schema = StructType([\n",
    "    StructField(\"locationId\", StringType()),\n",
    "    StructField(\"location\", StringType()),\n",
    "    StructField(\"parameter\", StringType()),\n",
    "    StructField(\"value\", StringType()),\n",
    "    StructField(\"date\", StringType()),\n",
    "    StructField(\"unit\", StringType()),\n",
    "    StructField(\"coordinates\", StringType()),\n",
    "    StructField(\"country\", StringType()),\n",
    "    StructField(\"city\", StringType()),\n",
    "    StructField(\"isMobile\", StringType()),\n",
    "    StructField(\"isAnalysis\", StringType()),\n",
    "    StructField(\"entity\", StringType()),\n",
    "    StructField(\"sensorType\", StringType())\n",
    "])\n",
    "\n",
    "# Nested 'date' and 'coordinates' schema\n",
    "date_schema = StructType([\n",
    "    StructField(\"utc\", StringType()),\n",
    "    StructField(\"local\", StringType())\n",
    "])\n",
    "\n",
    "coordinates_schema = StructType([\n",
    "    StructField(\"latitude\", DoubleType()),\n",
    "    StructField(\"longitude\", DoubleType())\n",
    "])\n",
    "\n",
    "# Parse the JSON string column and convert it to a struct.\n",
    "parsedData_df = onlyMetadata_df.withColumn(\"data\", from_json(\"value\", schema))"
   ]
  },
  {
   "cell_type": "code",
   "execution_count": 7,
   "id": "79581445",
   "metadata": {},
   "outputs": [
    {
     "name": "stdout",
     "output_type": "stream",
     "text": [
      "root\n",
      " |-- key: string (nullable = true)\n",
      " |-- value: string (nullable = true)\n",
      " |-- data: struct (nullable = true)\n",
      " |    |-- locationId: string (nullable = true)\n",
      " |    |-- location: string (nullable = true)\n",
      " |    |-- parameter: string (nullable = true)\n",
      " |    |-- value: string (nullable = true)\n",
      " |    |-- date: string (nullable = true)\n",
      " |    |-- unit: string (nullable = true)\n",
      " |    |-- coordinates: string (nullable = true)\n",
      " |    |-- country: string (nullable = true)\n",
      " |    |-- city: string (nullable = true)\n",
      " |    |-- isMobile: string (nullable = true)\n",
      " |    |-- isAnalysis: string (nullable = true)\n",
      " |    |-- entity: string (nullable = true)\n",
      " |    |-- sensorType: string (nullable = true)\n",
      "\n"
     ]
    }
   ],
   "source": [
    "parsedData_df.printSchema()"
   ]
  },
  {
   "cell_type": "code",
   "execution_count": 8,
   "id": "ee561943",
   "metadata": {},
   "outputs": [],
   "source": [
    "# Select only the nested fields\n",
    "unNested_df = parsedData_df.select(\"key\", \"data.*\")"
   ]
  },
  {
   "cell_type": "code",
   "execution_count": 9,
   "id": "523dd896",
   "metadata": {},
   "outputs": [
    {
     "name": "stdout",
     "output_type": "stream",
     "text": [
      "root\n",
      " |-- key: string (nullable = true)\n",
      " |-- locationId: string (nullable = true)\n",
      " |-- location: string (nullable = true)\n",
      " |-- parameter: string (nullable = true)\n",
      " |-- value: string (nullable = true)\n",
      " |-- date: string (nullable = true)\n",
      " |-- unit: string (nullable = true)\n",
      " |-- coordinates: string (nullable = true)\n",
      " |-- country: string (nullable = true)\n",
      " |-- city: string (nullable = true)\n",
      " |-- isMobile: string (nullable = true)\n",
      " |-- isAnalysis: string (nullable = true)\n",
      " |-- entity: string (nullable = true)\n",
      " |-- sensorType: string (nullable = true)\n",
      "\n"
     ]
    }
   ],
   "source": [
    "unNested_df.printSchema()"
   ]
  },
  {
   "cell_type": "code",
   "execution_count": 10,
   "id": "1bc38b06",
   "metadata": {},
   "outputs": [
    {
     "name": "stdout",
     "output_type": "stream",
     "text": [
      "root\n",
      " |-- key: string (nullable = true)\n",
      " |-- locationId: string (nullable = true)\n",
      " |-- location: string (nullable = true)\n",
      " |-- parameter: string (nullable = true)\n",
      " |-- value: string (nullable = true)\n",
      " |-- date: struct (nullable = true)\n",
      " |    |-- utc: string (nullable = true)\n",
      " |    |-- local: string (nullable = true)\n",
      " |-- unit: string (nullable = true)\n",
      " |-- coordinates: struct (nullable = true)\n",
      " |    |-- latitude: double (nullable = true)\n",
      " |    |-- longitude: double (nullable = true)\n",
      " |-- country: string (nullable = true)\n",
      " |-- city: string (nullable = true)\n",
      " |-- isMobile: string (nullable = true)\n",
      " |-- isAnalysis: string (nullable = true)\n",
      " |-- entity: string (nullable = true)\n",
      " |-- sensorType: string (nullable = true)\n",
      " |-- data: struct (nullable = true)\n",
      " |    |-- locationId: string (nullable = true)\n",
      " |    |-- location: string (nullable = true)\n",
      " |    |-- parameter: string (nullable = true)\n",
      " |    |-- value: string (nullable = true)\n",
      " |    |-- date: string (nullable = true)\n",
      " |    |-- unit: string (nullable = true)\n",
      " |    |-- coordinates: string (nullable = true)\n",
      " |    |-- country: string (nullable = true)\n",
      " |    |-- city: string (nullable = true)\n",
      " |    |-- isMobile: string (nullable = true)\n",
      " |    |-- isAnalysis: string (nullable = true)\n",
      " |    |-- entity: string (nullable = true)\n",
      " |    |-- sensorType: string (nullable = true)\n",
      "\n"
     ]
    }
   ],
   "source": [
    "# Parse the JSON string column and convert it to a struct.\n",
    "unNested_df.withColumn(\"data\", from_json(\"value\", schema))\\\n",
    ".withColumn(\"date\", from_json(\"date\", date_schema))\\\n",
    ".withColumn(\"coordinates\", from_json(\"coordinates\", coordinates_schema))\\\n",
    ".printSchema()"
   ]
  },
  {
   "cell_type": "code",
   "execution_count": 11,
   "id": "a6f9c66e",
   "metadata": {},
   "outputs": [],
   "source": [
    "extractedDateLatLong_df = unNested_df.withColumn(\"data\", from_json(\"value\", schema))\\\n",
    ".withColumn(\"date\", from_json(\"date\", date_schema))\\\n",
    ".withColumn(\"coordinates\", from_json(\"coordinates\", coordinates_schema))\\\n",
    ".select('key',\n",
    " 'locationId',\n",
    " 'location',\n",
    " 'parameter',\n",
    " 'value',\n",
    " 'date.*',\n",
    " 'unit',\n",
    " 'coordinates.*',\n",
    " 'country',\n",
    " 'city',\n",
    " 'isMobile',\n",
    " 'isAnalysis',\n",
    " 'entity',\n",
    " 'sensorType')"
   ]
  },
  {
   "cell_type": "code",
   "execution_count": 12,
   "id": "22493643",
   "metadata": {},
   "outputs": [
    {
     "name": "stdout",
     "output_type": "stream",
     "text": [
      "root\n",
      " |-- key: string (nullable = true)\n",
      " |-- locationId: string (nullable = true)\n",
      " |-- location: string (nullable = true)\n",
      " |-- parameter: string (nullable = true)\n",
      " |-- value: string (nullable = true)\n",
      " |-- utc: string (nullable = true)\n",
      " |-- local: string (nullable = true)\n",
      " |-- unit: string (nullable = true)\n",
      " |-- latitude: double (nullable = true)\n",
      " |-- longitude: double (nullable = true)\n",
      " |-- country: string (nullable = true)\n",
      " |-- city: string (nullable = true)\n",
      " |-- isMobile: string (nullable = true)\n",
      " |-- isAnalysis: string (nullable = true)\n",
      " |-- entity: string (nullable = true)\n",
      " |-- sensorType: string (nullable = true)\n",
      "\n"
     ]
    }
   ],
   "source": [
    "extractedDateLatLong_df.printSchema()"
   ]
  },
  {
   "cell_type": "code",
   "execution_count": 13,
   "id": "2488059e",
   "metadata": {},
   "outputs": [],
   "source": [
    "final_df = extractedDateLatLong_df\\\n",
    ".withColumn('sourceUnixSTP',sparkf.to_timestamp(sparkf.col('utc'), \"yyyy-MM-dd'T'HH:mm:ssXXX\"))"
   ]
  },
  {
   "cell_type": "code",
   "execution_count": 14,
   "id": "28dd96bd",
   "metadata": {},
   "outputs": [
    {
     "data": {
      "text/plain": [
       "['key',\n",
       " 'locationId',\n",
       " 'location',\n",
       " 'parameter',\n",
       " 'value',\n",
       " 'utc',\n",
       " 'local',\n",
       " 'unit',\n",
       " 'latitude',\n",
       " 'longitude',\n",
       " 'country',\n",
       " 'city',\n",
       " 'isMobile',\n",
       " 'isAnalysis',\n",
       " 'entity',\n",
       " 'sensorType',\n",
       " 'sourceUnixSTP']"
      ]
     },
     "execution_count": 14,
     "metadata": {},
     "output_type": "execute_result"
    }
   ],
   "source": [
    "final_df.columns"
   ]
  },
  {
   "cell_type": "code",
   "execution_count": 15,
   "id": "8bb5ad14",
   "metadata": {},
   "outputs": [
    {
     "name": "stdout",
     "output_type": "stream",
     "text": [
      "root\n",
      " |-- key: string (nullable = true)\n",
      " |-- locationId: string (nullable = true)\n",
      " |-- location: string (nullable = true)\n",
      " |-- parameter: string (nullable = true)\n",
      " |-- value: string (nullable = true)\n",
      " |-- utc: string (nullable = true)\n",
      " |-- local: string (nullable = true)\n",
      " |-- unit: string (nullable = true)\n",
      " |-- latitude: double (nullable = true)\n",
      " |-- longitude: double (nullable = true)\n",
      " |-- country: string (nullable = true)\n",
      " |-- city: string (nullable = true)\n",
      " |-- isMobile: string (nullable = true)\n",
      " |-- isAnalysis: string (nullable = true)\n",
      " |-- entity: string (nullable = true)\n",
      " |-- sensorType: string (nullable = true)\n",
      " |-- sourceUnixSTP: timestamp (nullable = true)\n",
      "\n"
     ]
    }
   ],
   "source": [
    "final_df.printSchema()"
   ]
  },
  {
   "cell_type": "code",
   "execution_count": 16,
   "id": "80d3a6e4",
   "metadata": {},
   "outputs": [],
   "source": [
    "#agg_df = final_df.groupBy('value').agg(sparkf.max(sparkf.col('value')))"
   ]
  },
  {
   "cell_type": "code",
   "execution_count": 17,
   "id": "87489afd",
   "metadata": {},
   "outputs": [],
   "source": [
    "from pyspark.sql import functions as F"
   ]
  },
  {
   "cell_type": "code",
   "execution_count": null,
   "id": "bf1d5468",
   "metadata": {},
   "outputs": [
    {
     "name": "stderr",
     "output_type": "stream",
     "text": [
      "23/06/19 15:32:54 WARN StreamingQueryManager: Temporary checkpoint location created which is deleted normally when the query didn't fail: /tmp/temporary-8f7fb605-8335-4003-90d0-ab53a1680e77. If it's required to delete it under any circumstances, please set spark.sql.streaming.forceDeleteTempCheckpointLocation to true. Important to know deleting temp checkpoint folder is best effort.\n",
      "                                                                                \r"
     ]
    },
    {
     "name": "stdout",
     "output_type": "stream",
     "text": [
      "-------------------------------------------\n",
      "Batch: 0\n",
      "-------------------------------------------\n",
      "+------+-----+-----+\n",
      "|window|value|count|\n",
      "+------+-----+-----+\n",
      "+------+-----+-----+\n",
      "\n"
     ]
    },
    {
     "name": "stderr",
     "output_type": "stream",
     "text": [
      "                                                                                \r"
     ]
    },
    {
     "name": "stdout",
     "output_type": "stream",
     "text": [
      "-------------------------------------------\n",
      "Batch: 1\n",
      "-------------------------------------------\n",
      "+--------------------+-----+-----+\n",
      "|              window|value|count|\n",
      "+--------------------+-----+-----+\n",
      "|[2022-03-31 12:00...| 23.0|    1|\n",
      "|[2022-03-31 12:00...| 29.0|    1|\n",
      "|[2022-03-29 00:00...| 19.0|   14|\n",
      "|[2022-04-03 00:00...| 15.0|    3|\n",
      "|[2022-03-29 00:00...| 16.0|   12|\n",
      "|[2022-03-31 12:00...| 16.0|    1|\n",
      "|[2022-03-31 12:00...| 32.0|    1|\n",
      "|[2022-03-31 12:00...| 34.0|    1|\n",
      "|[2022-03-29 00:00...| 15.0|    5|\n",
      "|[2022-03-31 12:00...| 35.0|    2|\n",
      "|[2022-03-29 00:00...| 22.0|    1|\n",
      "|[2022-04-03 00:00...| 17.0|    1|\n",
      "|[2022-03-31 12:00...| 24.0|    2|\n",
      "|[2022-03-31 12:00...| 14.0|    3|\n",
      "|[2022-03-31 12:00...| 28.0|    1|\n",
      "|[2022-04-03 00:00...| 12.0|    3|\n",
      "|[2022-03-29 00:00...| 21.0|    3|\n",
      "|[2022-04-03 00:00...| 13.0|    9|\n",
      "|[2022-03-31 12:00...| 27.0|    1|\n",
      "|[2022-03-31 12:00...| 25.0|    2|\n",
      "+--------------------+-----+-----+\n",
      "only showing top 20 rows\n",
      "\n"
     ]
    },
    {
     "name": "stderr",
     "output_type": "stream",
     "text": [
      "                                                                                \r"
     ]
    },
    {
     "name": "stdout",
     "output_type": "stream",
     "text": [
      "-------------------------------------------\n",
      "Batch: 2\n",
      "-------------------------------------------\n",
      "+--------------------+-----+-----+\n",
      "|              window|value|count|\n",
      "+--------------------+-----+-----+\n",
      "|[2022-03-31 12:00...| 23.0|    1|\n",
      "|[2022-03-31 12:00...| 29.0|    1|\n",
      "|[2022-03-29 00:00...| 19.0|   14|\n",
      "|[2022-04-05 12:00...| 32.0|    1|\n",
      "|[2022-04-05 12:00...| 49.0|    1|\n",
      "|[2022-04-03 00:00...| 15.0|    3|\n",
      "|[2022-04-03 00:00...| 31.0|    3|\n",
      "|[2022-04-03 00:00...| 24.0|    4|\n",
      "|[2022-04-03 00:00...| 21.0|    1|\n",
      "|[2022-03-29 00:00...| 16.0|   12|\n",
      "|[2022-03-31 12:00...| 16.0|    1|\n",
      "|[2022-04-05 12:00...| 38.0|    1|\n",
      "|[2022-03-31 12:00...| 32.0|    1|\n",
      "|[2022-04-03 00:00...| 25.0|    5|\n",
      "|[2022-03-31 12:00...| 34.0|    1|\n",
      "|[2022-03-29 00:00...| 15.0|    5|\n",
      "|[2022-04-05 12:00...| 34.0|    2|\n",
      "|[2022-03-29 00:00...| 22.0|    1|\n",
      "|[2022-03-31 12:00...| 35.0|    2|\n",
      "|[2022-04-03 00:00...| 17.0|    2|\n",
      "+--------------------+-----+-----+\n",
      "only showing top 20 rows\n",
      "\n"
     ]
    },
    {
     "name": "stderr",
     "output_type": "stream",
     "text": [
      "                                                                                \r"
     ]
    },
    {
     "name": "stdout",
     "output_type": "stream",
     "text": [
      "-------------------------------------------\n",
      "Batch: 3\n",
      "-------------------------------------------\n",
      "+--------------------+-----+-----+\n",
      "|              window|value|count|\n",
      "+--------------------+-----+-----+\n",
      "|[2022-03-31 12:00...| 23.0|    1|\n",
      "|[2022-03-31 12:00...| 29.0|    1|\n",
      "|[2022-03-29 00:00...| 19.0|   14|\n",
      "|[2022-04-05 12:00...| 32.0|    1|\n",
      "|[2022-04-05 12:00...| 49.0|    2|\n",
      "|[2022-04-05 12:00...| 56.0|    4|\n",
      "|[2022-04-05 12:00...| 50.0|    7|\n",
      "|[2022-04-03 00:00...| 15.0|    3|\n",
      "|[2022-04-03 00:00...| 31.0|    3|\n",
      "|[2022-04-05 12:00...| 41.0|    1|\n",
      "|[2022-04-03 00:00...| 24.0|    4|\n",
      "|[2022-04-03 00:00...| 21.0|    1|\n",
      "|[2022-04-05 12:00...| 54.0|    2|\n",
      "|[2022-03-29 00:00...| 16.0|   12|\n",
      "|[2022-03-31 12:00...| 16.0|    1|\n",
      "|[2022-04-05 12:00...| 38.0|    4|\n",
      "|[2022-03-31 12:00...| 32.0|    1|\n",
      "|[2022-04-08 00:00...| 51.0|    1|\n",
      "|[2022-04-03 00:00...| 25.0|    5|\n",
      "|[2022-03-31 12:00...| 34.0|    1|\n",
      "+--------------------+-----+-----+\n",
      "only showing top 20 rows\n",
      "\n"
     ]
    },
    {
     "name": "stderr",
     "output_type": "stream",
     "text": [
      "                                                                                \r"
     ]
    },
    {
     "name": "stdout",
     "output_type": "stream",
     "text": [
      "-------------------------------------------\n",
      "Batch: 4\n",
      "-------------------------------------------\n",
      "+--------------------+-----+-----+\n",
      "|              window|value|count|\n",
      "+--------------------+-----+-----+\n",
      "|[2022-03-31 12:00...| 23.0|    1|\n",
      "|[2022-04-08 00:00...| 64.0|    2|\n",
      "|[2022-03-31 12:00...| 29.0|    1|\n",
      "|[2022-03-29 00:00...| 19.0|   14|\n",
      "|[2022-04-05 12:00...| 32.0|    1|\n",
      "|[2022-04-05 12:00...| 49.0|    2|\n",
      "|[2022-04-08 00:00...| 55.0|    2|\n",
      "|[2022-04-05 12:00...| 56.0|    4|\n",
      "|[2022-04-08 00:00...| 65.0|    1|\n",
      "|[2022-04-08 00:00...| 67.0|    2|\n",
      "|[2022-04-05 12:00...| 50.0|    7|\n",
      "|[2022-04-03 00:00...| 15.0|    3|\n",
      "|[2022-04-03 00:00...| 31.0|    3|\n",
      "|[2022-04-05 12:00...| 41.0|    1|\n",
      "|[2022-04-03 00:00...| 24.0|    4|\n",
      "|[2022-04-05 12:00...| 54.0|    2|\n",
      "|[2022-04-03 00:00...| 21.0|    1|\n",
      "|[2022-04-08 00:00...| 62.0|    2|\n",
      "|[2022-03-29 00:00...| 16.0|   12|\n",
      "|[2022-03-31 12:00...| 16.0|    1|\n",
      "+--------------------+-----+-----+\n",
      "only showing top 20 rows\n",
      "\n"
     ]
    },
    {
     "name": "stderr",
     "output_type": "stream",
     "text": [
      "                                                                                \r"
     ]
    },
    {
     "name": "stdout",
     "output_type": "stream",
     "text": [
      "-------------------------------------------\n",
      "Batch: 5\n",
      "-------------------------------------------\n",
      "+--------------------+-----+-----+\n",
      "|              window|value|count|\n",
      "+--------------------+-----+-----+\n",
      "|[2022-03-31 12:00...| 23.0|    1|\n",
      "|[2022-04-08 00:00...| 64.0|    2|\n",
      "|[2022-03-31 12:00...| 29.0|    1|\n",
      "|[2022-04-10 12:00...| 63.0|    1|\n",
      "|[2022-03-29 00:00...| 19.0|   14|\n",
      "|[2022-04-05 12:00...| 32.0|    1|\n",
      "|[2022-04-05 12:00...| 49.0|    2|\n",
      "|[2022-04-08 00:00...| 55.0|    2|\n",
      "|[2022-04-05 12:00...| 56.0|    4|\n",
      "|[2022-04-08 00:00...| 65.0|    1|\n",
      "|[2022-04-08 00:00...| 67.0|    2|\n",
      "|[2022-04-05 12:00...| 50.0|    7|\n",
      "|[2022-04-03 00:00...| 15.0|    3|\n",
      "|[2022-04-03 00:00...| 31.0|    3|\n",
      "|[2022-04-05 12:00...| 41.0|    1|\n",
      "|[2022-04-03 00:00...| 24.0|    4|\n",
      "|[2022-04-05 12:00...| 54.0|    2|\n",
      "|[2022-04-03 00:00...| 21.0|    1|\n",
      "|[2022-04-08 00:00...| 62.0|    2|\n",
      "|[2022-03-29 00:00...| 16.0|   12|\n",
      "+--------------------+-----+-----+\n",
      "only showing top 20 rows\n",
      "\n"
     ]
    },
    {
     "name": "stderr",
     "output_type": "stream",
     "text": [
      "                                                                                \r"
     ]
    },
    {
     "name": "stdout",
     "output_type": "stream",
     "text": [
      "-------------------------------------------\n",
      "Batch: 6\n",
      "-------------------------------------------\n",
      "+--------------------+-----+-----+\n",
      "|              window|value|count|\n",
      "+--------------------+-----+-----+\n",
      "|[2022-03-31 12:00...| 23.0|    1|\n",
      "|[2022-04-08 00:00...| 64.0|    2|\n",
      "|[2022-03-31 12:00...| 29.0|    1|\n",
      "|[2022-04-10 12:00...| 63.0|    1|\n",
      "|[2022-03-29 00:00...| 19.0|   14|\n",
      "|[2022-04-05 12:00...| 32.0|    1|\n",
      "|[2022-04-05 12:00...| 49.0|    2|\n",
      "|[2022-04-08 00:00...| 55.0|    2|\n",
      "|[2022-04-05 12:00...| 56.0|    4|\n",
      "|[2022-04-08 00:00...| 65.0|    1|\n",
      "|[2022-04-08 00:00...| 67.0|    2|\n",
      "|[2022-04-05 12:00...| 50.0|    7|\n",
      "|[2022-04-03 00:00...| 15.0|    3|\n",
      "|[2022-04-03 00:00...| 31.0|    3|\n",
      "|[2022-04-05 12:00...| 41.0|    1|\n",
      "|[2022-04-03 00:00...| 24.0|    4|\n",
      "|[2022-04-05 12:00...| 54.0|    2|\n",
      "|[2022-04-03 00:00...| 21.0|    1|\n",
      "|[2022-04-08 00:00...| 62.0|    2|\n",
      "|[2022-03-29 00:00...| 16.0|   12|\n",
      "+--------------------+-----+-----+\n",
      "only showing top 20 rows\n",
      "\n"
     ]
    },
    {
     "name": "stderr",
     "output_type": "stream",
     "text": [
      "                                                                                \r"
     ]
    },
    {
     "name": "stdout",
     "output_type": "stream",
     "text": [
      "-------------------------------------------\n",
      "Batch: 7\n",
      "-------------------------------------------\n",
      "+--------------------+-----+-----+\n",
      "|              window|value|count|\n",
      "+--------------------+-----+-----+\n",
      "|[2022-03-31 12:00...| 23.0|    1|\n",
      "|[2022-04-08 00:00...| 64.0|    2|\n",
      "|[2022-03-31 12:00...| 29.0|    1|\n",
      "|[2022-04-10 12:00...| 63.0|    1|\n",
      "|[2022-03-29 00:00...| 19.0|   14|\n",
      "|[2022-04-05 12:00...| 32.0|    1|\n",
      "|[2022-04-05 12:00...| 49.0|    2|\n",
      "|[2022-04-08 00:00...| 55.0|    2|\n",
      "|[2022-04-05 12:00...| 56.0|    4|\n",
      "|[2022-04-08 00:00...| 65.0|    1|\n",
      "|[2022-04-08 00:00...| 67.0|    2|\n",
      "|[2022-04-13 00:00...| 46.0|    1|\n",
      "|[2022-04-05 12:00...| 50.0|    7|\n",
      "|[2022-04-03 00:00...| 15.0|    3|\n",
      "|[2022-04-03 00:00...| 31.0|    3|\n",
      "|[2022-04-05 12:00...| 41.0|    1|\n",
      "|[2022-04-03 00:00...| 24.0|    4|\n",
      "|[2022-04-05 12:00...| 54.0|    2|\n",
      "|[2022-04-03 00:00...| 21.0|    1|\n",
      "|[2022-04-08 00:00...| 62.0|    2|\n",
      "+--------------------+-----+-----+\n",
      "only showing top 20 rows\n",
      "\n"
     ]
    },
    {
     "name": "stderr",
     "output_type": "stream",
     "text": [
      "                                                                                \r"
     ]
    },
    {
     "name": "stdout",
     "output_type": "stream",
     "text": [
      "-------------------------------------------\n",
      "Batch: 8\n",
      "-------------------------------------------\n",
      "+--------------------+-----+-----+\n",
      "|              window|value|count|\n",
      "+--------------------+-----+-----+\n",
      "|[2022-03-31 12:00...| 23.0|    1|\n",
      "|[2022-04-08 00:00...| 64.0|    2|\n",
      "|[2022-03-31 12:00...| 29.0|    1|\n",
      "|[2022-04-10 12:00...| 63.0|    1|\n",
      "|[2022-03-29 00:00...| 19.0|   14|\n",
      "|[2022-04-05 12:00...| 32.0|    1|\n",
      "|[2022-04-05 12:00...| 49.0|    2|\n",
      "|[2022-04-08 00:00...| 55.0|    2|\n",
      "|[2022-04-05 12:00...| 56.0|    4|\n",
      "|[2022-04-13 00:00...| 39.0|    3|\n",
      "|[2022-04-08 00:00...| 65.0|    1|\n",
      "|[2022-04-08 00:00...| 67.0|    2|\n",
      "|[2022-04-13 00:00...| 46.0|    1|\n",
      "|[2022-04-05 12:00...| 50.0|    7|\n",
      "|[2022-04-03 00:00...| 15.0|    3|\n",
      "|[2022-04-03 00:00...| 31.0|    3|\n",
      "|[2022-04-05 12:00...| 41.0|    1|\n",
      "|[2022-04-03 00:00...| 24.0|    4|\n",
      "|[2022-04-05 12:00...| 54.0|    2|\n",
      "|[2022-04-03 00:00...| 21.0|    1|\n",
      "+--------------------+-----+-----+\n",
      "only showing top 20 rows\n",
      "\n"
     ]
    },
    {
     "name": "stderr",
     "output_type": "stream",
     "text": [
      "                                                                                \r"
     ]
    },
    {
     "name": "stdout",
     "output_type": "stream",
     "text": [
      "-------------------------------------------\n",
      "Batch: 9\n",
      "-------------------------------------------\n",
      "+--------------------+-----+-----+\n",
      "|              window|value|count|\n",
      "+--------------------+-----+-----+\n",
      "|[2022-03-31 12:00...| 23.0|    1|\n",
      "|[2022-04-08 00:00...| 64.0|    2|\n",
      "|[2022-03-31 12:00...| 29.0|    1|\n",
      "|[2022-04-10 12:00...| 63.0|    1|\n",
      "|[2022-03-29 00:00...| 19.0|   14|\n",
      "|[2022-04-05 12:00...| 32.0|    1|\n",
      "|[2022-04-05 12:00...| 49.0|    2|\n",
      "|[2022-04-08 00:00...| 55.0|    2|\n",
      "|[2022-04-05 12:00...| 56.0|    4|\n",
      "|[2022-04-13 00:00...| 39.0|    3|\n",
      "|[2022-04-08 00:00...| 65.0|    1|\n",
      "|[2022-04-08 00:00...| 67.0|    2|\n",
      "|[2022-04-13 00:00...| 46.0|    1|\n",
      "|[2022-04-05 12:00...| 50.0|    7|\n",
      "|[2022-04-03 00:00...| 15.0|    3|\n",
      "|[2022-04-03 00:00...| 31.0|    3|\n",
      "|[2022-04-05 12:00...| 41.0|    1|\n",
      "|[2022-04-03 00:00...| 24.0|    4|\n",
      "|[2022-04-05 12:00...| 54.0|    2|\n",
      "|[2022-04-03 00:00...| 21.0|    1|\n",
      "+--------------------+-----+-----+\n",
      "only showing top 20 rows\n",
      "\n"
     ]
    },
    {
     "name": "stderr",
     "output_type": "stream",
     "text": [
      "                                                                                \r"
     ]
    },
    {
     "name": "stdout",
     "output_type": "stream",
     "text": [
      "-------------------------------------------\n",
      "Batch: 10\n",
      "-------------------------------------------\n",
      "+--------------------+-----+-----+\n",
      "|              window|value|count|\n",
      "+--------------------+-----+-----+\n",
      "|[2022-03-31 12:00...| 23.0|    1|\n",
      "|[2022-04-08 00:00...| 64.0|    2|\n",
      "|[2022-03-31 12:00...| 29.0|    1|\n",
      "|[2022-04-10 12:00...| 63.0|    1|\n",
      "|[2022-03-29 00:00...| 19.0|   14|\n",
      "|[2022-04-05 12:00...| 32.0|    1|\n",
      "|[2022-04-05 12:00...| 49.0|    2|\n",
      "|[2022-04-08 00:00...| 55.0|    2|\n",
      "|[2022-04-15 12:00...| 32.0|    6|\n",
      "|[2022-04-05 12:00...| 56.0|    4|\n",
      "|[2022-04-13 00:00...| 39.0|    3|\n",
      "|[2022-04-08 00:00...| 65.0|    1|\n",
      "|[2022-04-08 00:00...| 67.0|    2|\n",
      "|[2022-04-13 00:00...| 46.0|    1|\n",
      "|[2022-04-05 12:00...| 50.0|    7|\n",
      "|[2022-04-03 00:00...| 15.0|    3|\n",
      "|[2022-04-03 00:00...| 31.0|    3|\n",
      "|[2022-04-05 12:00...| 41.0|    1|\n",
      "|[2022-04-03 00:00...| 24.0|    4|\n",
      "|[2022-04-05 12:00...| 54.0|    2|\n",
      "+--------------------+-----+-----+\n",
      "only showing top 20 rows\n",
      "\n"
     ]
    },
    {
     "name": "stderr",
     "output_type": "stream",
     "text": [
      "                                                                                \r"
     ]
    },
    {
     "name": "stdout",
     "output_type": "stream",
     "text": [
      "-------------------------------------------\n",
      "Batch: 11\n",
      "-------------------------------------------\n",
      "+--------------------+-----+-----+\n",
      "|              window|value|count|\n",
      "+--------------------+-----+-----+\n",
      "|[2022-03-31 12:00...| 23.0|    1|\n",
      "|[2022-04-08 00:00...| 64.0|    2|\n",
      "|[2022-03-31 12:00...| 29.0|    1|\n",
      "|[2022-04-10 12:00...| 63.0|    1|\n",
      "|[2022-03-29 00:00...| 19.0|   14|\n",
      "|[2022-04-05 12:00...| 32.0|    1|\n",
      "|[2022-04-05 12:00...| 49.0|    2|\n",
      "|[2022-04-08 00:00...| 55.0|    2|\n",
      "|[2022-04-15 12:00...| 32.0|    7|\n",
      "|[2022-04-05 12:00...| 56.0|    4|\n",
      "|[2022-04-13 00:00...| 39.0|    3|\n",
      "|[2022-04-08 00:00...| 65.0|    1|\n",
      "|[2022-04-08 00:00...| 67.0|    2|\n",
      "|[2022-04-13 00:00...| 46.0|    1|\n",
      "|[2022-04-05 12:00...| 50.0|    7|\n",
      "|[2022-04-03 00:00...| 15.0|    3|\n",
      "|[2022-04-03 00:00...| 31.0|    3|\n",
      "|[2022-04-05 12:00...| 41.0|    1|\n",
      "|[2022-04-03 00:00...| 24.0|    4|\n",
      "|[2022-04-05 12:00...| 54.0|    2|\n",
      "+--------------------+-----+-----+\n",
      "only showing top 20 rows\n",
      "\n"
     ]
    },
    {
     "name": "stderr",
     "output_type": "stream",
     "text": [
      "                                                                                \r"
     ]
    },
    {
     "name": "stdout",
     "output_type": "stream",
     "text": [
      "-------------------------------------------\n",
      "Batch: 12\n",
      "-------------------------------------------\n",
      "+--------------------+-----+-----+\n",
      "|              window|value|count|\n",
      "+--------------------+-----+-----+\n",
      "|[2022-03-31 12:00...| 23.0|    1|\n",
      "|[2022-04-08 00:00...| 64.0|    2|\n",
      "|[2022-03-31 12:00...| 29.0|    1|\n",
      "|[2022-04-10 12:00...| 63.0|    1|\n",
      "|[2022-03-29 00:00...| 19.0|   14|\n",
      "|[2022-04-05 12:00...| 32.0|    1|\n",
      "|[2022-04-05 12:00...| 49.0|    2|\n",
      "|[2022-04-08 00:00...| 55.0|    2|\n",
      "|[2022-04-15 12:00...| 32.0|    7|\n",
      "|[2022-04-05 12:00...| 56.0|    4|\n",
      "|[2022-04-13 00:00...| 39.0|    3|\n",
      "|[2022-04-08 00:00...| 65.0|    1|\n",
      "|[2022-04-08 00:00...| 67.0|    2|\n",
      "|[2022-04-13 00:00...| 46.0|    1|\n",
      "|[2022-04-05 12:00...| 50.0|    7|\n",
      "|[2022-04-03 00:00...| 15.0|    3|\n",
      "|[2022-04-03 00:00...| 31.0|    3|\n",
      "|[2022-04-05 12:00...| 41.0|    1|\n",
      "|[2022-04-03 00:00...| 24.0|    4|\n",
      "|[2022-04-05 12:00...| 54.0|    2|\n",
      "+--------------------+-----+-----+\n",
      "only showing top 20 rows\n",
      "\n"
     ]
    },
    {
     "name": "stderr",
     "output_type": "stream",
     "text": [
      "[Stage 27:====================================================> (193 + 4) / 200]\r"
     ]
    },
    {
     "name": "stdout",
     "output_type": "stream",
     "text": [
      "-------------------------------------------\n",
      "Batch: 13\n",
      "-------------------------------------------\n",
      "+--------------------+-----+-----+\n",
      "|              window|value|count|\n",
      "+--------------------+-----+-----+\n",
      "|[2022-03-31 12:00...| 23.0|    1|\n",
      "|[2022-04-08 00:00...| 64.0|    2|\n",
      "|[2022-03-31 12:00...| 29.0|    1|\n",
      "|[2022-04-10 12:00...| 63.0|    1|\n",
      "|[2022-04-18 00:00...| 50.0|    1|\n",
      "|[2022-03-29 00:00...| 19.0|   14|\n",
      "|[2022-04-05 12:00...| 32.0|    1|\n",
      "|[2022-04-05 12:00...| 49.0|    2|\n",
      "|[2022-04-08 00:00...| 55.0|    2|\n",
      "|[2022-04-15 12:00...| 32.0|    7|\n",
      "|[2022-04-05 12:00...| 56.0|    4|\n",
      "|[2022-04-13 00:00...| 39.0|    3|\n",
      "|[2022-04-08 00:00...| 65.0|    1|\n",
      "|[2022-04-08 00:00...| 67.0|    2|\n",
      "|[2022-04-13 00:00...| 46.0|    1|\n",
      "|[2022-04-05 12:00...| 50.0|    7|\n",
      "|[2022-04-03 00:00...| 15.0|    3|\n",
      "|[2022-04-03 00:00...| 31.0|    3|\n",
      "|[2022-04-05 12:00...| 41.0|    1|\n",
      "|[2022-04-03 00:00...| 24.0|    4|\n",
      "+--------------------+-----+-----+\n",
      "only showing top 20 rows\n",
      "\n"
     ]
    },
    {
     "name": "stderr",
     "output_type": "stream",
     "text": [
      "                                                                                \r"
     ]
    },
    {
     "name": "stdout",
     "output_type": "stream",
     "text": [
      "-------------------------------------------\n",
      "Batch: 14\n",
      "-------------------------------------------\n",
      "+--------------------+-----+-----+\n",
      "|              window|value|count|\n",
      "+--------------------+-----+-----+\n",
      "|[2022-03-31 12:00...| 23.0|    1|\n",
      "|[2022-04-08 00:00...| 64.0|    2|\n",
      "|[2022-03-31 12:00...| 29.0|    1|\n",
      "|[2022-04-10 12:00...| 63.0|    1|\n",
      "|[2022-04-18 00:00...| 50.0|    1|\n",
      "|[2022-03-29 00:00...| 19.0|   14|\n",
      "|[2022-04-20 12:00...| 47.0|    1|\n",
      "|[2022-04-05 12:00...| 32.0|    1|\n",
      "|[2022-04-05 12:00...| 49.0|    2|\n",
      "|[2022-04-08 00:00...| 55.0|    2|\n",
      "|[2022-04-15 12:00...| 32.0|    7|\n",
      "|[2022-04-05 12:00...| 56.0|    4|\n",
      "|[2022-04-20 12:00...| 25.0|    2|\n",
      "|[2022-04-13 00:00...| 39.0|    3|\n",
      "|[2022-04-08 00:00...| 65.0|    1|\n",
      "|[2022-04-08 00:00...| 67.0|    2|\n",
      "|[2022-04-13 00:00...| 46.0|    1|\n",
      "|[2022-04-05 12:00...| 50.0|    7|\n",
      "|[2022-04-03 00:00...| 15.0|    3|\n",
      "|[2022-04-03 00:00...| 31.0|    3|\n",
      "+--------------------+-----+-----+\n",
      "only showing top 20 rows\n",
      "\n"
     ]
    },
    {
     "name": "stderr",
     "output_type": "stream",
     "text": [
      "                                                                                \r"
     ]
    },
    {
     "name": "stdout",
     "output_type": "stream",
     "text": [
      "-------------------------------------------\n",
      "Batch: 15\n",
      "-------------------------------------------\n",
      "+--------------------+-----+-----+\n",
      "|              window|value|count|\n",
      "+--------------------+-----+-----+\n",
      "|[2022-03-31 12:00...| 23.0|    1|\n",
      "|[2022-04-08 00:00...| 64.0|    2|\n",
      "|[2022-03-31 12:00...| 29.0|    1|\n",
      "|[2022-04-10 12:00...| 63.0|    1|\n",
      "|[2022-04-18 00:00...| 50.0|    1|\n",
      "|[2022-04-20 12:00...| 47.0|    1|\n",
      "|[2022-03-29 00:00...| 19.0|   14|\n",
      "|[2022-04-05 12:00...| 32.0|    1|\n",
      "|[2022-04-05 12:00...| 49.0|    2|\n",
      "|[2022-04-08 00:00...| 55.0|    2|\n",
      "|[2022-04-15 12:00...| 32.0|    7|\n",
      "|[2022-04-05 12:00...| 56.0|    4|\n",
      "|[2022-04-20 12:00...| 25.0|    6|\n",
      "|[2022-04-13 00:00...| 39.0|    3|\n",
      "|[2022-04-08 00:00...| 65.0|    1|\n",
      "|[2022-04-08 00:00...| 67.0|    2|\n",
      "|[2022-04-13 00:00...| 46.0|    1|\n",
      "|[2022-04-05 12:00...| 50.0|    7|\n",
      "|[2022-04-03 00:00...| 15.0|    3|\n",
      "|[2022-04-03 00:00...| 31.0|    3|\n",
      "+--------------------+-----+-----+\n",
      "only showing top 20 rows\n",
      "\n"
     ]
    },
    {
     "name": "stderr",
     "output_type": "stream",
     "text": [
      "                                                                                \r"
     ]
    },
    {
     "name": "stdout",
     "output_type": "stream",
     "text": [
      "-------------------------------------------\n",
      "Batch: 16\n",
      "-------------------------------------------\n",
      "+--------------------+-----+-----+\n",
      "|              window|value|count|\n",
      "+--------------------+-----+-----+\n",
      "|[2022-03-31 12:00...| 23.0|    1|\n",
      "|[2022-04-08 00:00...| 64.0|    2|\n",
      "|[2022-03-31 12:00...| 29.0|    1|\n",
      "|[2022-04-10 12:00...| 63.0|    1|\n",
      "|[2022-04-18 00:00...| 50.0|    1|\n",
      "|[2022-04-20 12:00...| 47.0|    1|\n",
      "|[2022-03-29 00:00...| 19.0|   14|\n",
      "|[2022-04-05 12:00...| 32.0|    1|\n",
      "|[2022-04-05 12:00...| 49.0|    2|\n",
      "|[2022-04-08 00:00...| 55.0|    2|\n",
      "|[2022-04-15 12:00...| 32.0|    7|\n",
      "|[2022-04-05 12:00...| 56.0|    4|\n",
      "|[2022-04-23 00:00...| 15.0|    4|\n",
      "|[2022-04-20 12:00...| 25.0|    6|\n",
      "|[2022-04-13 00:00...| 39.0|    3|\n",
      "|[2022-04-08 00:00...| 65.0|    1|\n",
      "|[2022-04-08 00:00...| 67.0|    2|\n",
      "|[2022-04-13 00:00...| 46.0|    1|\n",
      "|[2022-04-05 12:00...| 50.0|    7|\n",
      "|[2022-04-03 00:00...| 15.0|    3|\n",
      "+--------------------+-----+-----+\n",
      "only showing top 20 rows\n",
      "\n"
     ]
    },
    {
     "name": "stderr",
     "output_type": "stream",
     "text": [
      "                                                                                \r"
     ]
    },
    {
     "name": "stdout",
     "output_type": "stream",
     "text": [
      "-------------------------------------------\n",
      "Batch: 17\n",
      "-------------------------------------------\n",
      "+--------------------+-----+-----+\n",
      "|              window|value|count|\n",
      "+--------------------+-----+-----+\n",
      "|[2022-03-31 12:00...| 23.0|    1|\n",
      "|[2022-04-08 00:00...| 64.0|    2|\n",
      "|[2022-03-31 12:00...| 29.0|    1|\n",
      "|[2022-04-10 12:00...| 63.0|    1|\n",
      "|[2022-04-18 00:00...| 50.0|    1|\n",
      "|[2022-04-20 12:00...| 47.0|    1|\n",
      "|[2022-03-29 00:00...| 19.0|   14|\n",
      "|[2022-04-05 12:00...| 32.0|    1|\n",
      "|[2022-04-05 12:00...| 49.0|    2|\n",
      "|[2022-04-08 00:00...| 55.0|    2|\n",
      "|[2022-04-15 12:00...| 32.0|    7|\n",
      "|[2022-04-05 12:00...| 56.0|    4|\n",
      "|[2022-04-23 00:00...| 15.0|    8|\n",
      "|[2022-04-20 12:00...| 25.0|    6|\n",
      "|[2022-04-13 00:00...| 39.0|    3|\n",
      "|[2022-04-08 00:00...| 65.0|    1|\n",
      "|[2022-04-08 00:00...| 67.0|    2|\n",
      "|[2022-04-13 00:00...| 46.0|    1|\n",
      "|[2022-04-05 12:00...| 50.0|    7|\n",
      "|[2022-04-03 00:00...| 15.0|    3|\n",
      "+--------------------+-----+-----+\n",
      "only showing top 20 rows\n",
      "\n"
     ]
    },
    {
     "name": "stderr",
     "output_type": "stream",
     "text": [
      "                                                                                \r"
     ]
    },
    {
     "name": "stdout",
     "output_type": "stream",
     "text": [
      "-------------------------------------------\n",
      "Batch: 18\n",
      "-------------------------------------------\n",
      "+--------------------+-----+-----+\n",
      "|              window|value|count|\n",
      "+--------------------+-----+-----+\n",
      "|[2022-03-31 12:00...| 23.0|    1|\n",
      "|[2022-04-08 00:00...| 64.0|    2|\n",
      "|[2022-03-31 12:00...| 29.0|    1|\n",
      "|[2022-04-10 12:00...| 63.0|    1|\n",
      "|[2022-04-18 00:00...| 50.0|    1|\n",
      "|[2022-04-20 12:00...| 47.0|    1|\n",
      "|[2022-03-29 00:00...| 19.0|   14|\n",
      "|[2022-04-05 12:00...| 32.0|    1|\n",
      "|[2022-04-05 12:00...| 49.0|    2|\n",
      "|[2022-04-08 00:00...| 55.0|    2|\n",
      "|[2022-04-15 12:00...| 32.0|    7|\n",
      "|[2022-04-05 12:00...| 56.0|    4|\n",
      "|[2022-04-23 00:00...| 15.0|   24|\n",
      "|[2022-04-20 12:00...| 25.0|    6|\n",
      "|[2022-04-13 00:00...| 39.0|    3|\n",
      "|[2022-04-08 00:00...| 65.0|    1|\n",
      "|[2022-04-08 00:00...| 67.0|    2|\n",
      "|[2022-04-13 00:00...| 46.0|    1|\n",
      "|[2022-04-05 12:00...| 50.0|    7|\n",
      "|[2022-04-03 00:00...| 15.0|    3|\n",
      "+--------------------+-----+-----+\n",
      "only showing top 20 rows\n",
      "\n"
     ]
    },
    {
     "name": "stderr",
     "output_type": "stream",
     "text": [
      "                                                                                \r"
     ]
    },
    {
     "name": "stdout",
     "output_type": "stream",
     "text": [
      "-------------------------------------------\n",
      "Batch: 19\n",
      "-------------------------------------------\n",
      "+--------------------+-----+-----+\n",
      "|              window|value|count|\n",
      "+--------------------+-----+-----+\n",
      "|[2022-03-31 12:00...| 23.0|    1|\n",
      "|[2022-04-08 00:00...| 64.0|    2|\n",
      "|[2022-03-31 12:00...| 29.0|    1|\n",
      "|[2022-04-10 12:00...| 63.0|    1|\n",
      "|[2022-04-18 00:00...| 50.0|    1|\n",
      "|[2022-04-20 12:00...| 47.0|    1|\n",
      "|[2022-03-29 00:00...| 19.0|   14|\n",
      "|[2022-04-05 12:00...| 32.0|    1|\n",
      "|[2022-04-05 12:00...| 49.0|    2|\n",
      "|[2022-04-08 00:00...| 55.0|    2|\n",
      "|[2022-04-15 12:00...| 32.0|    7|\n",
      "|[2022-04-05 12:00...| 56.0|    4|\n",
      "|[2022-04-23 00:00...| 15.0|   24|\n",
      "|[2022-04-20 12:00...| 25.0|    6|\n",
      "|[2022-04-13 00:00...| 39.0|    3|\n",
      "|[2022-04-08 00:00...| 65.0|    1|\n",
      "|[2022-04-08 00:00...| 67.0|    2|\n",
      "|[2022-04-13 00:00...| 46.0|    1|\n",
      "|[2022-04-05 12:00...| 50.0|    7|\n",
      "|[2022-04-03 00:00...| 15.0|    3|\n",
      "+--------------------+-----+-----+\n",
      "only showing top 20 rows\n",
      "\n"
     ]
    },
    {
     "name": "stderr",
     "output_type": "stream",
     "text": [
      "                                                                                \r"
     ]
    },
    {
     "name": "stdout",
     "output_type": "stream",
     "text": [
      "-------------------------------------------\n",
      "Batch: 20\n",
      "-------------------------------------------\n",
      "+--------------------+-----+-----+\n",
      "|              window|value|count|\n",
      "+--------------------+-----+-----+\n",
      "|[2022-04-28 00:00...| 24.0|    4|\n",
      "|[2022-03-31 12:00...| 23.0|    1|\n",
      "|[2022-04-08 00:00...| 64.0|    2|\n",
      "|[2022-03-31 12:00...| 29.0|    1|\n",
      "|[2022-04-10 12:00...| 63.0|    1|\n",
      "|[2022-04-18 00:00...| 50.0|    1|\n",
      "|[2022-04-20 12:00...| 47.0|    1|\n",
      "|[2022-03-29 00:00...| 19.0|   14|\n",
      "|[2022-04-05 12:00...| 32.0|    1|\n",
      "|[2022-04-05 12:00...| 49.0|    2|\n",
      "|[2022-04-08 00:00...| 55.0|    2|\n",
      "|[2022-04-15 12:00...| 32.0|    7|\n",
      "|[2022-04-05 12:00...| 56.0|    4|\n",
      "|[2022-04-23 00:00...| 15.0|   24|\n",
      "|[2022-04-20 12:00...| 25.0|    6|\n",
      "|[2022-04-13 00:00...| 39.0|    3|\n",
      "|[2022-04-08 00:00...| 65.0|    1|\n",
      "|[2022-04-08 00:00...| 67.0|    2|\n",
      "|[2022-04-13 00:00...| 46.0|    1|\n",
      "|[2022-04-05 12:00...| 50.0|    7|\n",
      "+--------------------+-----+-----+\n",
      "only showing top 20 rows\n",
      "\n"
     ]
    },
    {
     "name": "stderr",
     "output_type": "stream",
     "text": [
      "                                                                                \r"
     ]
    },
    {
     "name": "stdout",
     "output_type": "stream",
     "text": [
      "-------------------------------------------\n",
      "Batch: 21\n",
      "-------------------------------------------\n",
      "+--------------------+-----+-----+\n",
      "|              window|value|count|\n",
      "+--------------------+-----+-----+\n",
      "|[2022-04-28 00:00...| 24.0|    7|\n",
      "|[2022-03-31 12:00...| 23.0|    1|\n",
      "|[2022-04-08 00:00...| 64.0|    2|\n",
      "|[2022-03-31 12:00...| 29.0|    1|\n",
      "|[2022-04-10 12:00...| 63.0|    1|\n",
      "|[2022-04-18 00:00...| 50.0|    1|\n",
      "|[2022-04-20 12:00...| 47.0|    1|\n",
      "|[2022-03-29 00:00...| 19.0|   14|\n",
      "|[2022-04-05 12:00...| 32.0|    1|\n",
      "|[2022-04-05 12:00...| 49.0|    2|\n",
      "|[2022-04-08 00:00...| 55.0|    2|\n",
      "|[2022-04-15 12:00...| 32.0|    7|\n",
      "|[2022-04-05 12:00...| 56.0|    4|\n",
      "|[2022-04-23 00:00...| 15.0|   24|\n",
      "|[2022-04-20 12:00...| 25.0|    6|\n",
      "|[2022-04-28 00:00...| 20.0|    1|\n",
      "|[2022-04-13 00:00...| 39.0|    3|\n",
      "|[2022-04-08 00:00...| 65.0|    1|\n",
      "|[2022-04-08 00:00...| 67.0|    2|\n",
      "|[2022-04-13 00:00...| 46.0|    1|\n",
      "+--------------------+-----+-----+\n",
      "only showing top 20 rows\n",
      "\n"
     ]
    },
    {
     "name": "stderr",
     "output_type": "stream",
     "text": [
      "                                                                                \r"
     ]
    },
    {
     "name": "stdout",
     "output_type": "stream",
     "text": [
      "-------------------------------------------\n",
      "Batch: 22\n",
      "-------------------------------------------\n",
      "+--------------------+-----+-----+\n",
      "|              window|value|count|\n",
      "+--------------------+-----+-----+\n",
      "|[2022-04-28 00:00...| 24.0|    7|\n",
      "|[2022-03-31 12:00...| 23.0|    1|\n",
      "|[2022-04-08 00:00...| 64.0|    2|\n",
      "|[2022-03-31 12:00...| 29.0|    1|\n",
      "|[2022-04-10 12:00...| 63.0|    1|\n",
      "|[2022-04-18 00:00...| 50.0|    1|\n",
      "|[2022-04-20 12:00...| 47.0|    1|\n",
      "|[2022-03-29 00:00...| 19.0|   14|\n",
      "|[2022-04-05 12:00...| 32.0|    1|\n",
      "|[2022-04-05 12:00...| 49.0|    2|\n",
      "|[2022-04-08 00:00...| 55.0|    2|\n",
      "|[2022-04-15 12:00...| 32.0|    7|\n",
      "|[2022-04-05 12:00...| 56.0|    4|\n",
      "|[2022-04-23 00:00...| 15.0|   24|\n",
      "|[2022-04-20 12:00...| 25.0|    6|\n",
      "|[2022-04-28 00:00...| 20.0|    2|\n",
      "|[2022-04-13 00:00...| 39.0|    3|\n",
      "|[2022-04-08 00:00...| 65.0|    1|\n",
      "|[2022-04-08 00:00...| 67.0|    2|\n",
      "|[2022-04-13 00:00...| 46.0|    1|\n",
      "+--------------------+-----+-----+\n",
      "only showing top 20 rows\n",
      "\n"
     ]
    },
    {
     "name": "stderr",
     "output_type": "stream",
     "text": [
      "                                                                                \r"
     ]
    },
    {
     "name": "stdout",
     "output_type": "stream",
     "text": [
      "-------------------------------------------\n",
      "Batch: 23\n",
      "-------------------------------------------\n",
      "+--------------------+-----+-----+\n",
      "|              window|value|count|\n",
      "+--------------------+-----+-----+\n",
      "|[2022-04-28 00:00...| 24.0|    7|\n",
      "|[2022-03-31 12:00...| 23.0|    1|\n",
      "|[2022-04-08 00:00...| 64.0|    2|\n",
      "|[2022-03-31 12:00...| 29.0|    1|\n",
      "|[2022-04-10 12:00...| 63.0|    1|\n",
      "|[2022-04-18 00:00...| 50.0|    1|\n",
      "|[2022-04-20 12:00...| 47.0|    1|\n",
      "|[2022-03-29 00:00...| 19.0|   14|\n",
      "|[2022-04-30 12:00...| 38.0|    1|\n",
      "|[2022-04-05 12:00...| 32.0|    1|\n",
      "|[2022-04-05 12:00...| 49.0|    2|\n",
      "|[2022-04-08 00:00...| 55.0|    2|\n",
      "|[2022-04-15 12:00...| 32.0|    7|\n",
      "|[2022-04-05 12:00...| 56.0|    4|\n",
      "|[2022-04-23 00:00...| 15.0|   24|\n",
      "|[2022-04-20 12:00...| 25.0|    6|\n",
      "|[2022-04-28 00:00...| 20.0|    2|\n",
      "|[2022-04-13 00:00...| 39.0|    3|\n",
      "|[2022-04-08 00:00...| 65.0|    1|\n",
      "|[2022-04-08 00:00...| 67.0|    2|\n",
      "+--------------------+-----+-----+\n",
      "only showing top 20 rows\n",
      "\n"
     ]
    },
    {
     "name": "stderr",
     "output_type": "stream",
     "text": [
      "                                                                                \r"
     ]
    },
    {
     "name": "stdout",
     "output_type": "stream",
     "text": [
      "-------------------------------------------\n",
      "Batch: 24\n",
      "-------------------------------------------\n",
      "+--------------------+-----+-----+\n",
      "|              window|value|count|\n",
      "+--------------------+-----+-----+\n",
      "|[2022-04-28 00:00...| 24.0|    7|\n",
      "|[2022-03-31 12:00...| 23.0|    1|\n",
      "|[2022-04-08 00:00...| 64.0|    2|\n",
      "|[2022-03-31 12:00...| 29.0|    1|\n",
      "|[2022-04-10 12:00...| 63.0|    1|\n",
      "|[2022-04-18 00:00...| 50.0|    1|\n",
      "|[2022-03-29 00:00...| 19.0|   14|\n",
      "|[2022-04-20 12:00...| 47.0|    1|\n",
      "|[2022-04-30 12:00...| 38.0|    1|\n",
      "|[2022-04-05 12:00...| 32.0|    1|\n",
      "|[2022-04-30 12:00...| 24.0|    5|\n",
      "|[2022-04-05 12:00...| 49.0|    2|\n",
      "|[2022-04-08 00:00...| 55.0|    2|\n",
      "|[2022-04-15 12:00...| 32.0|    7|\n",
      "|[2022-04-05 12:00...| 56.0|    4|\n",
      "|[2022-04-23 00:00...| 15.0|   24|\n",
      "|[2022-04-20 12:00...| 25.0|    6|\n",
      "|[2022-04-28 00:00...| 20.0|    2|\n",
      "|[2022-04-13 00:00...| 39.0|    3|\n",
      "|[2022-04-08 00:00...| 65.0|    1|\n",
      "+--------------------+-----+-----+\n",
      "only showing top 20 rows\n",
      "\n"
     ]
    },
    {
     "name": "stderr",
     "output_type": "stream",
     "text": [
      "                                                                                \r"
     ]
    },
    {
     "name": "stdout",
     "output_type": "stream",
     "text": [
      "-------------------------------------------\n",
      "Batch: 25\n",
      "-------------------------------------------\n",
      "+--------------------+-----+-----+\n",
      "|              window|value|count|\n",
      "+--------------------+-----+-----+\n",
      "|[2022-04-28 00:00...| 24.0|    7|\n",
      "|[2022-03-31 12:00...| 23.0|    1|\n",
      "|[2022-04-08 00:00...| 64.0|    2|\n",
      "|[2022-03-31 12:00...| 29.0|    1|\n",
      "|[2022-04-10 12:00...| 63.0|    1|\n",
      "|[2022-04-18 00:00...| 50.0|    1|\n",
      "|[2022-03-29 00:00...| 19.0|   14|\n",
      "|[2022-04-20 12:00...| 47.0|    1|\n",
      "|[2022-04-30 12:00...| 38.0|    1|\n",
      "|[2022-04-05 12:00...| 32.0|    1|\n",
      "|[2022-04-30 12:00...| 24.0|    7|\n",
      "|[2022-04-05 12:00...| 49.0|    2|\n",
      "|[2022-04-08 00:00...| 55.0|    2|\n",
      "|[2022-04-15 12:00...| 32.0|    7|\n",
      "|[2022-04-05 12:00...| 56.0|    4|\n",
      "|[2022-04-23 00:00...| 15.0|   24|\n",
      "|[2022-04-20 12:00...| 25.0|    6|\n",
      "|[2022-04-28 00:00...| 20.0|    2|\n",
      "|[2022-04-13 00:00...| 39.0|    3|\n",
      "|[2022-04-08 00:00...| 65.0|    1|\n",
      "+--------------------+-----+-----+\n",
      "only showing top 20 rows\n",
      "\n"
     ]
    },
    {
     "name": "stderr",
     "output_type": "stream",
     "text": [
      "                                                                                \r"
     ]
    },
    {
     "name": "stdout",
     "output_type": "stream",
     "text": [
      "-------------------------------------------\n",
      "Batch: 26\n",
      "-------------------------------------------\n",
      "+--------------------+-----+-----+\n",
      "|              window|value|count|\n",
      "+--------------------+-----+-----+\n",
      "|[2022-04-28 00:00...| 24.0|    7|\n",
      "|[2022-03-31 12:00...| 23.0|    1|\n",
      "|[2022-04-08 00:00...| 64.0|    2|\n",
      "|[2022-03-31 12:00...| 29.0|    1|\n",
      "|[2022-04-10 12:00...| 63.0|    1|\n",
      "|[2022-04-18 00:00...| 50.0|    1|\n",
      "|[2022-03-29 00:00...| 19.0|   14|\n",
      "|[2022-04-20 12:00...| 47.0|    1|\n",
      "|[2022-04-30 12:00...| 38.0|    1|\n",
      "|[2022-04-05 12:00...| 32.0|    1|\n",
      "|[2022-04-30 12:00...| 24.0|    7|\n",
      "|[2022-04-05 12:00...| 49.0|    2|\n",
      "|[2022-04-08 00:00...| 55.0|    2|\n",
      "|[2022-04-15 12:00...| 32.0|    7|\n",
      "|[2022-04-05 12:00...| 56.0|    4|\n",
      "|[2022-04-23 00:00...| 15.0|   24|\n",
      "|[2022-04-20 12:00...| 25.0|    6|\n",
      "|[2022-04-28 00:00...| 20.0|    2|\n",
      "|[2022-04-13 00:00...| 39.0|    3|\n",
      "|[2022-04-08 00:00...| 65.0|    1|\n",
      "+--------------------+-----+-----+\n",
      "only showing top 20 rows\n",
      "\n"
     ]
    },
    {
     "name": "stderr",
     "output_type": "stream",
     "text": [
      "                                                                                \r"
     ]
    },
    {
     "name": "stdout",
     "output_type": "stream",
     "text": [
      "-------------------------------------------\n",
      "Batch: 27\n",
      "-------------------------------------------\n",
      "+--------------------+-----+-----+\n",
      "|              window|value|count|\n",
      "+--------------------+-----+-----+\n",
      "|[2022-04-28 00:00...| 24.0|    7|\n",
      "|[2022-03-31 12:00...| 23.0|    1|\n",
      "|[2022-04-08 00:00...| 64.0|    2|\n",
      "|[2022-03-31 12:00...| 29.0|    1|\n",
      "|[2022-04-10 12:00...| 63.0|    1|\n",
      "|[2022-04-18 00:00...| 50.0|    1|\n",
      "|[2022-03-29 00:00...| 19.0|   14|\n",
      "|[2022-04-20 12:00...| 47.0|    1|\n",
      "|[2022-04-30 12:00...| 38.0|    1|\n",
      "|[2022-04-05 12:00...| 32.0|    1|\n",
      "|[2022-04-30 12:00...| 24.0|    7|\n",
      "|[2022-04-05 12:00...| 49.0|    2|\n",
      "|[2022-04-08 00:00...| 55.0|    2|\n",
      "|[2022-04-15 12:00...| 32.0|    7|\n",
      "|[2022-04-05 12:00...| 56.0|    4|\n",
      "|[2022-04-23 00:00...| 15.0|   24|\n",
      "|[2022-04-20 12:00...| 25.0|    6|\n",
      "|[2022-04-28 00:00...| 20.0|    2|\n",
      "|[2022-04-13 00:00...| 39.0|    3|\n",
      "|[2022-04-08 00:00...| 65.0|    1|\n",
      "+--------------------+-----+-----+\n",
      "only showing top 20 rows\n",
      "\n"
     ]
    },
    {
     "name": "stderr",
     "output_type": "stream",
     "text": [
      "                                                                                \r"
     ]
    },
    {
     "name": "stdout",
     "output_type": "stream",
     "text": [
      "-------------------------------------------\n",
      "Batch: 28\n",
      "-------------------------------------------\n",
      "+--------------------+-----+-----+\n",
      "|              window|value|count|\n",
      "+--------------------+-----+-----+\n",
      "|[2022-04-28 00:00...| 24.0|    7|\n",
      "|[2022-03-31 12:00...| 23.0|    1|\n",
      "|[2022-04-08 00:00...| 64.0|    2|\n",
      "|[2022-03-31 12:00...| 29.0|    1|\n",
      "|[2022-04-10 12:00...| 63.0|    1|\n",
      "|[2022-04-18 00:00...| 50.0|    1|\n",
      "|[2022-03-29 00:00...| 19.0|   14|\n",
      "|[2022-04-20 12:00...| 47.0|    1|\n",
      "|[2022-04-30 12:00...| 38.0|    1|\n",
      "|[2022-04-05 12:00...| 32.0|    1|\n",
      "|[2022-04-30 12:00...| 24.0|    7|\n",
      "|[2022-04-05 12:00...| 49.0|    2|\n",
      "|[2022-04-08 00:00...| 55.0|    2|\n",
      "|[2022-04-15 12:00...| 32.0|    7|\n",
      "|[2022-04-05 12:00...| 56.0|    4|\n",
      "|[2022-04-23 00:00...| 15.0|   24|\n",
      "|[2022-04-20 12:00...| 25.0|    6|\n",
      "|[2022-04-28 00:00...| 20.0|    2|\n",
      "|[2022-04-13 00:00...| 39.0|    3|\n",
      "|[2022-04-08 00:00...| 65.0|    1|\n",
      "+--------------------+-----+-----+\n",
      "only showing top 20 rows\n",
      "\n"
     ]
    },
    {
     "name": "stderr",
     "output_type": "stream",
     "text": [
      "                                                                                \r"
     ]
    },
    {
     "name": "stdout",
     "output_type": "stream",
     "text": [
      "-------------------------------------------\n",
      "Batch: 29\n",
      "-------------------------------------------\n",
      "+--------------------+-----+-----+\n",
      "|              window|value|count|\n",
      "+--------------------+-----+-----+\n",
      "|[2022-04-28 00:00...| 24.0|    7|\n",
      "|[2022-03-31 12:00...| 23.0|    1|\n",
      "|[2022-04-08 00:00...| 64.0|    2|\n",
      "|[2022-03-31 12:00...| 29.0|    1|\n",
      "|[2022-04-10 12:00...| 63.0|    1|\n",
      "|[2022-04-18 00:00...| 50.0|    1|\n",
      "|[2022-03-29 00:00...| 19.0|   14|\n",
      "|[2022-04-20 12:00...| 47.0|    1|\n",
      "|[2022-04-30 12:00...| 38.0|    1|\n",
      "|[2022-04-05 12:00...| 32.0|    1|\n",
      "|[2022-04-30 12:00...| 24.0|    7|\n",
      "|[2022-04-05 12:00...| 49.0|    2|\n",
      "|[2022-04-08 00:00...| 55.0|    2|\n",
      "|[2022-04-15 12:00...| 32.0|    7|\n",
      "|[2022-04-05 12:00...| 56.0|    4|\n",
      "|[2022-04-23 00:00...| 15.0|   24|\n",
      "|[2022-04-20 12:00...| 25.0|    6|\n",
      "|[2022-04-28 00:00...| 20.0|    2|\n",
      "|[2022-04-13 00:00...| 39.0|    3|\n",
      "|[2022-04-08 00:00...| 65.0|    1|\n",
      "+--------------------+-----+-----+\n",
      "only showing top 20 rows\n",
      "\n"
     ]
    },
    {
     "name": "stderr",
     "output_type": "stream",
     "text": [
      "                                                                                \r"
     ]
    },
    {
     "name": "stdout",
     "output_type": "stream",
     "text": [
      "-------------------------------------------\n",
      "Batch: 30\n",
      "-------------------------------------------\n",
      "+--------------------+-----+-----+\n",
      "|              window|value|count|\n",
      "+--------------------+-----+-----+\n",
      "|[2022-04-28 00:00...| 24.0|    7|\n",
      "|[2022-03-31 12:00...| 23.0|    1|\n",
      "|[2022-04-08 00:00...| 64.0|    2|\n",
      "|[2022-03-31 12:00...| 29.0|    1|\n",
      "|[2022-04-10 12:00...| 63.0|    1|\n",
      "|[2022-04-18 00:00...| 50.0|    1|\n",
      "|[2022-03-29 00:00...| 19.0|   14|\n",
      "|[2022-04-20 12:00...| 47.0|    1|\n",
      "|[2022-04-30 12:00...| 38.0|    1|\n",
      "|[2022-04-05 12:00...| 32.0|    1|\n",
      "|[2022-04-30 12:00...| 24.0|    7|\n",
      "|[2022-04-05 12:00...| 49.0|    2|\n",
      "|[2022-04-08 00:00...| 55.0|    2|\n",
      "|[2022-04-15 12:00...| 32.0|    7|\n",
      "|[2022-04-05 12:00...| 56.0|    4|\n",
      "|[2022-04-23 00:00...| 15.0|   24|\n",
      "|[2022-04-20 12:00...| 25.0|    6|\n",
      "|[2022-04-28 00:00...| 20.0|    2|\n",
      "|[2022-04-13 00:00...| 39.0|    3|\n",
      "|[2022-04-08 00:00...| 65.0|    1|\n",
      "+--------------------+-----+-----+\n",
      "only showing top 20 rows\n",
      "\n"
     ]
    },
    {
     "name": "stderr",
     "output_type": "stream",
     "text": [
      "                                                                                \r"
     ]
    },
    {
     "name": "stdout",
     "output_type": "stream",
     "text": [
      "-------------------------------------------\n",
      "Batch: 31\n",
      "-------------------------------------------\n",
      "+--------------------+-----+-----+\n",
      "|              window|value|count|\n",
      "+--------------------+-----+-----+\n",
      "|[2022-04-28 00:00...| 24.0|    7|\n",
      "|[2022-03-31 12:00...| 23.0|    1|\n",
      "|[2022-04-08 00:00...| 64.0|    2|\n",
      "|[2022-03-31 12:00...| 29.0|    1|\n",
      "|[2022-04-10 12:00...| 63.0|    1|\n",
      "|[2022-04-18 00:00...| 50.0|    1|\n",
      "|[2022-03-29 00:00...| 19.0|   14|\n",
      "|[2022-04-20 12:00...| 47.0|    1|\n",
      "|[2022-04-30 12:00...| 38.0|    1|\n",
      "|[2022-04-05 12:00...| 32.0|    1|\n",
      "|[2022-05-08 00:00...| 24.0|    7|\n",
      "|[2022-04-30 12:00...| 24.0|    7|\n",
      "|[2022-04-05 12:00...| 49.0|    2|\n",
      "|[2022-04-08 00:00...| 55.0|    2|\n",
      "|[2022-04-15 12:00...| 32.0|    7|\n",
      "|[2022-04-05 12:00...| 56.0|    4|\n",
      "|[2022-04-23 00:00...| 15.0|   24|\n",
      "|[2022-04-20 12:00...| 25.0|    6|\n",
      "|[2022-04-28 00:00...| 20.0|    2|\n",
      "|[2022-04-13 00:00...| 39.0|    3|\n",
      "+--------------------+-----+-----+\n",
      "only showing top 20 rows\n",
      "\n"
     ]
    },
    {
     "name": "stderr",
     "output_type": "stream",
     "text": [
      "                                                                                \r"
     ]
    },
    {
     "name": "stdout",
     "output_type": "stream",
     "text": [
      "-------------------------------------------\n",
      "Batch: 32\n",
      "-------------------------------------------\n",
      "+--------------------+-----+-----+\n",
      "|              window|value|count|\n",
      "+--------------------+-----+-----+\n",
      "|[2022-04-28 00:00...| 24.0|    7|\n",
      "|[2022-03-31 12:00...| 23.0|    1|\n",
      "|[2022-04-08 00:00...| 64.0|    2|\n",
      "|[2022-03-31 12:00...| 29.0|    1|\n",
      "|[2022-04-10 12:00...| 63.0|    1|\n",
      "|[2022-04-18 00:00...| 50.0|    1|\n",
      "|[2022-03-29 00:00...| 19.0|   14|\n",
      "|[2022-04-20 12:00...| 47.0|    1|\n",
      "|[2022-04-30 12:00...| 38.0|    1|\n",
      "|[2022-04-05 12:00...| 32.0|    1|\n",
      "|[2022-05-08 00:00...| 24.0|    9|\n",
      "|[2022-04-30 12:00...| 24.0|    7|\n",
      "|[2022-04-05 12:00...| 49.0|    2|\n",
      "|[2022-04-08 00:00...| 55.0|    2|\n",
      "|[2022-04-15 12:00...| 32.0|    7|\n",
      "|[2022-04-05 12:00...| 56.0|    4|\n",
      "|[2022-04-23 00:00...| 15.0|   24|\n",
      "|[2022-04-20 12:00...| 25.0|    6|\n",
      "|[2022-04-28 00:00...| 20.0|    2|\n",
      "|[2022-04-13 00:00...| 39.0|    3|\n",
      "+--------------------+-----+-----+\n",
      "only showing top 20 rows\n",
      "\n"
     ]
    },
    {
     "name": "stderr",
     "output_type": "stream",
     "text": [
      "                                                                                \r"
     ]
    },
    {
     "name": "stdout",
     "output_type": "stream",
     "text": [
      "-------------------------------------------\n",
      "Batch: 33\n",
      "-------------------------------------------\n",
      "+--------------------+-----+-----+\n",
      "|              window|value|count|\n",
      "+--------------------+-----+-----+\n",
      "|[2022-04-28 00:00...| 24.0|    7|\n",
      "|[2022-03-31 12:00...| 23.0|    1|\n",
      "|[2022-04-08 00:00...| 64.0|    2|\n",
      "|[2022-03-31 12:00...| 29.0|    1|\n",
      "|[2022-04-10 12:00...| 63.0|    1|\n",
      "|[2022-04-18 00:00...| 50.0|    1|\n",
      "|[2022-03-29 00:00...| 19.0|   14|\n",
      "|[2022-04-20 12:00...| 47.0|    1|\n",
      "|[2022-04-30 12:00...| 38.0|    1|\n",
      "|[2022-04-05 12:00...| 32.0|    1|\n",
      "|[2022-05-08 00:00...| 24.0|    9|\n",
      "|[2022-04-30 12:00...| 24.0|    7|\n",
      "|[2022-04-05 12:00...| 49.0|    2|\n",
      "|[2022-04-08 00:00...| 55.0|    2|\n",
      "|[2022-04-15 12:00...| 32.0|    7|\n",
      "|[2022-04-05 12:00...| 56.0|    4|\n",
      "|[2022-04-23 00:00...| 15.0|   24|\n",
      "|[2022-05-08 00:00...| 16.0|    1|\n",
      "|[2022-04-20 12:00...| 25.0|    6|\n",
      "|[2022-04-28 00:00...| 20.0|    2|\n",
      "+--------------------+-----+-----+\n",
      "only showing top 20 rows\n",
      "\n"
     ]
    },
    {
     "name": "stderr",
     "output_type": "stream",
     "text": [
      "                                                                                \r"
     ]
    },
    {
     "name": "stdout",
     "output_type": "stream",
     "text": [
      "-------------------------------------------\n",
      "Batch: 34\n",
      "-------------------------------------------\n",
      "+--------------------+-----+-----+\n",
      "|              window|value|count|\n",
      "+--------------------+-----+-----+\n",
      "|[2022-04-28 00:00...| 24.0|    7|\n",
      "|[2022-03-31 12:00...| 23.0|    1|\n",
      "|[2022-04-08 00:00...| 64.0|    2|\n",
      "|[2022-05-10 12:00...| 12.0|    9|\n",
      "|[2022-03-31 12:00...| 29.0|    1|\n",
      "|[2022-04-10 12:00...| 63.0|    1|\n",
      "|[2022-04-18 00:00...| 50.0|    1|\n",
      "|[2022-03-29 00:00...| 19.0|   14|\n",
      "|[2022-04-20 12:00...| 47.0|    1|\n",
      "|[2022-04-30 12:00...| 38.0|    1|\n",
      "|[2022-04-05 12:00...| 32.0|    1|\n",
      "|[2022-05-08 00:00...| 24.0|    9|\n",
      "|[2022-04-30 12:00...| 24.0|    7|\n",
      "|[2022-04-05 12:00...| 49.0|    2|\n",
      "|[2022-04-08 00:00...| 55.0|    2|\n",
      "|[2022-04-15 12:00...| 32.0|    7|\n",
      "|[2022-04-05 12:00...| 56.0|    4|\n",
      "|[2022-04-23 00:00...| 15.0|   24|\n",
      "|[2022-05-08 00:00...| 16.0|    1|\n",
      "|[2022-04-20 12:00...| 25.0|    6|\n",
      "+--------------------+-----+-----+\n",
      "only showing top 20 rows\n",
      "\n"
     ]
    },
    {
     "name": "stderr",
     "output_type": "stream",
     "text": [
      "                                                                                \r"
     ]
    },
    {
     "name": "stdout",
     "output_type": "stream",
     "text": [
      "-------------------------------------------\n",
      "Batch: 35\n",
      "-------------------------------------------\n",
      "+--------------------+-----+-----+\n",
      "|              window|value|count|\n",
      "+--------------------+-----+-----+\n",
      "|[2022-04-28 00:00...| 24.0|    7|\n",
      "|[2022-03-31 12:00...| 23.0|    1|\n",
      "|[2022-04-08 00:00...| 64.0|    2|\n",
      "|[2022-05-10 12:00...| 12.0|   12|\n",
      "|[2022-03-31 12:00...| 29.0|    1|\n",
      "|[2022-04-10 12:00...| 63.0|    1|\n",
      "|[2022-04-18 00:00...| 50.0|    1|\n",
      "|[2022-03-29 00:00...| 19.0|   14|\n",
      "|[2022-04-20 12:00...| 47.0|    1|\n",
      "|[2022-04-30 12:00...| 38.0|    1|\n",
      "|[2022-04-05 12:00...| 32.0|    1|\n",
      "|[2022-05-08 00:00...| 24.0|    9|\n",
      "|[2022-04-30 12:00...| 24.0|    7|\n",
      "|[2022-04-05 12:00...| 49.0|    2|\n",
      "|[2022-04-08 00:00...| 55.0|    2|\n",
      "|[2022-04-15 12:00...| 32.0|    7|\n",
      "|[2022-04-05 12:00...| 56.0|    4|\n",
      "|[2022-04-23 00:00...| 15.0|   24|\n",
      "|[2022-05-08 00:00...| 16.0|    1|\n",
      "|[2022-04-20 12:00...| 25.0|    6|\n",
      "+--------------------+-----+-----+\n",
      "only showing top 20 rows\n",
      "\n"
     ]
    },
    {
     "name": "stderr",
     "output_type": "stream",
     "text": [
      "                                                                                \r"
     ]
    },
    {
     "name": "stdout",
     "output_type": "stream",
     "text": [
      "-------------------------------------------\n",
      "Batch: 36\n",
      "-------------------------------------------\n",
      "+--------------------+-----+-----+\n",
      "|              window|value|count|\n",
      "+--------------------+-----+-----+\n",
      "|[2022-04-28 00:00...| 24.0|    7|\n",
      "|[2022-03-31 12:00...| 23.0|    1|\n",
      "|[2022-04-08 00:00...| 64.0|    2|\n",
      "|[2022-05-10 12:00...| 12.0|   12|\n",
      "|[2022-03-31 12:00...| 29.0|    1|\n",
      "|[2022-04-10 12:00...| 63.0|    1|\n",
      "|[2022-04-18 00:00...| 50.0|    1|\n",
      "|[2022-03-29 00:00...| 19.0|   14|\n",
      "|[2022-04-20 12:00...| 47.0|    1|\n",
      "|[2022-04-30 12:00...| 38.0|    1|\n",
      "|[2022-04-05 12:00...| 32.0|    1|\n",
      "|[2022-05-08 00:00...| 24.0|    9|\n",
      "|[2022-04-30 12:00...| 24.0|    7|\n",
      "|[2022-04-05 12:00...| 49.0|    2|\n",
      "|[2022-04-08 00:00...| 55.0|    2|\n",
      "|[2022-04-15 12:00...| 32.0|    7|\n",
      "|[2022-04-05 12:00...| 56.0|    4|\n",
      "|[2022-04-23 00:00...| 15.0|   24|\n",
      "|[2022-05-08 00:00...| 16.0|    1|\n",
      "|[2022-04-20 12:00...| 25.0|    6|\n",
      "+--------------------+-----+-----+\n",
      "only showing top 20 rows\n",
      "\n"
     ]
    },
    {
     "name": "stderr",
     "output_type": "stream",
     "text": [
      "                                                                                \r"
     ]
    },
    {
     "name": "stdout",
     "output_type": "stream",
     "text": [
      "-------------------------------------------\n",
      "Batch: 37\n",
      "-------------------------------------------\n",
      "+--------------------+-----+-----+\n",
      "|              window|value|count|\n",
      "+--------------------+-----+-----+\n",
      "|[2022-04-28 00:00...| 24.0|    7|\n",
      "|[2022-03-31 12:00...| 23.0|    1|\n",
      "|[2022-04-08 00:00...| 64.0|    2|\n",
      "|[2022-05-10 12:00...| 12.0|   12|\n",
      "|[2022-03-31 12:00...| 29.0|    1|\n",
      "|[2022-04-10 12:00...| 63.0|    1|\n",
      "|[2022-04-18 00:00...| 50.0|    1|\n",
      "|[2022-03-29 00:00...| 19.0|   14|\n",
      "|[2022-04-20 12:00...| 47.0|    1|\n",
      "|[2022-04-30 12:00...| 38.0|    1|\n",
      "|[2022-04-05 12:00...| 32.0|    1|\n",
      "|[2022-05-08 00:00...| 24.0|    9|\n",
      "|[2022-04-30 12:00...| 24.0|    7|\n",
      "|[2022-04-05 12:00...| 49.0|    2|\n",
      "|[2022-04-08 00:00...| 55.0|    2|\n",
      "|[2022-04-15 12:00...| 32.0|    7|\n",
      "|[2022-04-05 12:00...| 56.0|    4|\n",
      "|[2022-04-23 00:00...| 15.0|   24|\n",
      "|[2022-05-08 00:00...| 16.0|    1|\n",
      "|[2022-04-20 12:00...| 25.0|    6|\n",
      "+--------------------+-----+-----+\n",
      "only showing top 20 rows\n",
      "\n"
     ]
    },
    {
     "name": "stderr",
     "output_type": "stream",
     "text": [
      "                                                                                \r"
     ]
    },
    {
     "name": "stdout",
     "output_type": "stream",
     "text": [
      "-------------------------------------------\n",
      "Batch: 38\n",
      "-------------------------------------------\n",
      "+--------------------+-----+-----+\n",
      "|              window|value|count|\n",
      "+--------------------+-----+-----+\n",
      "|[2022-04-28 00:00...| 24.0|    7|\n",
      "|[2022-03-31 12:00...| 23.0|    1|\n",
      "|[2022-04-08 00:00...| 64.0|    2|\n",
      "|[2022-05-10 12:00...| 12.0|   12|\n",
      "|[2022-03-31 12:00...| 29.0|    1|\n",
      "|[2022-04-10 12:00...| 63.0|    1|\n",
      "|[2022-04-18 00:00...| 50.0|    1|\n",
      "|[2022-03-29 00:00...| 19.0|   14|\n",
      "|[2022-04-20 12:00...| 47.0|    1|\n",
      "|[2022-04-30 12:00...| 38.0|    1|\n",
      "|[2022-04-05 12:00...| 32.0|    1|\n",
      "|[2022-05-08 00:00...| 24.0|    9|\n",
      "|[2022-04-30 12:00...| 24.0|    7|\n",
      "|[2022-04-05 12:00...| 49.0|    2|\n",
      "|[2022-04-08 00:00...| 55.0|    2|\n",
      "|[2022-04-15 12:00...| 32.0|    7|\n",
      "|[2022-04-05 12:00...| 56.0|    4|\n",
      "|[2022-04-23 00:00...| 15.0|   24|\n",
      "|[2022-05-08 00:00...| 16.0|    1|\n",
      "|[2022-04-20 12:00...| 25.0|    6|\n",
      "+--------------------+-----+-----+\n",
      "only showing top 20 rows\n",
      "\n"
     ]
    },
    {
     "name": "stderr",
     "output_type": "stream",
     "text": [
      "[Stage 79:===================================================>  (189 + 4) / 200]\r"
     ]
    },
    {
     "name": "stdout",
     "output_type": "stream",
     "text": [
      "-------------------------------------------\n",
      "Batch: 39\n",
      "-------------------------------------------\n",
      "+--------------------+-----+-----+\n",
      "|              window|value|count|\n",
      "+--------------------+-----+-----+\n",
      "|[2022-04-28 00:00...| 24.0|    7|\n",
      "|[2022-03-31 12:00...| 23.0|    1|\n",
      "|[2022-04-08 00:00...| 64.0|    2|\n",
      "|[2022-05-10 12:00...| 12.0|   12|\n",
      "|[2022-03-31 12:00...| 29.0|    1|\n",
      "|[2022-04-10 12:00...| 63.0|    1|\n",
      "|[2022-04-18 00:00...| 50.0|    1|\n",
      "|[2022-03-29 00:00...| 19.0|   14|\n",
      "|[2022-04-20 12:00...| 47.0|    1|\n",
      "|[2022-04-30 12:00...| 38.0|    1|\n",
      "|[2022-04-05 12:00...| 32.0|    1|\n",
      "|[2022-05-08 00:00...| 24.0|    9|\n",
      "|[2022-04-30 12:00...| 24.0|    7|\n",
      "|[2022-04-05 12:00...| 49.0|    2|\n",
      "|[2022-04-08 00:00...| 55.0|    2|\n",
      "|[2022-04-15 12:00...| 32.0|    7|\n",
      "|[2022-04-05 12:00...| 56.0|    4|\n",
      "|[2022-04-23 00:00...| 15.0|   24|\n",
      "|[2022-05-08 00:00...| 16.0|    1|\n",
      "|[2022-04-20 12:00...| 25.0|    6|\n",
      "+--------------------+-----+-----+\n",
      "only showing top 20 rows\n",
      "\n"
     ]
    },
    {
     "name": "stderr",
     "output_type": "stream",
     "text": [
      "[Stage 81:=================================================>    (185 + 4) / 200]\r"
     ]
    },
    {
     "name": "stdout",
     "output_type": "stream",
     "text": [
      "-------------------------------------------\n",
      "Batch: 40\n",
      "-------------------------------------------\n",
      "+--------------------+-----+-----+\n",
      "|              window|value|count|\n",
      "+--------------------+-----+-----+\n",
      "|[2022-04-28 00:00...| 24.0|    7|\n",
      "|[2022-03-31 12:00...| 23.0|    1|\n",
      "|[2022-04-08 00:00...| 64.0|    2|\n",
      "|[2022-05-10 12:00...| 12.0|   12|\n",
      "|[2022-03-31 12:00...| 29.0|    1|\n",
      "|[2022-04-10 12:00...| 63.0|    1|\n",
      "|[2022-04-18 00:00...| 50.0|    1|\n",
      "|[2022-05-15 12:00...| 20.0|    2|\n",
      "|[2022-03-29 00:00...| 19.0|   14|\n",
      "|[2022-04-20 12:00...| 47.0|    1|\n",
      "|[2022-04-30 12:00...| 38.0|    1|\n",
      "|[2022-04-05 12:00...| 32.0|    1|\n",
      "|[2022-05-08 00:00...| 24.0|    9|\n",
      "|[2022-04-30 12:00...| 24.0|    7|\n",
      "|[2022-04-05 12:00...| 49.0|    2|\n",
      "|[2022-04-08 00:00...| 55.0|    2|\n",
      "|[2022-04-15 12:00...| 32.0|    7|\n",
      "|[2022-04-05 12:00...| 56.0|    4|\n",
      "|[2022-04-23 00:00...| 15.0|   24|\n",
      "|[2022-05-08 00:00...| 16.0|    1|\n",
      "+--------------------+-----+-----+\n",
      "only showing top 20 rows\n",
      "\n"
     ]
    },
    {
     "name": "stderr",
     "output_type": "stream",
     "text": [
      "                                                                                \r"
     ]
    },
    {
     "name": "stdout",
     "output_type": "stream",
     "text": [
      "-------------------------------------------\n",
      "Batch: 41\n",
      "-------------------------------------------\n",
      "+--------------------+-----+-----+\n",
      "|              window|value|count|\n",
      "+--------------------+-----+-----+\n",
      "|[2022-04-28 00:00...| 24.0|    7|\n",
      "|[2022-03-31 12:00...| 23.0|    1|\n",
      "|[2022-04-08 00:00...| 64.0|    2|\n",
      "|[2022-05-10 12:00...| 12.0|   12|\n",
      "|[2022-03-31 12:00...| 29.0|    1|\n",
      "|[2022-04-10 12:00...| 63.0|    1|\n",
      "|[2022-04-18 00:00...| 50.0|    1|\n",
      "|[2022-05-15 12:00...| 20.0|    2|\n",
      "|[2022-03-29 00:00...| 19.0|   14|\n",
      "|[2022-04-20 12:00...| 47.0|    1|\n",
      "|[2022-04-30 12:00...| 38.0|    1|\n",
      "|[2022-04-05 12:00...| 32.0|    1|\n",
      "|[2022-05-08 00:00...| 24.0|    9|\n",
      "|[2022-04-30 12:00...| 24.0|    7|\n",
      "|[2022-04-05 12:00...| 49.0|    2|\n",
      "|[2022-04-08 00:00...| 55.0|    2|\n",
      "|[2022-04-15 12:00...| 32.0|    7|\n",
      "|[2022-04-05 12:00...| 56.0|    4|\n",
      "|[2022-04-23 00:00...| 15.0|   24|\n",
      "|[2022-05-08 00:00...| 16.0|    1|\n",
      "+--------------------+-----+-----+\n",
      "only showing top 20 rows\n",
      "\n"
     ]
    },
    {
     "name": "stderr",
     "output_type": "stream",
     "text": [
      "                                                                                \r"
     ]
    },
    {
     "name": "stdout",
     "output_type": "stream",
     "text": [
      "-------------------------------------------\n",
      "Batch: 42\n",
      "-------------------------------------------\n",
      "+--------------------+-----+-----+\n",
      "|              window|value|count|\n",
      "+--------------------+-----+-----+\n",
      "|[2022-04-28 00:00...| 24.0|    7|\n",
      "|[2022-03-31 12:00...| 23.0|    1|\n",
      "|[2022-04-08 00:00...| 64.0|    2|\n",
      "|[2022-05-10 12:00...| 12.0|   12|\n",
      "|[2022-03-31 12:00...| 29.0|    1|\n",
      "|[2022-04-10 12:00...| 63.0|    1|\n",
      "|[2022-04-18 00:00...| 50.0|    1|\n",
      "|[2022-05-15 12:00...| 20.0|    3|\n",
      "|[2022-03-29 00:00...| 19.0|   14|\n",
      "|[2022-04-20 12:00...| 47.0|    1|\n",
      "|[2022-04-30 12:00...| 38.0|    1|\n",
      "|[2022-04-05 12:00...| 32.0|    1|\n",
      "|[2022-05-08 00:00...| 24.0|    9|\n",
      "|[2022-04-30 12:00...| 24.0|    7|\n",
      "|[2022-04-05 12:00...| 49.0|    2|\n",
      "|[2022-04-08 00:00...| 55.0|    2|\n",
      "|[2022-04-15 12:00...| 32.0|    7|\n",
      "|[2022-04-05 12:00...| 56.0|    4|\n",
      "|[2022-04-23 00:00...| 15.0|   24|\n",
      "|[2022-05-08 00:00...| 16.0|    1|\n",
      "+--------------------+-----+-----+\n",
      "only showing top 20 rows\n",
      "\n"
     ]
    },
    {
     "name": "stderr",
     "output_type": "stream",
     "text": [
      "                                                                                \r"
     ]
    },
    {
     "name": "stdout",
     "output_type": "stream",
     "text": [
      "-------------------------------------------\n",
      "Batch: 43\n",
      "-------------------------------------------\n",
      "+--------------------+-----+-----+\n",
      "|              window|value|count|\n",
      "+--------------------+-----+-----+\n",
      "|[2022-04-28 00:00...| 24.0|    7|\n",
      "|[2022-03-31 12:00...| 23.0|    1|\n",
      "|[2022-04-08 00:00...| 64.0|    2|\n",
      "|[2022-05-10 12:00...| 12.0|   12|\n",
      "|[2022-03-31 12:00...| 29.0|    1|\n",
      "|[2022-04-10 12:00...| 63.0|    1|\n",
      "|[2022-04-18 00:00...| 50.0|    1|\n",
      "|[2022-05-15 12:00...| 20.0|    3|\n",
      "|[2022-03-29 00:00...| 19.0|   14|\n",
      "|[2022-04-20 12:00...| 47.0|    1|\n",
      "|[2022-04-30 12:00...| 38.0|    1|\n",
      "|[2022-04-05 12:00...| 32.0|    1|\n",
      "|[2022-05-08 00:00...| 24.0|    9|\n",
      "|[2022-04-30 12:00...| 24.0|    7|\n",
      "|[2022-04-05 12:00...| 49.0|    2|\n",
      "|[2022-04-08 00:00...| 55.0|    2|\n",
      "|[2022-04-15 12:00...| 32.0|    7|\n",
      "|[2022-04-05 12:00...| 56.0|    4|\n",
      "|[2022-04-23 00:00...| 15.0|   24|\n",
      "|[2022-05-08 00:00...| 16.0|    1|\n",
      "+--------------------+-----+-----+\n",
      "only showing top 20 rows\n",
      "\n"
     ]
    },
    {
     "name": "stderr",
     "output_type": "stream",
     "text": [
      "                                                                                \r"
     ]
    },
    {
     "name": "stdout",
     "output_type": "stream",
     "text": [
      "-------------------------------------------\n",
      "Batch: 44\n",
      "-------------------------------------------\n",
      "+--------------------+-----+-----+\n",
      "|              window|value|count|\n",
      "+--------------------+-----+-----+\n",
      "|[2022-04-28 00:00...| 24.0|    7|\n",
      "|[2022-03-31 12:00...| 23.0|    1|\n",
      "|[2022-04-08 00:00...| 64.0|    2|\n",
      "|[2022-05-10 12:00...| 12.0|   12|\n",
      "|[2022-03-31 12:00...| 29.0|    1|\n",
      "|[2022-04-10 12:00...| 63.0|    1|\n",
      "|[2022-04-18 00:00...| 50.0|    1|\n",
      "|[2022-05-15 12:00...| 20.0|    3|\n",
      "|[2022-03-29 00:00...| 19.0|   14|\n",
      "|[2022-04-20 12:00...| 47.0|    1|\n",
      "|[2022-04-30 12:00...| 38.0|    1|\n",
      "|[2022-04-05 12:00...| 32.0|    1|\n",
      "|[2022-05-08 00:00...| 24.0|    9|\n",
      "|[2022-04-30 12:00...| 24.0|    7|\n",
      "|[2022-04-05 12:00...| 49.0|    2|\n",
      "|[2022-04-08 00:00...| 55.0|    2|\n",
      "|[2022-04-15 12:00...| 32.0|    7|\n",
      "|[2022-04-05 12:00...| 56.0|    4|\n",
      "|[2022-04-23 00:00...| 15.0|   24|\n",
      "|[2022-05-08 00:00...| 16.0|    1|\n",
      "+--------------------+-----+-----+\n",
      "only showing top 20 rows\n",
      "\n"
     ]
    },
    {
     "name": "stderr",
     "output_type": "stream",
     "text": [
      "[Stage 91:=================================================>    (184 + 4) / 200]\r"
     ]
    },
    {
     "name": "stdout",
     "output_type": "stream",
     "text": [
      "-------------------------------------------\n",
      "Batch: 45\n",
      "-------------------------------------------\n",
      "+--------------------+-----+-----+\n",
      "|              window|value|count|\n",
      "+--------------------+-----+-----+\n",
      "|[2022-04-28 00:00...| 24.0|    7|\n",
      "|[2022-03-31 12:00...| 23.0|    1|\n",
      "|[2022-04-08 00:00...| 64.0|    2|\n",
      "|[2022-05-10 12:00...| 12.0|   12|\n",
      "|[2022-03-31 12:00...| 29.0|    1|\n",
      "|[2022-04-10 12:00...| 63.0|    1|\n",
      "|[2022-04-18 00:00...| 50.0|    1|\n",
      "|[2022-05-15 12:00...| 20.0|    3|\n",
      "|[2022-03-29 00:00...| 19.0|   14|\n",
      "|[2022-04-20 12:00...| 47.0|    1|\n",
      "|[2022-04-30 12:00...| 38.0|    1|\n",
      "|[2022-04-05 12:00...| 32.0|    1|\n",
      "|[2022-05-08 00:00...| 24.0|    9|\n",
      "|[2022-04-30 12:00...| 24.0|    7|\n",
      "|[2022-04-05 12:00...| 49.0|    2|\n",
      "|[2022-04-08 00:00...| 55.0|    2|\n",
      "|[2022-04-15 12:00...| 32.0|    7|\n",
      "|[2022-04-05 12:00...| 56.0|    4|\n",
      "|[2022-04-23 00:00...| 15.0|   24|\n",
      "|[2022-05-08 00:00...| 16.0|    1|\n",
      "+--------------------+-----+-----+\n",
      "only showing top 20 rows\n",
      "\n"
     ]
    },
    {
     "name": "stderr",
     "output_type": "stream",
     "text": [
      "                                                                                \r"
     ]
    },
    {
     "name": "stdout",
     "output_type": "stream",
     "text": [
      "-------------------------------------------\n",
      "Batch: 46\n",
      "-------------------------------------------\n",
      "+--------------------+-----+-----+\n",
      "|              window|value|count|\n",
      "+--------------------+-----+-----+\n",
      "|[2022-04-28 00:00...| 24.0|    7|\n",
      "|[2022-03-31 12:00...| 23.0|    1|\n",
      "|[2022-04-08 00:00...| 64.0|    2|\n",
      "|[2022-05-10 12:00...| 12.0|   12|\n",
      "|[2022-03-31 12:00...| 29.0|    1|\n",
      "|[2022-04-10 12:00...| 63.0|    1|\n",
      "|[2022-04-18 00:00...| 50.0|    1|\n",
      "|[2022-05-15 12:00...| 20.0|    3|\n",
      "|[2022-03-29 00:00...| 19.0|   14|\n",
      "|[2022-04-20 12:00...| 47.0|    1|\n",
      "|[2022-04-30 12:00...| 38.0|    1|\n",
      "|[2022-04-05 12:00...| 32.0|    1|\n",
      "|[2022-05-08 00:00...| 24.0|    9|\n",
      "|[2022-04-30 12:00...| 24.0|    7|\n",
      "|[2022-04-05 12:00...| 49.0|    2|\n",
      "|[2022-04-08 00:00...| 55.0|    2|\n",
      "|[2022-04-15 12:00...| 32.0|    7|\n",
      "|[2022-04-05 12:00...| 56.0|    4|\n",
      "|[2022-04-23 00:00...| 15.0|   24|\n",
      "|[2022-05-08 00:00...| 16.0|    1|\n",
      "+--------------------+-----+-----+\n",
      "only showing top 20 rows\n",
      "\n"
     ]
    },
    {
     "name": "stderr",
     "output_type": "stream",
     "text": [
      "                                                                                \r"
     ]
    },
    {
     "name": "stdout",
     "output_type": "stream",
     "text": [
      "-------------------------------------------\n",
      "Batch: 47\n",
      "-------------------------------------------\n",
      "+--------------------+-----+-----+\n",
      "|              window|value|count|\n",
      "+--------------------+-----+-----+\n",
      "|[2022-04-28 00:00...| 24.0|    7|\n",
      "|[2022-03-31 12:00...| 23.0|    1|\n",
      "|[2022-04-08 00:00...| 64.0|    2|\n",
      "|[2022-05-10 12:00...| 12.0|   12|\n",
      "|[2022-03-31 12:00...| 29.0|    1|\n",
      "|[2022-04-10 12:00...| 63.0|    1|\n",
      "|[2022-04-18 00:00...| 50.0|    1|\n",
      "|[2022-05-15 12:00...| 20.0|    3|\n",
      "|[2022-03-29 00:00...| 19.0|   14|\n",
      "|[2022-04-20 12:00...| 47.0|    1|\n",
      "|[2022-04-30 12:00...| 38.0|    1|\n",
      "|[2022-04-05 12:00...| 32.0|    1|\n",
      "|[2022-05-08 00:00...| 24.0|    9|\n",
      "|[2022-04-30 12:00...| 24.0|    7|\n",
      "|[2022-04-05 12:00...| 49.0|    2|\n",
      "|[2022-04-08 00:00...| 55.0|    2|\n",
      "|[2022-04-15 12:00...| 32.0|    7|\n",
      "|[2022-04-05 12:00...| 56.0|    4|\n",
      "|[2022-04-23 00:00...| 15.0|   24|\n",
      "|[2022-05-08 00:00...| 16.0|    1|\n",
      "+--------------------+-----+-----+\n",
      "only showing top 20 rows\n",
      "\n"
     ]
    },
    {
     "name": "stderr",
     "output_type": "stream",
     "text": [
      "                                                                                \r"
     ]
    },
    {
     "name": "stdout",
     "output_type": "stream",
     "text": [
      "-------------------------------------------\n",
      "Batch: 48\n",
      "-------------------------------------------\n",
      "+--------------------+-----+-----+\n",
      "|              window|value|count|\n",
      "+--------------------+-----+-----+\n",
      "|[2022-04-28 00:00...| 24.0|    7|\n",
      "|[2022-03-31 12:00...| 23.0|    1|\n",
      "|[2022-04-08 00:00...| 64.0|    2|\n",
      "|[2022-05-10 12:00...| 12.0|   12|\n",
      "|[2022-03-31 12:00...| 29.0|    1|\n",
      "|[2022-04-10 12:00...| 63.0|    1|\n",
      "|[2022-04-18 00:00...| 50.0|    1|\n",
      "|[2022-05-15 12:00...| 20.0|    3|\n",
      "|[2022-03-29 00:00...| 19.0|   14|\n",
      "|[2022-04-20 12:00...| 47.0|    1|\n",
      "|[2022-04-30 12:00...| 38.0|    1|\n",
      "|[2022-04-05 12:00...| 32.0|    1|\n",
      "|[2022-05-08 00:00...| 24.0|    9|\n",
      "|[2022-04-30 12:00...| 24.0|    7|\n",
      "|[2022-04-05 12:00...| 49.0|    2|\n",
      "|[2022-04-08 00:00...| 55.0|    2|\n",
      "|[2022-04-15 12:00...| 32.0|    7|\n",
      "|[2022-04-05 12:00...| 56.0|    4|\n",
      "|[2022-04-23 00:00...| 15.0|   24|\n",
      "|[2022-05-08 00:00...| 16.0|    1|\n",
      "+--------------------+-----+-----+\n",
      "only showing top 20 rows\n",
      "\n"
     ]
    },
    {
     "name": "stderr",
     "output_type": "stream",
     "text": [
      "                                                                                \r"
     ]
    },
    {
     "name": "stdout",
     "output_type": "stream",
     "text": [
      "-------------------------------------------\n",
      "Batch: 49\n",
      "-------------------------------------------\n",
      "+--------------------+-----+-----+\n",
      "|              window|value|count|\n",
      "+--------------------+-----+-----+\n",
      "|[2022-04-28 00:00...| 24.0|    7|\n",
      "|[2022-03-31 12:00...| 23.0|    1|\n",
      "|[2022-04-08 00:00...| 64.0|    2|\n",
      "|[2022-05-10 12:00...| 12.0|   12|\n",
      "|[2022-03-31 12:00...| 29.0|    1|\n",
      "|[2022-04-10 12:00...| 63.0|    1|\n",
      "|[2022-04-18 00:00...| 50.0|    1|\n",
      "|[2022-05-15 12:00...| 20.0|    3|\n",
      "|[2022-03-29 00:00...| 19.0|   14|\n",
      "|[2022-04-20 12:00...| 47.0|    1|\n",
      "|[2022-04-30 12:00...| 38.0|    1|\n",
      "|[2022-04-05 12:00...| 32.0|    1|\n",
      "|[2022-05-08 00:00...| 24.0|    9|\n",
      "|[2022-04-30 12:00...| 24.0|    7|\n",
      "|[2022-04-05 12:00...| 49.0|    2|\n",
      "|[2022-04-08 00:00...| 55.0|    2|\n",
      "|[2022-04-15 12:00...| 32.0|    7|\n",
      "|[2022-04-05 12:00...| 56.0|    4|\n",
      "|[2022-04-23 00:00...| 15.0|   24|\n",
      "|[2022-05-08 00:00...| 16.0|    1|\n",
      "+--------------------+-----+-----+\n",
      "only showing top 20 rows\n",
      "\n"
     ]
    },
    {
     "name": "stderr",
     "output_type": "stream",
     "text": [
      "                                                                                \r"
     ]
    },
    {
     "name": "stdout",
     "output_type": "stream",
     "text": [
      "-------------------------------------------\n",
      "Batch: 50\n",
      "-------------------------------------------\n",
      "+--------------------+-----+-----+\n",
      "|              window|value|count|\n",
      "+--------------------+-----+-----+\n",
      "|[2022-04-28 00:00...| 24.0|    7|\n",
      "|[2022-03-31 12:00...| 23.0|    1|\n",
      "|[2022-04-08 00:00...| 64.0|    2|\n",
      "|[2022-05-10 12:00...| 12.0|   12|\n",
      "|[2022-03-31 12:00...| 29.0|    1|\n",
      "|[2022-04-10 12:00...| 63.0|    1|\n",
      "|[2022-04-18 00:00...| 50.0|    1|\n",
      "|[2022-05-15 12:00...| 20.0|    3|\n",
      "|[2022-03-29 00:00...| 19.0|   14|\n",
      "|[2022-04-20 12:00...| 47.0|    1|\n",
      "|[2022-04-30 12:00...| 38.0|    1|\n",
      "|[2022-04-05 12:00...| 32.0|    1|\n",
      "|[2022-05-08 00:00...| 24.0|    9|\n",
      "|[2022-04-30 12:00...| 24.0|    7|\n",
      "|[2022-04-05 12:00...| 49.0|    2|\n",
      "|[2022-04-08 00:00...| 55.0|    2|\n",
      "|[2022-04-15 12:00...| 32.0|    7|\n",
      "|[2022-04-05 12:00...| 56.0|    4|\n",
      "|[2022-04-23 00:00...| 15.0|   24|\n",
      "|[2022-05-08 00:00...| 16.0|    1|\n",
      "+--------------------+-----+-----+\n",
      "only showing top 20 rows\n",
      "\n"
     ]
    },
    {
     "name": "stderr",
     "output_type": "stream",
     "text": [
      "                                                                                \r"
     ]
    },
    {
     "name": "stdout",
     "output_type": "stream",
     "text": [
      "-------------------------------------------\n",
      "Batch: 51\n",
      "-------------------------------------------\n",
      "+--------------------+-----+-----+\n",
      "|              window|value|count|\n",
      "+--------------------+-----+-----+\n",
      "|[2022-04-28 00:00...| 24.0|    7|\n",
      "|[2022-03-31 12:00...| 23.0|    1|\n",
      "|[2022-04-08 00:00...| 64.0|    2|\n",
      "|[2022-05-10 12:00...| 12.0|   12|\n",
      "|[2022-03-31 12:00...| 29.0|    1|\n",
      "|[2022-04-10 12:00...| 63.0|    1|\n",
      "|[2022-04-18 00:00...| 50.0|    1|\n",
      "|[2022-05-15 12:00...| 20.0|    3|\n",
      "|[2022-03-29 00:00...| 19.0|   14|\n",
      "|[2022-04-20 12:00...| 47.0|    1|\n",
      "|[2022-04-30 12:00...| 38.0|    1|\n",
      "|[2022-04-05 12:00...| 32.0|    1|\n",
      "|[2022-05-08 00:00...| 24.0|    9|\n",
      "|[2022-04-30 12:00...| 24.0|    7|\n",
      "|[2022-04-05 12:00...| 49.0|    2|\n",
      "|[2022-04-08 00:00...| 55.0|    2|\n",
      "|[2022-04-15 12:00...| 32.0|    7|\n",
      "|[2022-04-05 12:00...| 56.0|    4|\n",
      "|[2022-04-23 00:00...| 15.0|   24|\n",
      "|[2022-05-08 00:00...| 16.0|    1|\n",
      "+--------------------+-----+-----+\n",
      "only showing top 20 rows\n",
      "\n"
     ]
    },
    {
     "name": "stderr",
     "output_type": "stream",
     "text": [
      "                                                                                \r"
     ]
    },
    {
     "name": "stdout",
     "output_type": "stream",
     "text": [
      "-------------------------------------------\n",
      "Batch: 52\n",
      "-------------------------------------------\n",
      "+--------------------+-----+-----+\n",
      "|              window|value|count|\n",
      "+--------------------+-----+-----+\n",
      "|[2022-04-28 00:00...| 24.0|    7|\n",
      "|[2022-03-31 12:00...| 23.0|    1|\n",
      "|[2022-04-08 00:00...| 64.0|    2|\n",
      "|[2022-05-10 12:00...| 12.0|   12|\n",
      "|[2022-03-31 12:00...| 29.0|    1|\n",
      "|[2022-04-10 12:00...| 63.0|    1|\n",
      "|[2022-04-18 00:00...| 50.0|    1|\n",
      "|[2022-05-15 12:00...| 20.0|    3|\n",
      "|[2022-03-29 00:00...| 19.0|   14|\n",
      "|[2022-04-20 12:00...| 47.0|    1|\n",
      "|[2022-04-30 12:00...| 38.0|    1|\n",
      "|[2022-04-05 12:00...| 32.0|    1|\n",
      "|[2022-05-08 00:00...| 24.0|    9|\n",
      "|[2022-04-30 12:00...| 24.0|    7|\n",
      "|[2022-04-05 12:00...| 49.0|    2|\n",
      "|[2022-04-08 00:00...| 55.0|    2|\n",
      "|[2022-04-15 12:00...| 32.0|    7|\n",
      "|[2022-04-05 12:00...| 56.0|    4|\n",
      "|[2022-04-23 00:00...| 15.0|   24|\n",
      "|[2022-05-08 00:00...| 16.0|    1|\n",
      "+--------------------+-----+-----+\n",
      "only showing top 20 rows\n",
      "\n"
     ]
    },
    {
     "name": "stderr",
     "output_type": "stream",
     "text": [
      "                                                                                \r"
     ]
    },
    {
     "name": "stdout",
     "output_type": "stream",
     "text": [
      "-------------------------------------------\n",
      "Batch: 53\n",
      "-------------------------------------------\n",
      "+--------------------+-----+-----+\n",
      "|              window|value|count|\n",
      "+--------------------+-----+-----+\n",
      "|[2022-04-28 00:00...| 24.0|    7|\n",
      "|[2022-03-31 12:00...| 23.0|    1|\n",
      "|[2022-04-08 00:00...| 64.0|    2|\n",
      "|[2022-05-10 12:00...| 12.0|   12|\n",
      "|[2022-03-31 12:00...| 29.0|    1|\n",
      "|[2022-04-10 12:00...| 63.0|    1|\n",
      "|[2022-04-18 00:00...| 50.0|    1|\n",
      "|[2022-05-15 12:00...| 20.0|    3|\n",
      "|[2022-03-29 00:00...| 19.0|   14|\n",
      "|[2022-05-28 00:00...| 26.0|    2|\n",
      "|[2022-04-20 12:00...| 47.0|    1|\n",
      "|[2022-04-30 12:00...| 38.0|    1|\n",
      "|[2022-04-05 12:00...| 32.0|    1|\n",
      "|[2022-05-08 00:00...| 24.0|    9|\n",
      "|[2022-04-30 12:00...| 24.0|    7|\n",
      "|[2022-04-05 12:00...| 49.0|    2|\n",
      "|[2022-04-08 00:00...| 55.0|    2|\n",
      "|[2022-04-15 12:00...| 32.0|    7|\n",
      "|[2022-04-05 12:00...| 56.0|    4|\n",
      "|[2022-04-23 00:00...| 15.0|   24|\n",
      "+--------------------+-----+-----+\n",
      "only showing top 20 rows\n",
      "\n"
     ]
    },
    {
     "name": "stderr",
     "output_type": "stream",
     "text": [
      "                                                                                \r"
     ]
    },
    {
     "name": "stdout",
     "output_type": "stream",
     "text": [
      "-------------------------------------------\n",
      "Batch: 54\n",
      "-------------------------------------------\n",
      "+--------------------+-----+-----+\n",
      "|              window|value|count|\n",
      "+--------------------+-----+-----+\n",
      "|[2022-04-28 00:00...| 24.0|    7|\n",
      "|[2022-03-31 12:00...| 23.0|    1|\n",
      "|[2022-04-08 00:00...| 64.0|    2|\n",
      "|[2022-05-10 12:00...| 12.0|   12|\n",
      "|[2022-03-31 12:00...| 29.0|    1|\n",
      "|[2022-04-10 12:00...| 63.0|    1|\n",
      "|[2022-04-18 00:00...| 50.0|    1|\n",
      "|[2022-05-15 12:00...| 20.0|    3|\n",
      "|[2022-03-29 00:00...| 19.0|   14|\n",
      "|[2022-05-28 00:00...| 26.0|    5|\n",
      "|[2022-04-20 12:00...| 47.0|    1|\n",
      "|[2022-04-30 12:00...| 38.0|    1|\n",
      "|[2022-04-05 12:00...| 32.0|    1|\n",
      "|[2022-05-08 00:00...| 24.0|    9|\n",
      "|[2022-04-30 12:00...| 24.0|    7|\n",
      "|[2022-04-05 12:00...| 49.0|    2|\n",
      "|[2022-04-08 00:00...| 55.0|    2|\n",
      "|[2022-04-15 12:00...| 32.0|    7|\n",
      "|[2022-04-05 12:00...| 56.0|    4|\n",
      "|[2022-04-23 00:00...| 15.0|   24|\n",
      "+--------------------+-----+-----+\n",
      "only showing top 20 rows\n",
      "\n"
     ]
    },
    {
     "name": "stderr",
     "output_type": "stream",
     "text": [
      "                                                                                \r"
     ]
    },
    {
     "name": "stdout",
     "output_type": "stream",
     "text": [
      "-------------------------------------------\n",
      "Batch: 55\n",
      "-------------------------------------------\n",
      "+--------------------+-----+-----+\n",
      "|              window|value|count|\n",
      "+--------------------+-----+-----+\n",
      "|[2022-04-28 00:00...| 24.0|    7|\n",
      "|[2022-03-31 12:00...| 23.0|    1|\n",
      "|[2022-04-08 00:00...| 64.0|    2|\n",
      "|[2022-05-10 12:00...| 12.0|   12|\n",
      "|[2022-03-31 12:00...| 29.0|    1|\n",
      "|[2022-04-10 12:00...| 63.0|    1|\n",
      "|[2022-04-18 00:00...| 50.0|    1|\n",
      "|[2022-05-15 12:00...| 20.0|    3|\n",
      "|[2022-03-29 00:00...| 19.0|   14|\n",
      "|[2022-05-28 00:00...| 26.0|    5|\n",
      "|[2022-04-20 12:00...| 47.0|    1|\n",
      "|[2022-04-30 12:00...| 38.0|    1|\n",
      "|[2022-04-05 12:00...| 32.0|    1|\n",
      "|[2022-05-08 00:00...| 24.0|    9|\n",
      "|[2022-04-30 12:00...| 24.0|    7|\n",
      "|[2022-04-05 12:00...| 49.0|    2|\n",
      "|[2022-04-08 00:00...| 55.0|    2|\n",
      "|[2022-04-15 12:00...| 32.0|    7|\n",
      "|[2022-04-05 12:00...| 56.0|    4|\n",
      "|[2022-04-23 00:00...| 15.0|   24|\n",
      "+--------------------+-----+-----+\n",
      "only showing top 20 rows\n",
      "\n"
     ]
    },
    {
     "name": "stderr",
     "output_type": "stream",
     "text": [
      "                                                                                \r"
     ]
    },
    {
     "name": "stdout",
     "output_type": "stream",
     "text": [
      "-------------------------------------------\n",
      "Batch: 56\n",
      "-------------------------------------------\n",
      "+--------------------+-----+-----+\n",
      "|              window|value|count|\n",
      "+--------------------+-----+-----+\n",
      "|[2022-04-28 00:00...| 24.0|    7|\n",
      "|[2022-03-31 12:00...| 23.0|    1|\n",
      "|[2022-04-08 00:00...| 64.0|    2|\n",
      "|[2022-05-10 12:00...| 12.0|   12|\n",
      "|[2022-03-31 12:00...| 29.0|    1|\n",
      "|[2022-04-10 12:00...| 63.0|    1|\n",
      "|[2022-04-18 00:00...| 50.0|    1|\n",
      "|[2022-05-15 12:00...| 20.0|    3|\n",
      "|[2022-03-29 00:00...| 19.0|   14|\n",
      "|[2022-05-28 00:00...| 26.0|    5|\n",
      "|[2022-04-20 12:00...| 47.0|    1|\n",
      "|[2022-04-30 12:00...| 38.0|    1|\n",
      "|[2022-04-05 12:00...| 32.0|    1|\n",
      "|[2022-05-08 00:00...| 24.0|    9|\n",
      "|[2022-04-30 12:00...| 24.0|    7|\n",
      "|[2022-04-05 12:00...| 49.0|    2|\n",
      "|[2022-04-08 00:00...| 55.0|    2|\n",
      "|[2022-04-15 12:00...| 32.0|    7|\n",
      "|[2022-04-05 12:00...| 56.0|    4|\n",
      "|[2022-04-23 00:00...| 15.0|   24|\n",
      "+--------------------+-----+-----+\n",
      "only showing top 20 rows\n",
      "\n"
     ]
    },
    {
     "name": "stderr",
     "output_type": "stream",
     "text": [
      "                                                                                \r"
     ]
    },
    {
     "name": "stdout",
     "output_type": "stream",
     "text": [
      "-------------------------------------------\n",
      "Batch: 57\n",
      "-------------------------------------------\n",
      "+--------------------+-----+-----+\n",
      "|              window|value|count|\n",
      "+--------------------+-----+-----+\n",
      "|[2022-04-28 00:00...| 24.0|    7|\n",
      "|[2022-03-31 12:00...| 23.0|    1|\n",
      "|[2022-04-08 00:00...| 64.0|    2|\n",
      "|[2022-05-10 12:00...| 12.0|   12|\n",
      "|[2022-06-02 00:00...| 25.0|    2|\n",
      "|[2022-03-31 12:00...| 29.0|    1|\n",
      "|[2022-04-10 12:00...| 63.0|    1|\n",
      "|[2022-04-18 00:00...| 50.0|    1|\n",
      "|[2022-05-15 12:00...| 20.0|    3|\n",
      "|[2022-03-29 00:00...| 19.0|   14|\n",
      "|[2022-05-28 00:00...| 26.0|    5|\n",
      "|[2022-04-20 12:00...| 47.0|    1|\n",
      "|[2022-04-30 12:00...| 38.0|    1|\n",
      "|[2022-04-05 12:00...| 32.0|    1|\n",
      "|[2022-05-08 00:00...| 24.0|    9|\n",
      "|[2022-04-30 12:00...| 24.0|    7|\n",
      "|[2022-04-05 12:00...| 49.0|    2|\n",
      "|[2022-04-08 00:00...| 55.0|    2|\n",
      "|[2022-04-15 12:00...| 32.0|    7|\n",
      "|[2022-04-05 12:00...| 56.0|    4|\n",
      "+--------------------+-----+-----+\n",
      "only showing top 20 rows\n",
      "\n"
     ]
    },
    {
     "name": "stderr",
     "output_type": "stream",
     "text": [
      "                                                                                \r"
     ]
    },
    {
     "name": "stdout",
     "output_type": "stream",
     "text": [
      "-------------------------------------------\n",
      "Batch: 58\n",
      "-------------------------------------------\n",
      "+--------------------+-----+-----+\n",
      "|              window|value|count|\n",
      "+--------------------+-----+-----+\n",
      "|[2022-04-28 00:00...| 24.0|    7|\n",
      "|[2022-03-31 12:00...| 23.0|    1|\n",
      "|[2022-04-08 00:00...| 64.0|    2|\n",
      "|[2022-05-10 12:00...| 12.0|   12|\n",
      "|[2022-06-02 00:00...| 25.0|    2|\n",
      "|[2022-03-31 12:00...| 29.0|    1|\n",
      "|[2022-04-10 12:00...| 63.0|    1|\n",
      "|[2022-04-18 00:00...| 50.0|    1|\n",
      "|[2022-05-15 12:00...| 20.0|    3|\n",
      "|[2022-03-29 00:00...| 19.0|   14|\n",
      "|[2022-05-28 00:00...| 26.0|    5|\n",
      "|[2022-04-20 12:00...| 47.0|    1|\n",
      "|[2022-04-30 12:00...| 38.0|    1|\n",
      "|[2022-04-05 12:00...| 32.0|    1|\n",
      "|[2022-05-08 00:00...| 24.0|    9|\n",
      "|[2022-04-30 12:00...| 24.0|    7|\n",
      "|[2022-04-05 12:00...| 49.0|    2|\n",
      "|[2022-04-08 00:00...| 55.0|    2|\n",
      "|[2022-04-15 12:00...| 32.0|    7|\n",
      "|[2022-04-05 12:00...| 56.0|    4|\n",
      "+--------------------+-----+-----+\n",
      "only showing top 20 rows\n",
      "\n"
     ]
    },
    {
     "name": "stderr",
     "output_type": "stream",
     "text": [
      "                                                                                \r"
     ]
    },
    {
     "name": "stdout",
     "output_type": "stream",
     "text": [
      "-------------------------------------------\n",
      "Batch: 59\n",
      "-------------------------------------------\n",
      "+--------------------+-----+-----+\n",
      "|              window|value|count|\n",
      "+--------------------+-----+-----+\n",
      "|[2022-04-28 00:00...| 24.0|    7|\n",
      "|[2022-03-31 12:00...| 23.0|    1|\n",
      "|[2022-04-08 00:00...| 64.0|    2|\n",
      "|[2022-05-10 12:00...| 12.0|   12|\n",
      "|[2022-06-02 00:00...| 25.0|    2|\n",
      "|[2022-03-31 12:00...| 29.0|    1|\n",
      "|[2022-04-10 12:00...| 63.0|    1|\n",
      "|[2022-04-18 00:00...| 50.0|    1|\n",
      "|[2022-05-15 12:00...| 20.0|    3|\n",
      "|[2022-03-29 00:00...| 19.0|   14|\n",
      "|[2022-05-28 00:00...| 26.0|    5|\n",
      "|[2022-04-20 12:00...| 47.0|    1|\n",
      "|[2022-04-30 12:00...| 38.0|    1|\n",
      "|[2022-04-05 12:00...| 32.0|    1|\n",
      "|[2022-05-08 00:00...| 24.0|    9|\n",
      "|[2022-04-30 12:00...| 24.0|    7|\n",
      "|[2022-04-05 12:00...| 49.0|    2|\n",
      "|[2022-04-08 00:00...| 55.0|    2|\n",
      "|[2022-04-15 12:00...| 32.0|    7|\n",
      "|[2022-04-05 12:00...| 56.0|    4|\n",
      "+--------------------+-----+-----+\n",
      "only showing top 20 rows\n",
      "\n"
     ]
    },
    {
     "name": "stderr",
     "output_type": "stream",
     "text": [
      "                                                                                \r"
     ]
    },
    {
     "name": "stdout",
     "output_type": "stream",
     "text": [
      "-------------------------------------------\n",
      "Batch: 60\n",
      "-------------------------------------------\n",
      "+--------------------+-----+-----+\n",
      "|              window|value|count|\n",
      "+--------------------+-----+-----+\n",
      "|[2022-04-28 00:00...| 24.0|    7|\n",
      "|[2022-03-31 12:00...| 23.0|    1|\n",
      "|[2022-04-08 00:00...| 64.0|    2|\n",
      "|[2022-05-10 12:00...| 12.0|   12|\n",
      "|[2022-06-02 00:00...| 25.0|    2|\n",
      "|[2022-03-31 12:00...| 29.0|    1|\n",
      "|[2022-04-10 12:00...| 63.0|    1|\n",
      "|[2022-04-18 00:00...| 50.0|    1|\n",
      "|[2022-05-15 12:00...| 20.0|    3|\n",
      "|[2022-03-29 00:00...| 19.0|   14|\n",
      "|[2022-05-28 00:00...| 26.0|    5|\n",
      "|[2022-04-20 12:00...| 47.0|    1|\n",
      "|[2022-04-30 12:00...| 38.0|    1|\n",
      "|[2022-04-05 12:00...| 32.0|    1|\n",
      "|[2022-05-08 00:00...| 24.0|    9|\n",
      "|[2022-04-30 12:00...| 24.0|    7|\n",
      "|[2022-04-05 12:00...| 49.0|    2|\n",
      "|[2022-04-08 00:00...| 55.0|    2|\n",
      "|[2022-04-15 12:00...| 32.0|    7|\n",
      "|[2022-04-05 12:00...| 56.0|    4|\n",
      "+--------------------+-----+-----+\n",
      "only showing top 20 rows\n",
      "\n"
     ]
    },
    {
     "name": "stderr",
     "output_type": "stream",
     "text": [
      "                                                                                \r"
     ]
    },
    {
     "name": "stdout",
     "output_type": "stream",
     "text": [
      "-------------------------------------------\n",
      "Batch: 61\n",
      "-------------------------------------------\n",
      "+--------------------+-----+-----+\n",
      "|              window|value|count|\n",
      "+--------------------+-----+-----+\n",
      "|[2022-04-28 00:00...| 24.0|    7|\n",
      "|[2022-03-31 12:00...| 23.0|    1|\n",
      "|[2022-04-08 00:00...| 64.0|    2|\n",
      "|[2022-05-10 12:00...| 12.0|   12|\n",
      "|[2022-06-02 00:00...| 25.0|    2|\n",
      "|[2022-03-31 12:00...| 29.0|    1|\n",
      "|[2022-04-10 12:00...| 63.0|    1|\n",
      "|[2022-04-18 00:00...| 50.0|    1|\n",
      "|[2022-05-15 12:00...| 20.0|    3|\n",
      "|[2022-03-29 00:00...| 19.0|   14|\n",
      "|[2022-05-28 00:00...| 26.0|    5|\n",
      "|[2022-04-20 12:00...| 47.0|    1|\n",
      "|[2022-04-30 12:00...| 38.0|    1|\n",
      "|[2022-04-05 12:00...| 32.0|    1|\n",
      "|[2022-05-08 00:00...| 24.0|    9|\n",
      "|[2022-04-30 12:00...| 24.0|    7|\n",
      "|[2022-04-05 12:00...| 49.0|    2|\n",
      "|[2022-04-08 00:00...| 55.0|    2|\n",
      "|[2022-04-15 12:00...| 32.0|    7|\n",
      "|[2022-04-05 12:00...| 56.0|    4|\n",
      "+--------------------+-----+-----+\n",
      "only showing top 20 rows\n",
      "\n"
     ]
    },
    {
     "name": "stderr",
     "output_type": "stream",
     "text": [
      "                                                                                \r"
     ]
    },
    {
     "name": "stdout",
     "output_type": "stream",
     "text": [
      "-------------------------------------------\n",
      "Batch: 62\n",
      "-------------------------------------------\n",
      "+--------------------+-----+-----+\n",
      "|              window|value|count|\n",
      "+--------------------+-----+-----+\n",
      "|[2022-04-28 00:00...| 24.0|    7|\n",
      "|[2022-03-31 12:00...| 23.0|    1|\n",
      "|[2022-04-08 00:00...| 64.0|    2|\n",
      "|[2022-05-10 12:00...| 12.0|   12|\n",
      "|[2022-06-02 00:00...| 25.0|    2|\n",
      "|[2022-03-31 12:00...| 29.0|    1|\n",
      "|[2022-04-10 12:00...| 63.0|    1|\n",
      "|[2022-04-18 00:00...| 50.0|    1|\n",
      "|[2022-05-15 12:00...| 20.0|    3|\n",
      "|[2022-03-29 00:00...| 19.0|   14|\n",
      "|[2022-05-28 00:00...| 26.0|    5|\n",
      "|[2022-04-20 12:00...| 47.0|    1|\n",
      "|[2022-04-30 12:00...| 38.0|    1|\n",
      "|[2022-04-05 12:00...| 32.0|    1|\n",
      "|[2022-05-08 00:00...| 24.0|    9|\n",
      "|[2022-04-30 12:00...| 24.0|    7|\n",
      "|[2022-04-05 12:00...| 49.0|    2|\n",
      "|[2022-04-08 00:00...| 55.0|    2|\n",
      "|[2022-04-15 12:00...| 32.0|    7|\n",
      "|[2022-04-05 12:00...| 56.0|    4|\n",
      "+--------------------+-----+-----+\n",
      "only showing top 20 rows\n",
      "\n"
     ]
    },
    {
     "name": "stderr",
     "output_type": "stream",
     "text": [
      "                                                                                \r"
     ]
    },
    {
     "name": "stdout",
     "output_type": "stream",
     "text": [
      "-------------------------------------------\n",
      "Batch: 63\n",
      "-------------------------------------------\n",
      "+--------------------+-----+-----+\n",
      "|              window|value|count|\n",
      "+--------------------+-----+-----+\n",
      "|[2022-04-28 00:00...| 24.0|    7|\n",
      "|[2022-03-31 12:00...| 23.0|    1|\n",
      "|[2022-04-08 00:00...| 64.0|    2|\n",
      "|[2022-05-10 12:00...| 12.0|   12|\n",
      "|[2022-06-02 00:00...| 25.0|    2|\n",
      "|[2022-03-31 12:00...| 29.0|    1|\n",
      "|[2022-04-10 12:00...| 63.0|    1|\n",
      "|[2022-04-18 00:00...| 50.0|    1|\n",
      "|[2022-05-15 12:00...| 20.0|    3|\n",
      "|[2022-03-29 00:00...| 19.0|   14|\n",
      "|[2022-05-28 00:00...| 26.0|    5|\n",
      "|[2022-06-04 12:00...| 16.0|    1|\n",
      "|[2022-04-20 12:00...| 47.0|    1|\n",
      "|[2022-04-30 12:00...| 38.0|    1|\n",
      "|[2022-04-05 12:00...| 32.0|    1|\n",
      "|[2022-05-08 00:00...| 24.0|    9|\n",
      "|[2022-04-30 12:00...| 24.0|    7|\n",
      "|[2022-04-05 12:00...| 49.0|    2|\n",
      "|[2022-04-08 00:00...| 55.0|    2|\n",
      "|[2022-04-15 12:00...| 32.0|    7|\n",
      "+--------------------+-----+-----+\n",
      "only showing top 20 rows\n",
      "\n"
     ]
    },
    {
     "name": "stderr",
     "output_type": "stream",
     "text": [
      "                                                                                \r"
     ]
    },
    {
     "name": "stdout",
     "output_type": "stream",
     "text": [
      "-------------------------------------------\n",
      "Batch: 64\n",
      "-------------------------------------------\n",
      "+--------------------+-----+-----+\n",
      "|              window|value|count|\n",
      "+--------------------+-----+-----+\n",
      "|[2022-04-28 00:00...| 24.0|    7|\n",
      "|[2022-03-31 12:00...| 23.0|    1|\n",
      "|[2022-04-08 00:00...| 64.0|    2|\n",
      "|[2022-05-10 12:00...| 12.0|   12|\n",
      "|[2022-06-02 00:00...| 25.0|    2|\n",
      "|[2022-03-31 12:00...| 29.0|    1|\n",
      "|[2022-04-10 12:00...| 63.0|    1|\n",
      "|[2022-04-18 00:00...| 50.0|    1|\n",
      "|[2022-05-15 12:00...| 20.0|    3|\n",
      "|[2022-06-04 12:00...| 16.0|    1|\n",
      "|[2022-04-20 12:00...| 47.0|    1|\n",
      "|[2022-04-30 12:00...| 38.0|    1|\n",
      "|[2022-03-29 00:00...| 19.0|   14|\n",
      "|[2022-05-28 00:00...| 26.0|    5|\n",
      "|[2022-04-05 12:00...| 32.0|    1|\n",
      "|[2022-06-07 00:00...| 16.0|    5|\n",
      "|[2022-05-08 00:00...| 24.0|    9|\n",
      "|[2022-04-30 12:00...| 24.0|    7|\n",
      "|[2022-04-05 12:00...| 49.0|    2|\n",
      "|[2022-04-08 00:00...| 55.0|    2|\n",
      "+--------------------+-----+-----+\n",
      "only showing top 20 rows\n",
      "\n"
     ]
    },
    {
     "name": "stderr",
     "output_type": "stream",
     "text": [
      "                                                                                \r"
     ]
    },
    {
     "name": "stdout",
     "output_type": "stream",
     "text": [
      "-------------------------------------------\n",
      "Batch: 65\n",
      "-------------------------------------------\n",
      "+--------------------+-----+-----+\n",
      "|              window|value|count|\n",
      "+--------------------+-----+-----+\n",
      "|[2022-04-28 00:00...| 24.0|    7|\n",
      "|[2022-03-31 12:00...| 23.0|    1|\n",
      "|[2022-04-08 00:00...| 64.0|    2|\n",
      "|[2022-05-10 12:00...| 12.0|   12|\n",
      "|[2022-06-02 00:00...| 25.0|    2|\n",
      "|[2022-03-31 12:00...| 29.0|    1|\n",
      "|[2022-04-10 12:00...| 63.0|    1|\n",
      "|[2022-04-18 00:00...| 50.0|    1|\n",
      "|[2022-05-15 12:00...| 20.0|    3|\n",
      "|[2022-06-04 12:00...| 16.0|    1|\n",
      "|[2022-04-20 12:00...| 47.0|    1|\n",
      "|[2022-04-30 12:00...| 38.0|    1|\n",
      "|[2022-03-29 00:00...| 19.0|   14|\n",
      "|[2022-05-28 00:00...| 26.0|    5|\n",
      "|[2022-04-05 12:00...| 32.0|    1|\n",
      "|[2022-06-07 00:00...| 16.0|   18|\n",
      "|[2022-05-08 00:00...| 24.0|    9|\n",
      "|[2022-04-30 12:00...| 24.0|    7|\n",
      "|[2022-04-05 12:00...| 49.0|    2|\n",
      "|[2022-04-08 00:00...| 55.0|    2|\n",
      "+--------------------+-----+-----+\n",
      "only showing top 20 rows\n",
      "\n"
     ]
    },
    {
     "name": "stderr",
     "output_type": "stream",
     "text": [
      "                                                                                \r"
     ]
    },
    {
     "name": "stdout",
     "output_type": "stream",
     "text": [
      "-------------------------------------------\n",
      "Batch: 66\n",
      "-------------------------------------------\n",
      "+--------------------+-----+-----+\n",
      "|              window|value|count|\n",
      "+--------------------+-----+-----+\n",
      "|[2022-04-28 00:00...| 24.0|    7|\n",
      "|[2022-03-31 12:00...| 23.0|    1|\n",
      "|[2022-04-08 00:00...| 64.0|    2|\n",
      "|[2022-05-10 12:00...| 12.0|   12|\n",
      "|[2022-06-02 00:00...| 25.0|    2|\n",
      "|[2022-03-31 12:00...| 29.0|    1|\n",
      "|[2022-04-10 12:00...| 63.0|    1|\n",
      "|[2022-04-18 00:00...| 50.0|    1|\n",
      "|[2022-05-15 12:00...| 20.0|    3|\n",
      "|[2022-06-04 12:00...| 16.0|    1|\n",
      "|[2022-04-20 12:00...| 47.0|    1|\n",
      "|[2022-04-30 12:00...| 38.0|    1|\n",
      "|[2022-03-29 00:00...| 19.0|   14|\n",
      "|[2022-05-28 00:00...| 26.0|    5|\n",
      "|[2022-04-05 12:00...| 32.0|    1|\n",
      "|[2022-06-07 00:00...| 16.0|   19|\n",
      "|[2022-05-08 00:00...| 24.0|    9|\n",
      "|[2022-04-30 12:00...| 24.0|    7|\n",
      "|[2022-04-05 12:00...| 49.0|    2|\n",
      "|[2022-04-08 00:00...| 55.0|    2|\n",
      "+--------------------+-----+-----+\n",
      "only showing top 20 rows\n",
      "\n"
     ]
    },
    {
     "name": "stderr",
     "output_type": "stream",
     "text": [
      "                                                                                \r"
     ]
    },
    {
     "name": "stdout",
     "output_type": "stream",
     "text": [
      "-------------------------------------------\n",
      "Batch: 67\n",
      "-------------------------------------------\n",
      "+--------------------+-----+-----+\n",
      "|              window|value|count|\n",
      "+--------------------+-----+-----+\n",
      "|[2022-06-09 12:00...| 12.0|    3|\n",
      "|[2022-04-28 00:00...| 24.0|    7|\n",
      "|[2022-03-31 12:00...| 23.0|    1|\n",
      "|[2022-04-08 00:00...| 64.0|    2|\n",
      "|[2022-05-10 12:00...| 12.0|   12|\n",
      "|[2022-06-02 00:00...| 25.0|    2|\n",
      "|[2022-03-31 12:00...| 29.0|    1|\n",
      "|[2022-04-10 12:00...| 63.0|    1|\n",
      "|[2022-04-18 00:00...| 50.0|    1|\n",
      "|[2022-05-15 12:00...| 20.0|    3|\n",
      "|[2022-06-04 12:00...| 16.0|    1|\n",
      "|[2022-04-20 12:00...| 47.0|    1|\n",
      "|[2022-04-30 12:00...| 38.0|    1|\n",
      "|[2022-03-29 00:00...| 19.0|   14|\n",
      "|[2022-05-28 00:00...| 26.0|    5|\n",
      "|[2022-04-05 12:00...| 32.0|    1|\n",
      "|[2022-06-07 00:00...| 16.0|   19|\n",
      "|[2022-05-08 00:00...| 24.0|    9|\n",
      "|[2022-04-30 12:00...| 24.0|    7|\n",
      "|[2022-04-05 12:00...| 49.0|    2|\n",
      "+--------------------+-----+-----+\n",
      "only showing top 20 rows\n",
      "\n"
     ]
    },
    {
     "name": "stderr",
     "output_type": "stream",
     "text": [
      "                                                                                \r"
     ]
    },
    {
     "name": "stdout",
     "output_type": "stream",
     "text": [
      "-------------------------------------------\n",
      "Batch: 68\n",
      "-------------------------------------------\n",
      "+--------------------+-----+-----+\n",
      "|              window|value|count|\n",
      "+--------------------+-----+-----+\n",
      "|[2022-06-09 12:00...| 12.0|    3|\n",
      "|[2022-04-28 00:00...| 24.0|    7|\n",
      "|[2022-03-31 12:00...| 23.0|    1|\n",
      "|[2022-04-08 00:00...| 64.0|    2|\n",
      "|[2022-05-10 12:00...| 12.0|   12|\n",
      "|[2022-06-02 00:00...| 25.0|    2|\n",
      "|[2022-03-31 12:00...| 29.0|    1|\n",
      "|[2022-04-10 12:00...| 63.0|    1|\n",
      "|[2022-04-18 00:00...| 50.0|    1|\n",
      "|[2022-05-15 12:00...| 20.0|    3|\n",
      "|[2022-06-04 12:00...| 16.0|    1|\n",
      "|[2022-04-20 12:00...| 47.0|    1|\n",
      "|[2022-04-30 12:00...| 38.0|    1|\n",
      "|[2022-03-29 00:00...| 19.0|   14|\n",
      "|[2022-05-28 00:00...| 26.0|    5|\n",
      "|[2022-04-05 12:00...| 32.0|    1|\n",
      "|[2022-06-07 00:00...| 16.0|   19|\n",
      "|[2022-05-08 00:00...| 24.0|    9|\n",
      "|[2022-04-30 12:00...| 24.0|    7|\n",
      "|[2022-04-05 12:00...| 49.0|    2|\n",
      "+--------------------+-----+-----+\n",
      "only showing top 20 rows\n",
      "\n"
     ]
    },
    {
     "name": "stderr",
     "output_type": "stream",
     "text": [
      "                                                                                \r"
     ]
    },
    {
     "name": "stdout",
     "output_type": "stream",
     "text": [
      "-------------------------------------------\n",
      "Batch: 69\n",
      "-------------------------------------------\n",
      "+--------------------+-----+-----+\n",
      "|              window|value|count|\n",
      "+--------------------+-----+-----+\n",
      "|[2022-06-09 12:00...| 12.0|    3|\n",
      "|[2022-04-28 00:00...| 24.0|    7|\n",
      "|[2022-03-31 12:00...| 23.0|    1|\n",
      "|[2022-04-08 00:00...| 64.0|    2|\n",
      "|[2022-05-10 12:00...| 12.0|   12|\n",
      "|[2022-06-02 00:00...| 25.0|    2|\n",
      "|[2022-03-31 12:00...| 29.0|    1|\n",
      "|[2022-04-10 12:00...| 63.0|    1|\n",
      "|[2022-04-18 00:00...| 50.0|    1|\n",
      "|[2022-05-15 12:00...| 20.0|    3|\n",
      "|[2022-06-04 12:00...| 16.0|    1|\n",
      "|[2022-04-20 12:00...| 47.0|    1|\n",
      "|[2022-04-30 12:00...| 38.0|    1|\n",
      "|[2022-03-29 00:00...| 19.0|   14|\n",
      "|[2022-05-28 00:00...| 26.0|    5|\n",
      "|[2022-04-05 12:00...| 32.0|    1|\n",
      "|[2022-06-07 00:00...| 16.0|   19|\n",
      "|[2022-05-08 00:00...| 24.0|    9|\n",
      "|[2022-04-30 12:00...| 24.0|    7|\n",
      "|[2022-04-05 12:00...| 49.0|    2|\n",
      "+--------------------+-----+-----+\n",
      "only showing top 20 rows\n",
      "\n"
     ]
    },
    {
     "name": "stderr",
     "output_type": "stream",
     "text": [
      "                                                                                \r"
     ]
    },
    {
     "name": "stdout",
     "output_type": "stream",
     "text": [
      "-------------------------------------------\n",
      "Batch: 70\n",
      "-------------------------------------------\n",
      "+--------------------+-----+-----+\n",
      "|              window|value|count|\n",
      "+--------------------+-----+-----+\n",
      "|[2022-06-09 12:00...| 12.0|    3|\n",
      "|[2022-04-28 00:00...| 24.0|    7|\n",
      "|[2022-03-31 12:00...| 23.0|    1|\n",
      "|[2022-04-08 00:00...| 64.0|    2|\n",
      "|[2022-05-10 12:00...| 12.0|   12|\n",
      "|[2022-06-02 00:00...| 25.0|    2|\n",
      "|[2022-03-31 12:00...| 29.0|    1|\n",
      "|[2022-04-10 12:00...| 63.0|    1|\n",
      "|[2022-04-18 00:00...| 50.0|    1|\n",
      "|[2022-05-15 12:00...| 20.0|    3|\n",
      "|[2022-06-04 12:00...| 16.0|    1|\n",
      "|[2022-04-20 12:00...| 47.0|    1|\n",
      "|[2022-04-30 12:00...| 38.0|    1|\n",
      "|[2022-03-29 00:00...| 19.0|   14|\n",
      "|[2022-05-28 00:00...| 26.0|    5|\n",
      "|[2022-04-05 12:00...| 32.0|    1|\n",
      "|[2022-06-07 00:00...| 16.0|   19|\n",
      "|[2022-05-08 00:00...| 24.0|    9|\n",
      "|[2022-04-30 12:00...| 24.0|    7|\n",
      "|[2022-04-05 12:00...| 49.0|    2|\n",
      "+--------------------+-----+-----+\n",
      "only showing top 20 rows\n",
      "\n"
     ]
    },
    {
     "name": "stderr",
     "output_type": "stream",
     "text": [
      "[Stage 143:=======================>                              (87 + 4) / 200]\r"
     ]
    }
   ],
   "source": [
    "from pyspark.sql.functions import window\n",
    "\n",
    "windowedCounts = final_df.groupBy(\n",
    "    window(final_df.sourceUnixSTP, \"3600 minutes\", \"3600 minutes\"),\n",
    "    final_df.value\n",
    ").count()\n",
    "\n",
    "query = windowedCounts.writeStream.outputMode(\"complete\").format(\"console\").start()\n",
    "query.awaitTermination()\n"
   ]
  },
  {
   "cell_type": "code",
   "execution_count": null,
   "id": "bd2b922f",
   "metadata": {},
   "outputs": [],
   "source": [
    "query.stop()"
   ]
  },
  {
   "cell_type": "code",
   "execution_count": null,
   "id": "8ea58453",
   "metadata": {},
   "outputs": [],
   "source": []
  }
 ],
 "metadata": {
  "kernelspec": {
   "display_name": "Python 3 (ipykernel)",
   "language": "python",
   "name": "python3"
  },
  "language_info": {
   "codemirror_mode": {
    "name": "ipython",
    "version": 3
   },
   "file_extension": ".py",
   "mimetype": "text/x-python",
   "name": "python",
   "nbconvert_exporter": "python",
   "pygments_lexer": "ipython3",
   "version": "3.9.2"
  }
 },
 "nbformat": 4,
 "nbformat_minor": 5
}
