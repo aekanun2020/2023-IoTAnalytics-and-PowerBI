{
 "cells": [
  {
   "cell_type": "code",
   "execution_count": null,
   "id": "1f74ddfb",
   "metadata": {},
   "outputs": [],
   "source": [
    "from IPython.core.display import display, HTML\n",
    "display(HTML(\"<style>.container { width:100% !important; }</style>\"))\n"
   ]
  },
  {
   "cell_type": "code",
   "execution_count": 1,
   "id": "6384b159",
   "metadata": {},
   "outputs": [
    {
     "name": "stderr",
     "output_type": "stream",
     "text": [
      "Ivy Default Cache set to: /root/.ivy2/cache\n",
      "The jars for the packages stored in: /root/.ivy2/jars\n",
      ":: loading settings :: url = jar:file:/usr/local/lib/python3.9/dist-packages/pyspark/jars/ivy-2.4.0.jar!/org/apache/ivy/core/settings/ivysettings.xml\n",
      "org.apache.spark#spark-sql-kafka-0-10_2.12 added as a dependency\n",
      ":: resolving dependencies :: org.apache.spark#spark-submit-parent-50dc416a-2c15-42a5-ba8a-9437ba459e73;1.0\n",
      "\tconfs: [default]\n",
      "\tfound org.apache.spark#spark-sql-kafka-0-10_2.12;3.0.0 in central\n",
      "\tfound org.apache.spark#spark-token-provider-kafka-0-10_2.12;3.0.0 in central\n",
      "\tfound org.apache.kafka#kafka-clients;2.4.1 in central\n",
      "\tfound com.github.luben#zstd-jni;1.4.4-3 in central\n",
      "\tfound org.lz4#lz4-java;1.7.1 in central\n",
      "\tfound org.xerial.snappy#snappy-java;1.1.7.5 in central\n",
      "\tfound org.slf4j#slf4j-api;1.7.30 in central\n",
      "\tfound org.spark-project.spark#unused;1.0.0 in central\n",
      "\tfound org.apache.commons#commons-pool2;2.6.2 in central\n",
      ":: resolution report :: resolve 623ms :: artifacts dl 16ms\n",
      "\t:: modules in use:\n",
      "\tcom.github.luben#zstd-jni;1.4.4-3 from central in [default]\n",
      "\torg.apache.commons#commons-pool2;2.6.2 from central in [default]\n",
      "\torg.apache.kafka#kafka-clients;2.4.1 from central in [default]\n",
      "\torg.apache.spark#spark-sql-kafka-0-10_2.12;3.0.0 from central in [default]\n",
      "\torg.apache.spark#spark-token-provider-kafka-0-10_2.12;3.0.0 from central in [default]\n",
      "\torg.lz4#lz4-java;1.7.1 from central in [default]\n",
      "\torg.slf4j#slf4j-api;1.7.30 from central in [default]\n",
      "\torg.spark-project.spark#unused;1.0.0 from central in [default]\n",
      "\torg.xerial.snappy#snappy-java;1.1.7.5 from central in [default]\n",
      "\t---------------------------------------------------------------------\n",
      "\t|                  |            modules            ||   artifacts   |\n",
      "\t|       conf       | number| search|dwnlded|evicted|| number|dwnlded|\n",
      "\t---------------------------------------------------------------------\n",
      "\t|      default     |   9   |   0   |   0   |   0   ||   9   |   0   |\n",
      "\t---------------------------------------------------------------------\n",
      ":: retrieving :: org.apache.spark#spark-submit-parent-50dc416a-2c15-42a5-ba8a-9437ba459e73\n",
      "\tconfs: [default]\n",
      "\t0 artifacts copied, 9 already retrieved (0kB/12ms)\n",
      "23/06/19 23:32:53 WARN NativeCodeLoader: Unable to load native-hadoop library for your platform... using builtin-java classes where applicable\n",
      "Using Spark's default log4j profile: org/apache/spark/log4j-defaults.properties\n",
      "Setting default log level to \"WARN\".\n",
      "To adjust logging level use sc.setLogLevel(newLevel). For SparkR, use setLogLevel(newLevel).\n"
     ]
    }
   ],
   "source": [
    "# ปรับแต่งค่าการทำงานของ Spark\n",
    "from pyspark.sql import SparkSession\n",
    "\n",
    "spark = SparkSession.\\\n",
    "        builder.\\\n",
    "        appName(\"KafkaSubscribe\").\\\n",
    "        master(\"spark://spark-master:7077\").\\\n",
    "        config(\"spark.executor.memory\", \"1000m\").\\\n",
    "        config(\"spark.executor.cores\", \"2\").\\\n",
    "        config(\"spark.cores.max\", \"6\").\\\n",
    "        config(\"spark.jars.packages\", \"org.apache.spark:spark-sql-kafka-0-10_2.12:3.0.0\").\\\n",
    "        getOrCreate()\n",
    "\n"
   ]
  },
  {
   "cell_type": "code",
   "execution_count": 2,
   "id": "fabe5300",
   "metadata": {},
   "outputs": [],
   "source": [
    "rawMetadata_df = spark \\\n",
    "  .readStream \\\n",
    "  .format(\"kafka\") \\\n",
    "  .option(\"kafka.bootstrap.servers\", \"10.128.0.12:9092\") \\\n",
    "  .option(\"subscribe\", \"quickstart-events\") \\\n",
    "  .option(\"group.id\", \"Aekanun-Spark-App\") \\\n",
    "  .load()"
   ]
  },
  {
   "cell_type": "code",
   "execution_count": 3,
   "id": "b0f1c496",
   "metadata": {},
   "outputs": [],
   "source": [
    "from pyspark.sql import functions as sparkf"
   ]
  },
  {
   "cell_type": "code",
   "execution_count": 4,
   "id": "a81b8419",
   "metadata": {},
   "outputs": [
    {
     "name": "stdout",
     "output_type": "stream",
     "text": [
      "root\n",
      " |-- key: binary (nullable = true)\n",
      " |-- value: binary (nullable = true)\n",
      " |-- topic: string (nullable = true)\n",
      " |-- partition: integer (nullable = true)\n",
      " |-- offset: long (nullable = true)\n",
      " |-- timestamp: timestamp (nullable = true)\n",
      " |-- timestampType: integer (nullable = true)\n",
      "\n"
     ]
    }
   ],
   "source": [
    "rawMetadata_df.printSchema()"
   ]
  },
  {
   "cell_type": "code",
   "execution_count": 5,
   "id": "e5057907",
   "metadata": {},
   "outputs": [],
   "source": [
    "# เลือกเฉพาะคอลัมน์ที่ต้องการ\n",
    "onlyMetadata_df = rawMetadata_df.selectExpr(\"CAST(key AS STRING)\", \"CAST(value AS STRING)\")"
   ]
  },
  {
   "cell_type": "code",
   "execution_count": 6,
   "id": "e822a523",
   "metadata": {},
   "outputs": [],
   "source": [
    "from pyspark.sql.types import *\n",
    "from pyspark.sql.functions import from_json, col\n",
    "\n",
    "# Main schema\n",
    "schema = StructType([\n",
    "    StructField(\"locationId\", StringType()),\n",
    "    StructField(\"location\", StringType()),\n",
    "    StructField(\"parameter\", StringType()),\n",
    "    StructField(\"value\", StringType()),\n",
    "    StructField(\"date\", StringType()),\n",
    "    StructField(\"unit\", StringType()),\n",
    "    StructField(\"coordinates\", StringType()),\n",
    "    StructField(\"country\", StringType()),\n",
    "    StructField(\"city\", StringType()),\n",
    "    StructField(\"isMobile\", StringType()),\n",
    "    StructField(\"isAnalysis\", StringType()),\n",
    "    StructField(\"entity\", StringType()),\n",
    "    StructField(\"sensorType\", StringType())\n",
    "])\n",
    "\n",
    "# Nested 'date' and 'coordinates' schema\n",
    "date_schema = StructType([\n",
    "    StructField(\"utc\", StringType()),\n",
    "    StructField(\"local\", StringType())\n",
    "])\n",
    "\n",
    "coordinates_schema = StructType([\n",
    "    StructField(\"latitude\", DoubleType()),\n",
    "    StructField(\"longitude\", DoubleType())\n",
    "])\n",
    "\n",
    "# Parse the JSON string column and convert it to a struct.\n",
    "parsedData_df = onlyMetadata_df.withColumn(\"data\", from_json(\"value\", schema))"
   ]
  },
  {
   "cell_type": "code",
   "execution_count": 7,
   "id": "797a3ec3",
   "metadata": {},
   "outputs": [
    {
     "name": "stdout",
     "output_type": "stream",
     "text": [
      "root\n",
      " |-- key: string (nullable = true)\n",
      " |-- value: string (nullable = true)\n",
      " |-- data: struct (nullable = true)\n",
      " |    |-- locationId: string (nullable = true)\n",
      " |    |-- location: string (nullable = true)\n",
      " |    |-- parameter: string (nullable = true)\n",
      " |    |-- value: string (nullable = true)\n",
      " |    |-- date: string (nullable = true)\n",
      " |    |-- unit: string (nullable = true)\n",
      " |    |-- coordinates: string (nullable = true)\n",
      " |    |-- country: string (nullable = true)\n",
      " |    |-- city: string (nullable = true)\n",
      " |    |-- isMobile: string (nullable = true)\n",
      " |    |-- isAnalysis: string (nullable = true)\n",
      " |    |-- entity: string (nullable = true)\n",
      " |    |-- sensorType: string (nullable = true)\n",
      "\n"
     ]
    }
   ],
   "source": [
    "parsedData_df.printSchema()"
   ]
  },
  {
   "cell_type": "code",
   "execution_count": 8,
   "id": "28cdc411",
   "metadata": {},
   "outputs": [],
   "source": [
    "# Select only the nested fields\n",
    "unNested_df = parsedData_df.select(\"key\", \"data.*\")"
   ]
  },
  {
   "cell_type": "code",
   "execution_count": 9,
   "id": "f0590e4f",
   "metadata": {},
   "outputs": [
    {
     "name": "stdout",
     "output_type": "stream",
     "text": [
      "root\n",
      " |-- key: string (nullable = true)\n",
      " |-- locationId: string (nullable = true)\n",
      " |-- location: string (nullable = true)\n",
      " |-- parameter: string (nullable = true)\n",
      " |-- value: string (nullable = true)\n",
      " |-- date: string (nullable = true)\n",
      " |-- unit: string (nullable = true)\n",
      " |-- coordinates: string (nullable = true)\n",
      " |-- country: string (nullable = true)\n",
      " |-- city: string (nullable = true)\n",
      " |-- isMobile: string (nullable = true)\n",
      " |-- isAnalysis: string (nullable = true)\n",
      " |-- entity: string (nullable = true)\n",
      " |-- sensorType: string (nullable = true)\n",
      "\n"
     ]
    }
   ],
   "source": [
    "unNested_df.printSchema()"
   ]
  },
  {
   "cell_type": "code",
   "execution_count": 10,
   "id": "494bebf2",
   "metadata": {},
   "outputs": [
    {
     "name": "stdout",
     "output_type": "stream",
     "text": [
      "root\n",
      " |-- key: string (nullable = true)\n",
      " |-- locationId: string (nullable = true)\n",
      " |-- location: string (nullable = true)\n",
      " |-- parameter: string (nullable = true)\n",
      " |-- value: string (nullable = true)\n",
      " |-- date: struct (nullable = true)\n",
      " |    |-- utc: string (nullable = true)\n",
      " |    |-- local: string (nullable = true)\n",
      " |-- unit: string (nullable = true)\n",
      " |-- coordinates: struct (nullable = true)\n",
      " |    |-- latitude: double (nullable = true)\n",
      " |    |-- longitude: double (nullable = true)\n",
      " |-- country: string (nullable = true)\n",
      " |-- city: string (nullable = true)\n",
      " |-- isMobile: string (nullable = true)\n",
      " |-- isAnalysis: string (nullable = true)\n",
      " |-- entity: string (nullable = true)\n",
      " |-- sensorType: string (nullable = true)\n",
      " |-- data: struct (nullable = true)\n",
      " |    |-- locationId: string (nullable = true)\n",
      " |    |-- location: string (nullable = true)\n",
      " |    |-- parameter: string (nullable = true)\n",
      " |    |-- value: string (nullable = true)\n",
      " |    |-- date: string (nullable = true)\n",
      " |    |-- unit: string (nullable = true)\n",
      " |    |-- coordinates: string (nullable = true)\n",
      " |    |-- country: string (nullable = true)\n",
      " |    |-- city: string (nullable = true)\n",
      " |    |-- isMobile: string (nullable = true)\n",
      " |    |-- isAnalysis: string (nullable = true)\n",
      " |    |-- entity: string (nullable = true)\n",
      " |    |-- sensorType: string (nullable = true)\n",
      "\n"
     ]
    }
   ],
   "source": [
    "# Parse the JSON string column and convert it to a struct.\n",
    "unNested_df.withColumn(\"data\", from_json(\"value\", schema))\\\n",
    ".withColumn(\"date\", from_json(\"date\", date_schema))\\\n",
    ".withColumn(\"coordinates\", from_json(\"coordinates\", coordinates_schema))\\\n",
    ".printSchema()"
   ]
  },
  {
   "cell_type": "code",
   "execution_count": 11,
   "id": "6fe32886",
   "metadata": {},
   "outputs": [],
   "source": [
    "extractedDateLatLong_df = unNested_df.withColumn(\"data\", from_json(\"value\", schema))\\\n",
    ".withColumn(\"date\", from_json(\"date\", date_schema))\\\n",
    ".withColumn(\"coordinates\", from_json(\"coordinates\", coordinates_schema))\\\n",
    ".select('key',\n",
    " 'locationId',\n",
    " 'location',\n",
    " 'parameter',\n",
    " 'value',\n",
    " 'date.*',\n",
    " 'unit',\n",
    " 'coordinates.*',\n",
    " 'country',\n",
    " 'city',\n",
    " 'isMobile',\n",
    " 'isAnalysis',\n",
    " 'entity',\n",
    " 'sensorType')"
   ]
  },
  {
   "cell_type": "code",
   "execution_count": 12,
   "id": "f1ae79d0",
   "metadata": {},
   "outputs": [
    {
     "name": "stdout",
     "output_type": "stream",
     "text": [
      "root\n",
      " |-- key: string (nullable = true)\n",
      " |-- locationId: string (nullable = true)\n",
      " |-- location: string (nullable = true)\n",
      " |-- parameter: string (nullable = true)\n",
      " |-- value: string (nullable = true)\n",
      " |-- utc: string (nullable = true)\n",
      " |-- local: string (nullable = true)\n",
      " |-- unit: string (nullable = true)\n",
      " |-- latitude: double (nullable = true)\n",
      " |-- longitude: double (nullable = true)\n",
      " |-- country: string (nullable = true)\n",
      " |-- city: string (nullable = true)\n",
      " |-- isMobile: string (nullable = true)\n",
      " |-- isAnalysis: string (nullable = true)\n",
      " |-- entity: string (nullable = true)\n",
      " |-- sensorType: string (nullable = true)\n",
      "\n"
     ]
    }
   ],
   "source": [
    "extractedDateLatLong_df.printSchema()"
   ]
  },
  {
   "cell_type": "code",
   "execution_count": 13,
   "id": "16c98f46",
   "metadata": {},
   "outputs": [],
   "source": [
    "final_df = extractedDateLatLong_df\\\n",
    ".withColumn('sourceUnixSTP',sparkf.to_timestamp(sparkf.col('utc'), \"yyyy-MM-dd'T'HH:mm:ssXXX\"))"
   ]
  },
  {
   "cell_type": "code",
   "execution_count": 14,
   "id": "4fc5fb2d",
   "metadata": {},
   "outputs": [
    {
     "data": {
      "text/plain": [
       "['key',\n",
       " 'locationId',\n",
       " 'location',\n",
       " 'parameter',\n",
       " 'value',\n",
       " 'utc',\n",
       " 'local',\n",
       " 'unit',\n",
       " 'latitude',\n",
       " 'longitude',\n",
       " 'country',\n",
       " 'city',\n",
       " 'isMobile',\n",
       " 'isAnalysis',\n",
       " 'entity',\n",
       " 'sensorType',\n",
       " 'sourceUnixSTP']"
      ]
     },
     "execution_count": 14,
     "metadata": {},
     "output_type": "execute_result"
    }
   ],
   "source": [
    "final_df.columns"
   ]
  },
  {
   "cell_type": "code",
   "execution_count": 15,
   "id": "fc27b679",
   "metadata": {},
   "outputs": [
    {
     "name": "stdout",
     "output_type": "stream",
     "text": [
      "root\n",
      " |-- key: string (nullable = true)\n",
      " |-- locationId: string (nullable = true)\n",
      " |-- location: string (nullable = true)\n",
      " |-- parameter: string (nullable = true)\n",
      " |-- value: string (nullable = true)\n",
      " |-- utc: string (nullable = true)\n",
      " |-- local: string (nullable = true)\n",
      " |-- unit: string (nullable = true)\n",
      " |-- latitude: double (nullable = true)\n",
      " |-- longitude: double (nullable = true)\n",
      " |-- country: string (nullable = true)\n",
      " |-- city: string (nullable = true)\n",
      " |-- isMobile: string (nullable = true)\n",
      " |-- isAnalysis: string (nullable = true)\n",
      " |-- entity: string (nullable = true)\n",
      " |-- sensorType: string (nullable = true)\n",
      " |-- sourceUnixSTP: timestamp (nullable = true)\n",
      "\n"
     ]
    }
   ],
   "source": [
    "final_df.printSchema()"
   ]
  },
  {
   "cell_type": "code",
   "execution_count": 16,
   "id": "64d79b65",
   "metadata": {},
   "outputs": [],
   "source": [
    "#agg_df = final_df.groupBy('value').agg(sparkf.max(sparkf.col('value')))"
   ]
  },
  {
   "cell_type": "code",
   "execution_count": 17,
   "id": "779f7b25",
   "metadata": {},
   "outputs": [],
   "source": [
    "from pyspark.sql import functions as F"
   ]
  },
  {
   "cell_type": "code",
   "execution_count": null,
   "id": "c4c6af1c",
   "metadata": {},
   "outputs": [
    {
     "name": "stderr",
     "output_type": "stream",
     "text": [
      "23/06/19 23:33:05 WARN StreamingQueryManager: Temporary checkpoint location created which is deleted normally when the query didn't fail: /tmp/temporary-4f275f9e-68f9-44bd-aea9-1ac1da4b4bdd. If it's required to delete it under any circumstances, please set spark.sql.streaming.forceDeleteTempCheckpointLocation to true. Important to know deleting temp checkpoint folder is best effort.\n",
      "23/06/19 23:33:06 WARN NetworkClient: [Consumer clientId=consumer-spark-kafka-source-66455927-e270-4018-9a90-02b4bc311cef-1209735755-driver-0-1, groupId=spark-kafka-source-66455927-e270-4018-9a90-02b4bc311cef-1209735755-driver-0] Error while fetching metadata with correlation id 2 : {quickstart-events=LEADER_NOT_AVAILABLE}\n",
      "23/06/19 23:33:06 WARN NetworkClient: [Consumer clientId=consumer-spark-kafka-source-66455927-e270-4018-9a90-02b4bc311cef-1209735755-driver-0-1, groupId=spark-kafka-source-66455927-e270-4018-9a90-02b4bc311cef-1209735755-driver-0] Error while fetching metadata with correlation id 4 : {quickstart-events=LEADER_NOT_AVAILABLE}\n",
      "23/06/19 23:33:06 WARN NetworkClient: [Consumer clientId=consumer-spark-kafka-source-66455927-e270-4018-9a90-02b4bc311cef-1209735755-driver-0-1, groupId=spark-kafka-source-66455927-e270-4018-9a90-02b4bc311cef-1209735755-driver-0] Error while fetching metadata with correlation id 6 : {quickstart-events=LEADER_NOT_AVAILABLE}\n",
      "                                                                                \r"
     ]
    },
    {
     "name": "stdout",
     "output_type": "stream",
     "text": [
      "-------------------------------------------\n",
      "Batch: 0\n",
      "-------------------------------------------\n",
      "+------+-----+-----+\n",
      "|window|value|count|\n",
      "+------+-----+-----+\n",
      "+------+-----+-----+\n",
      "\n"
     ]
    },
    {
     "name": "stderr",
     "output_type": "stream",
     "text": [
      "[Stage 8:====================================================>  (192 + 5) / 200]\r"
     ]
    },
    {
     "name": "stdout",
     "output_type": "stream",
     "text": [
      "-------------------------------------------\n",
      "Batch: 1\n",
      "-------------------------------------------\n",
      "+--------------------+-----+-----+\n",
      "|              window|value|count|\n",
      "+--------------------+-----+-----+\n",
      "|[2022-12-31 12:00...| 36.0|    1|\n",
      "+--------------------+-----+-----+\n",
      "\n"
     ]
    },
    {
     "name": "stderr",
     "output_type": "stream",
     "text": [
      "                                                                                \r"
     ]
    },
    {
     "name": "stdout",
     "output_type": "stream",
     "text": [
      "-------------------------------------------\n",
      "Batch: 2\n",
      "-------------------------------------------\n",
      "+--------------------+-----+-----+\n",
      "|              window|value|count|\n",
      "+--------------------+-----+-----+\n",
      "|[2022-12-31 12:00...| 31.0|    6|\n",
      "|[2022-12-31 12:00...| 32.0|    2|\n",
      "|[2022-12-31 12:00...| 35.0|    2|\n",
      "|[2022-12-31 12:00...| 34.0|    2|\n",
      "|[2022-12-31 12:00...| 37.0|    8|\n",
      "|[2022-12-31 12:00...| 36.0|    8|\n",
      "|[2022-12-31 12:00...| 33.0|    3|\n",
      "|[2022-12-31 12:00...| 29.0|    8|\n",
      "|[2022-12-31 12:00...| 30.0|    6|\n",
      "|[2022-12-31 12:00...| 38.0|    8|\n",
      "|[2023-01-03 00:00...| 35.0|    1|\n",
      "|[2023-01-03 00:00...| 30.0|    1|\n",
      "|[2023-01-03 00:00...| 33.0|    2|\n",
      "|[2023-01-03 00:00...| 32.0|    8|\n",
      "|[2023-01-03 00:00...| 31.0|    4|\n",
      "|[2023-01-03 00:00...| 37.0|    6|\n",
      "|[2023-01-03 00:00...| 34.0|    2|\n",
      "|[2023-01-03 00:00...| 36.0|    3|\n",
      "+--------------------+-----+-----+\n",
      "\n"
     ]
    },
    {
     "name": "stderr",
     "output_type": "stream",
     "text": [
      "                                                                                \r"
     ]
    },
    {
     "name": "stdout",
     "output_type": "stream",
     "text": [
      "-------------------------------------------\n",
      "Batch: 3\n",
      "-------------------------------------------\n",
      "+--------------------+-----+-----+\n",
      "|              window|value|count|\n",
      "+--------------------+-----+-----+\n",
      "|[2022-12-31 12:00...| 38.0|    8|\n",
      "|[2022-12-31 12:00...| 29.0|    8|\n",
      "|[2022-12-31 12:00...| 30.0|    6|\n",
      "|[2022-12-31 12:00...| 33.0|    3|\n",
      "|[2022-12-31 12:00...| 31.0|    6|\n",
      "|[2022-12-31 12:00...| 32.0|    2|\n",
      "|[2022-12-31 12:00...| 36.0|    8|\n",
      "|[2022-12-31 12:00...| 35.0|    2|\n",
      "|[2022-12-31 12:00...| 37.0|    8|\n",
      "|[2022-12-31 12:00...| 34.0|    2|\n",
      "|[2023-01-03 00:00...| 34.0|    2|\n",
      "|[2023-01-03 00:00...| 28.0|    2|\n",
      "|[2023-01-03 00:00...| 31.0|    4|\n",
      "|[2023-01-03 00:00...| 32.0|    8|\n",
      "|[2023-01-03 00:00...| 30.0|    8|\n",
      "|[2023-01-03 00:00...| 29.0|   15|\n",
      "|[2023-01-03 00:00...| 35.0|    1|\n",
      "|[2023-01-03 00:00...| 33.0|    2|\n",
      "|[2023-01-03 00:00...| 37.0|    6|\n",
      "|[2023-01-03 00:00...| 36.0|    3|\n",
      "+--------------------+-----+-----+\n",
      "only showing top 20 rows\n",
      "\n"
     ]
    },
    {
     "name": "stderr",
     "output_type": "stream",
     "text": [
      "                                                                                \r"
     ]
    },
    {
     "name": "stdout",
     "output_type": "stream",
     "text": [
      "-------------------------------------------\n",
      "Batch: 4\n",
      "-------------------------------------------\n",
      "+--------------------+-----+-----+\n",
      "|              window|value|count|\n",
      "+--------------------+-----+-----+\n",
      "|[2022-12-31 12:00...| 31.0|    6|\n",
      "|[2022-12-31 12:00...| 32.0|    2|\n",
      "|[2022-12-31 12:00...| 35.0|    2|\n",
      "|[2022-12-31 12:00...| 34.0|    2|\n",
      "|[2022-12-31 12:00...| 37.0|    8|\n",
      "|[2022-12-31 12:00...| 36.0|    8|\n",
      "|[2022-12-31 12:00...| 38.0|    8|\n",
      "|[2022-12-31 12:00...| 29.0|    8|\n",
      "|[2022-12-31 12:00...| 33.0|    3|\n",
      "|[2022-12-31 12:00...| 30.0|    6|\n",
      "|[2023-01-03 00:00...| 35.0|    1|\n",
      "|[2023-01-03 00:00...| 30.0|    8|\n",
      "|[2023-01-03 00:00...| 29.0|   15|\n",
      "|[2023-01-03 00:00...| 33.0|    2|\n",
      "|[2023-01-03 00:00...| 32.0|    8|\n",
      "|[2023-01-03 00:00...| 31.0|    4|\n",
      "|[2023-01-03 00:00...| 34.0|    2|\n",
      "|[2023-01-03 00:00...| 28.0|    2|\n",
      "|[2023-01-03 00:00...| 37.0|    6|\n",
      "|[2023-01-03 00:00...| 36.0|    3|\n",
      "+--------------------+-----+-----+\n",
      "only showing top 20 rows\n",
      "\n"
     ]
    },
    {
     "name": "stderr",
     "output_type": "stream",
     "text": [
      "                                                                                \r"
     ]
    },
    {
     "name": "stdout",
     "output_type": "stream",
     "text": [
      "-------------------------------------------\n",
      "Batch: 5\n",
      "-------------------------------------------\n",
      "+--------------------+-----+-----+\n",
      "|              window|value|count|\n",
      "+--------------------+-----+-----+\n",
      "|[2022-12-31 12:00...| 31.0|    6|\n",
      "|[2022-12-31 12:00...| 32.0|    2|\n",
      "|[2022-12-31 12:00...| 35.0|    2|\n",
      "|[2022-12-31 12:00...| 34.0|    2|\n",
      "|[2022-12-31 12:00...| 37.0|    8|\n",
      "|[2022-12-31 12:00...| 36.0|    8|\n",
      "|[2022-12-31 12:00...| 29.0|    8|\n",
      "|[2022-12-31 12:00...| 38.0|    8|\n",
      "|[2022-12-31 12:00...| 30.0|    6|\n",
      "|[2022-12-31 12:00...| 33.0|    3|\n",
      "|[2023-01-03 00:00...| 35.0|    1|\n",
      "|[2023-01-03 00:00...| 30.0|    8|\n",
      "|[2023-01-03 00:00...| 29.0|   15|\n",
      "|[2023-01-03 00:00...| 33.0|    2|\n",
      "|[2023-01-03 00:00...| 32.0|    8|\n",
      "|[2023-01-03 00:00...| 36.0|    3|\n",
      "|[2023-01-03 00:00...| 31.0|    4|\n",
      "|[2023-01-03 00:00...| 34.0|    2|\n",
      "|[2023-01-03 00:00...| 28.0|    2|\n",
      "|[2023-01-03 00:00...| 37.0|    6|\n",
      "+--------------------+-----+-----+\n",
      "only showing top 20 rows\n",
      "\n"
     ]
    },
    {
     "name": "stderr",
     "output_type": "stream",
     "text": [
      "                                                                                \r"
     ]
    },
    {
     "name": "stdout",
     "output_type": "stream",
     "text": [
      "-------------------------------------------\n",
      "Batch: 6\n",
      "-------------------------------------------\n",
      "+--------------------+-----+-----+\n",
      "|              window|value|count|\n",
      "+--------------------+-----+-----+\n",
      "|[2022-12-31 12:00...| 31.0|    6|\n",
      "|[2022-12-31 12:00...| 32.0|    2|\n",
      "|[2022-12-31 12:00...| 35.0|    2|\n",
      "|[2022-12-31 12:00...| 34.0|    2|\n",
      "|[2022-12-31 12:00...| 37.0|    8|\n",
      "|[2022-12-31 12:00...| 36.0|    8|\n",
      "|[2022-12-31 12:00...| 38.0|    8|\n",
      "|[2022-12-31 12:00...| 29.0|    8|\n",
      "|[2022-12-31 12:00...| 33.0|    3|\n",
      "|[2022-12-31 12:00...| 30.0|    6|\n",
      "|[2023-01-03 00:00...| 35.0|    1|\n",
      "|[2023-01-03 00:00...| 30.0|    8|\n",
      "|[2023-01-03 00:00...| 29.0|   15|\n",
      "|[2023-01-03 00:00...| 33.0|    2|\n",
      "|[2023-01-03 00:00...| 32.0|    8|\n",
      "|[2023-01-03 00:00...| 34.0|    2|\n",
      "|[2023-01-03 00:00...| 28.0|    2|\n",
      "|[2023-01-03 00:00...| 37.0|    6|\n",
      "|[2023-01-03 00:00...| 36.0|    3|\n",
      "|[2023-01-03 00:00...| 31.0|    4|\n",
      "+--------------------+-----+-----+\n",
      "only showing top 20 rows\n",
      "\n"
     ]
    },
    {
     "name": "stderr",
     "output_type": "stream",
     "text": [
      "                                                                                \r"
     ]
    },
    {
     "name": "stdout",
     "output_type": "stream",
     "text": [
      "-------------------------------------------\n",
      "Batch: 7\n",
      "-------------------------------------------\n",
      "+--------------------+-----+-----+\n",
      "|              window|value|count|\n",
      "+--------------------+-----+-----+\n",
      "|[2022-12-31 12:00...| 31.0|    6|\n",
      "|[2022-12-31 12:00...| 32.0|    2|\n",
      "|[2022-12-31 12:00...| 35.0|    2|\n",
      "|[2022-12-31 12:00...| 34.0|    2|\n",
      "|[2022-12-31 12:00...| 37.0|    8|\n",
      "|[2022-12-31 12:00...| 36.0|    8|\n",
      "|[2022-12-31 12:00...| 30.0|    6|\n",
      "|[2022-12-31 12:00...| 33.0|    3|\n",
      "|[2022-12-31 12:00...| 38.0|    8|\n",
      "|[2022-12-31 12:00...| 29.0|    8|\n",
      "|[2023-01-03 00:00...| 35.0|    1|\n",
      "|[2023-01-03 00:00...| 29.0|   15|\n",
      "|[2023-01-03 00:00...| 30.0|    8|\n",
      "|[2023-01-03 00:00...| 33.0|    2|\n",
      "|[2023-01-03 00:00...| 32.0|    8|\n",
      "|[2023-01-03 00:00...| 31.0|    4|\n",
      "|[2023-01-03 00:00...| 34.0|    2|\n",
      "|[2023-01-03 00:00...| 28.0|    2|\n",
      "|[2023-01-03 00:00...| 37.0|    6|\n",
      "|[2023-01-03 00:00...| 36.0|    3|\n",
      "+--------------------+-----+-----+\n",
      "only showing top 20 rows\n",
      "\n"
     ]
    },
    {
     "name": "stderr",
     "output_type": "stream",
     "text": [
      "                                                                                \r"
     ]
    },
    {
     "name": "stdout",
     "output_type": "stream",
     "text": [
      "-------------------------------------------\n",
      "Batch: 8\n",
      "-------------------------------------------\n",
      "+--------------------+-----+-----+\n",
      "|              window|value|count|\n",
      "+--------------------+-----+-----+\n",
      "|[2022-12-31 12:00...| 38.0|    8|\n",
      "|[2022-12-31 12:00...| 29.0|    8|\n",
      "|[2022-12-31 12:00...| 30.0|    6|\n",
      "|[2022-12-31 12:00...| 33.0|    3|\n",
      "|[2022-12-31 12:00...| 37.0|    8|\n",
      "|[2022-12-31 12:00...| 35.0|    2|\n",
      "|[2022-12-31 12:00...| 34.0|    2|\n",
      "|[2022-12-31 12:00...| 36.0|    8|\n",
      "|[2022-12-31 12:00...| 31.0|    6|\n",
      "|[2022-12-31 12:00...| 32.0|    2|\n",
      "|[2023-01-03 00:00...| 34.0|    2|\n",
      "|[2023-01-03 00:00...| 28.0|    2|\n",
      "|[2023-01-03 00:00...| 31.0|    4|\n",
      "|[2023-01-03 00:00...| 37.0|    6|\n",
      "|[2023-01-03 00:00...| 36.0|    3|\n",
      "|[2023-01-03 00:00...| 33.0|    2|\n",
      "|[2023-01-03 00:00...| 32.0|    8|\n",
      "|[2023-01-03 00:00...| 35.0|    1|\n",
      "|[2023-01-03 00:00...| 29.0|   15|\n",
      "|[2023-01-03 00:00...| 30.0|    8|\n",
      "+--------------------+-----+-----+\n",
      "only showing top 20 rows\n",
      "\n"
     ]
    },
    {
     "name": "stderr",
     "output_type": "stream",
     "text": [
      "                                                                                \r"
     ]
    },
    {
     "name": "stdout",
     "output_type": "stream",
     "text": [
      "-------------------------------------------\n",
      "Batch: 9\n",
      "-------------------------------------------\n",
      "+--------------------+-----+-----+\n",
      "|              window|value|count|\n",
      "+--------------------+-----+-----+\n",
      "|[2022-12-31 12:00...| 31.0|    6|\n",
      "|[2022-12-31 12:00...| 32.0|    2|\n",
      "|[2022-12-31 12:00...| 35.0|    2|\n",
      "|[2022-12-31 12:00...| 34.0|    2|\n",
      "|[2022-12-31 12:00...| 37.0|    8|\n",
      "|[2022-12-31 12:00...| 36.0|    8|\n",
      "|[2022-12-31 12:00...| 29.0|    8|\n",
      "|[2022-12-31 12:00...| 38.0|    8|\n",
      "|[2022-12-31 12:00...| 30.0|    6|\n",
      "|[2022-12-31 12:00...| 33.0|    3|\n",
      "|[2023-01-03 00:00...| 35.0|    1|\n",
      "|[2023-01-03 00:00...| 29.0|   15|\n",
      "|[2023-01-03 00:00...| 30.0|    8|\n",
      "|[2023-01-03 00:00...| 33.0|    2|\n",
      "|[2023-01-03 00:00...| 32.0|    8|\n",
      "|[2023-01-03 00:00...| 31.0|    4|\n",
      "|[2023-01-03 00:00...| 37.0|    6|\n",
      "|[2023-01-03 00:00...| 36.0|    3|\n",
      "|[2023-01-03 00:00...| 34.0|    2|\n",
      "|[2023-01-03 00:00...| 28.0|    2|\n",
      "+--------------------+-----+-----+\n",
      "only showing top 20 rows\n",
      "\n"
     ]
    },
    {
     "name": "stderr",
     "output_type": "stream",
     "text": [
      "                                                                                \r"
     ]
    },
    {
     "name": "stdout",
     "output_type": "stream",
     "text": [
      "-------------------------------------------\n",
      "Batch: 10\n",
      "-------------------------------------------\n",
      "+--------------------+-----+-----+\n",
      "|              window|value|count|\n",
      "+--------------------+-----+-----+\n",
      "|[2022-12-31 12:00...| 38.0|    8|\n",
      "|[2022-12-31 12:00...| 29.0|    8|\n",
      "|[2022-12-31 12:00...| 30.0|    6|\n",
      "|[2022-12-31 12:00...| 33.0|    3|\n",
      "|[2022-12-31 12:00...| 31.0|    6|\n",
      "|[2022-12-31 12:00...| 32.0|    2|\n",
      "|[2022-12-31 12:00...| 37.0|    8|\n",
      "|[2022-12-31 12:00...| 35.0|    2|\n",
      "|[2022-12-31 12:00...| 34.0|    2|\n",
      "|[2022-12-31 12:00...| 36.0|    8|\n",
      "|[2023-01-03 00:00...| 34.0|    2|\n",
      "|[2023-01-03 00:00...| 28.0|    2|\n",
      "|[2023-01-03 00:00...| 31.0|    4|\n",
      "|[2023-01-03 00:00...| 37.0|    6|\n",
      "|[2023-01-03 00:00...| 36.0|    3|\n",
      "|[2023-01-03 00:00...| 32.0|    8|\n",
      "|[2023-01-03 00:00...| 35.0|    1|\n",
      "|[2023-01-03 00:00...| 29.0|   15|\n",
      "|[2023-01-03 00:00...| 30.0|    8|\n",
      "|[2023-01-03 00:00...| 33.0|    2|\n",
      "+--------------------+-----+-----+\n",
      "only showing top 20 rows\n",
      "\n"
     ]
    },
    {
     "name": "stderr",
     "output_type": "stream",
     "text": [
      "[Stage 58:==================================================>   (186 + 4) / 200]\r"
     ]
    },
    {
     "name": "stdout",
     "output_type": "stream",
     "text": [
      "-------------------------------------------\n",
      "Batch: 11\n",
      "-------------------------------------------\n",
      "+--------------------+-----+-----+\n",
      "|              window|value|count|\n",
      "+--------------------+-----+-----+\n",
      "|[2022-12-31 12:00...| 38.0|    8|\n",
      "|[2022-12-31 12:00...| 29.0|    8|\n",
      "|[2022-12-31 12:00...| 30.0|    6|\n",
      "|[2022-12-31 12:00...| 33.0|    3|\n",
      "|[2022-12-31 12:00...| 37.0|    8|\n",
      "|[2022-12-31 12:00...| 35.0|    2|\n",
      "|[2022-12-31 12:00...| 34.0|    2|\n",
      "|[2022-12-31 12:00...| 36.0|    8|\n",
      "|[2022-12-31 12:00...| 31.0|    6|\n",
      "|[2022-12-31 12:00...| 32.0|    2|\n",
      "|[2023-01-03 00:00...| 34.0|    2|\n",
      "|[2023-01-03 00:00...| 28.0|    2|\n",
      "|[2023-01-03 00:00...| 31.0|    4|\n",
      "|[2023-01-03 00:00...| 37.0|    6|\n",
      "|[2023-01-03 00:00...| 36.0|    3|\n",
      "|[2023-01-03 00:00...| 32.0|    8|\n",
      "|[2023-01-03 00:00...| 35.0|    1|\n",
      "|[2023-01-03 00:00...| 29.0|   15|\n",
      "|[2023-01-03 00:00...| 30.0|    8|\n",
      "|[2023-01-03 00:00...| 33.0|    2|\n",
      "+--------------------+-----+-----+\n",
      "only showing top 20 rows\n",
      "\n"
     ]
    },
    {
     "name": "stderr",
     "output_type": "stream",
     "text": [
      "[Stage 63:====================================================> (195 + 4) / 200]\r"
     ]
    },
    {
     "name": "stdout",
     "output_type": "stream",
     "text": [
      "-------------------------------------------\n",
      "Batch: 12\n",
      "-------------------------------------------\n",
      "+--------------------+-----+-----+\n",
      "|              window|value|count|\n",
      "+--------------------+-----+-----+\n",
      "|[2022-12-31 12:00...| 38.0|    8|\n",
      "|[2022-12-31 12:00...| 29.0|    8|\n",
      "|[2022-12-31 12:00...| 30.0|    6|\n",
      "|[2022-12-31 12:00...| 33.0|    3|\n",
      "|[2022-12-31 12:00...| 37.0|    8|\n",
      "|[2022-12-31 12:00...| 35.0|    2|\n",
      "|[2022-12-31 12:00...| 34.0|    2|\n",
      "|[2022-12-31 12:00...| 31.0|    6|\n",
      "|[2022-12-31 12:00...| 32.0|    2|\n",
      "|[2022-12-31 12:00...| 36.0|    8|\n",
      "|[2023-01-03 00:00...| 34.0|    2|\n",
      "|[2023-01-03 00:00...| 28.0|    2|\n",
      "|[2023-01-03 00:00...| 31.0|    4|\n",
      "|[2023-01-03 00:00...| 37.0|    6|\n",
      "|[2023-01-03 00:00...| 36.0|    3|\n",
      "|[2023-01-03 00:00...| 35.0|    1|\n",
      "|[2023-01-03 00:00...| 29.0|   15|\n",
      "|[2023-01-03 00:00...| 30.0|    8|\n",
      "|[2023-01-03 00:00...| 33.0|    2|\n",
      "|[2023-01-03 00:00...| 32.0|    8|\n",
      "+--------------------+-----+-----+\n",
      "only showing top 20 rows\n",
      "\n"
     ]
    },
    {
     "name": "stderr",
     "output_type": "stream",
     "text": [
      "                                                                                \r"
     ]
    },
    {
     "name": "stdout",
     "output_type": "stream",
     "text": [
      "-------------------------------------------\n",
      "Batch: 13\n",
      "-------------------------------------------\n",
      "+--------------------+-----+-----+\n",
      "|              window|value|count|\n",
      "+--------------------+-----+-----+\n",
      "|[2022-12-31 12:00...| 31.0|    6|\n",
      "|[2022-12-31 12:00...| 32.0|    2|\n",
      "|[2022-12-31 12:00...| 35.0|    2|\n",
      "|[2022-12-31 12:00...| 34.0|    2|\n",
      "|[2022-12-31 12:00...| 37.0|    8|\n",
      "|[2022-12-31 12:00...| 36.0|    8|\n",
      "|[2022-12-31 12:00...| 33.0|    3|\n",
      "|[2022-12-31 12:00...| 38.0|    8|\n",
      "|[2022-12-31 12:00...| 29.0|    8|\n",
      "|[2022-12-31 12:00...| 30.0|    6|\n",
      "|[2023-01-03 00:00...| 35.0|    1|\n",
      "|[2023-01-03 00:00...| 29.0|   15|\n",
      "|[2023-01-03 00:00...| 30.0|    8|\n",
      "|[2023-01-03 00:00...| 33.0|    2|\n",
      "|[2023-01-03 00:00...| 32.0|    8|\n",
      "|[2023-01-03 00:00...| 34.0|    2|\n",
      "|[2023-01-03 00:00...| 28.0|    2|\n",
      "|[2023-01-03 00:00...| 37.0|    6|\n",
      "|[2023-01-03 00:00...| 36.0|    3|\n",
      "|[2023-01-03 00:00...| 31.0|    4|\n",
      "+--------------------+-----+-----+\n",
      "only showing top 20 rows\n",
      "\n"
     ]
    },
    {
     "name": "stderr",
     "output_type": "stream",
     "text": [
      "                                                                                \r"
     ]
    },
    {
     "name": "stdout",
     "output_type": "stream",
     "text": [
      "-------------------------------------------\n",
      "Batch: 14\n",
      "-------------------------------------------\n",
      "+--------------------+-----+-----+\n",
      "|              window|value|count|\n",
      "+--------------------+-----+-----+\n",
      "|[2022-12-31 12:00...| 31.0|    6|\n",
      "|[2022-12-31 12:00...| 32.0|    2|\n",
      "|[2022-12-31 12:00...| 35.0|    2|\n",
      "|[2022-12-31 12:00...| 34.0|    2|\n",
      "|[2022-12-31 12:00...| 37.0|    8|\n",
      "|[2022-12-31 12:00...| 36.0|    8|\n",
      "|[2022-12-31 12:00...| 38.0|    8|\n",
      "|[2022-12-31 12:00...| 30.0|    6|\n",
      "|[2022-12-31 12:00...| 33.0|    3|\n",
      "|[2022-12-31 12:00...| 29.0|    8|\n",
      "|[2023-01-03 00:00...| 35.0|    1|\n",
      "|[2023-01-03 00:00...| 29.0|   15|\n",
      "|[2023-01-03 00:00...| 30.0|    8|\n",
      "|[2023-01-03 00:00...| 33.0|    2|\n",
      "|[2023-01-03 00:00...| 32.0|    8|\n",
      "|[2023-01-03 00:00...| 28.0|    2|\n",
      "|[2023-01-03 00:00...| 37.0|    6|\n",
      "|[2023-01-03 00:00...| 36.0|    3|\n",
      "|[2023-01-03 00:00...| 31.0|    4|\n",
      "|[2023-01-03 00:00...| 34.0|    2|\n",
      "+--------------------+-----+-----+\n",
      "only showing top 20 rows\n",
      "\n"
     ]
    },
    {
     "name": "stderr",
     "output_type": "stream",
     "text": [
      "[Stage 78:==================================================>   (187 + 4) / 200]\r"
     ]
    },
    {
     "name": "stdout",
     "output_type": "stream",
     "text": [
      "-------------------------------------------\n",
      "Batch: 15\n",
      "-------------------------------------------\n",
      "+--------------------+-----+-----+\n",
      "|              window|value|count|\n",
      "+--------------------+-----+-----+\n",
      "|[2022-12-31 12:00...| 31.0|    6|\n",
      "|[2022-12-31 12:00...| 32.0|    2|\n",
      "|[2022-12-31 12:00...| 35.0|    2|\n",
      "|[2022-12-31 12:00...| 34.0|    2|\n",
      "|[2022-12-31 12:00...| 37.0|    8|\n",
      "|[2022-12-31 12:00...| 36.0|    8|\n",
      "|[2022-12-31 12:00...| 38.0|    8|\n",
      "|[2022-12-31 12:00...| 29.0|    8|\n",
      "|[2022-12-31 12:00...| 30.0|    6|\n",
      "|[2022-12-31 12:00...| 33.0|    3|\n",
      "|[2023-01-03 00:00...| 35.0|    1|\n",
      "|[2023-01-03 00:00...| 29.0|   15|\n",
      "|[2023-01-03 00:00...| 30.0|    8|\n",
      "|[2023-01-03 00:00...| 33.0|    2|\n",
      "|[2023-01-03 00:00...| 32.0|    8|\n",
      "|[2023-01-03 00:00...| 34.0|    2|\n",
      "|[2023-01-03 00:00...| 28.0|    2|\n",
      "|[2023-01-03 00:00...| 37.0|    6|\n",
      "|[2023-01-03 00:00...| 36.0|    3|\n",
      "|[2023-01-03 00:00...| 31.0|    4|\n",
      "+--------------------+-----+-----+\n",
      "only showing top 20 rows\n",
      "\n"
     ]
    },
    {
     "name": "stderr",
     "output_type": "stream",
     "text": [
      "                                                                                \r"
     ]
    },
    {
     "name": "stdout",
     "output_type": "stream",
     "text": [
      "-------------------------------------------\n",
      "Batch: 16\n",
      "-------------------------------------------\n",
      "+--------------------+-----+-----+\n",
      "|              window|value|count|\n",
      "+--------------------+-----+-----+\n",
      "|[2022-12-31 12:00...| 38.0|    8|\n",
      "|[2022-12-31 12:00...| 29.0|    8|\n",
      "|[2022-12-31 12:00...| 30.0|    6|\n",
      "|[2022-12-31 12:00...| 33.0|    3|\n",
      "|[2022-12-31 12:00...| 31.0|    6|\n",
      "|[2022-12-31 12:00...| 32.0|    2|\n",
      "|[2022-12-31 12:00...| 37.0|    8|\n",
      "|[2022-12-31 12:00...| 35.0|    2|\n",
      "|[2022-12-31 12:00...| 34.0|    2|\n",
      "|[2022-12-31 12:00...| 36.0|    8|\n",
      "|[2023-01-03 00:00...| 34.0|    2|\n",
      "|[2023-01-03 00:00...| 28.0|    2|\n",
      "|[2023-01-03 00:00...| 31.0|    4|\n",
      "|[2023-01-03 00:00...| 37.0|    6|\n",
      "|[2023-01-03 00:00...| 36.0|    3|\n",
      "|[2023-01-03 00:00...| 33.0|    2|\n",
      "|[2023-01-03 00:00...| 32.0|    8|\n",
      "|[2023-01-03 00:00...| 35.0|    1|\n",
      "|[2023-01-03 00:00...| 29.0|   15|\n",
      "|[2023-01-03 00:00...| 30.0|    8|\n",
      "+--------------------+-----+-----+\n",
      "only showing top 20 rows\n",
      "\n"
     ]
    },
    {
     "name": "stderr",
     "output_type": "stream",
     "text": [
      "                                                                                \r"
     ]
    },
    {
     "name": "stdout",
     "output_type": "stream",
     "text": [
      "-------------------------------------------\n",
      "Batch: 17\n",
      "-------------------------------------------\n",
      "+--------------------+-----+-----+\n",
      "|              window|value|count|\n",
      "+--------------------+-----+-----+\n",
      "|[2022-12-31 12:00...| 31.0|    6|\n",
      "|[2022-12-31 12:00...| 32.0|    2|\n",
      "|[2022-12-31 12:00...| 35.0|    2|\n",
      "|[2022-12-31 12:00...| 34.0|    2|\n",
      "|[2022-12-31 12:00...| 37.0|    8|\n",
      "|[2022-12-31 12:00...| 36.0|    8|\n",
      "|[2022-12-31 12:00...| 30.0|    6|\n",
      "|[2022-12-31 12:00...| 33.0|    3|\n",
      "|[2022-12-31 12:00...| 38.0|    8|\n",
      "|[2022-12-31 12:00...| 29.0|    8|\n",
      "|[2023-01-03 00:00...| 35.0|    1|\n",
      "|[2023-01-03 00:00...| 29.0|   15|\n",
      "|[2023-01-03 00:00...| 30.0|    8|\n",
      "|[2023-01-03 00:00...| 33.0|    2|\n",
      "|[2023-01-03 00:00...| 32.0|    8|\n",
      "|[2023-01-03 00:00...| 31.0|    4|\n",
      "|[2023-01-03 00:00...| 34.0|    2|\n",
      "|[2023-01-03 00:00...| 28.0|    2|\n",
      "|[2023-01-03 00:00...| 37.0|    6|\n",
      "|[2023-01-03 00:00...| 36.0|    3|\n",
      "+--------------------+-----+-----+\n",
      "only showing top 20 rows\n",
      "\n"
     ]
    },
    {
     "name": "stderr",
     "output_type": "stream",
     "text": [
      "                                                                                \r"
     ]
    },
    {
     "name": "stdout",
     "output_type": "stream",
     "text": [
      "-------------------------------------------\n",
      "Batch: 18\n",
      "-------------------------------------------\n",
      "+--------------------+-----+-----+\n",
      "|              window|value|count|\n",
      "+--------------------+-----+-----+\n",
      "|[2022-12-31 12:00...| 31.0|    6|\n",
      "|[2022-12-31 12:00...| 32.0|    2|\n",
      "|[2022-12-31 12:00...| 35.0|    2|\n",
      "|[2022-12-31 12:00...| 34.0|    2|\n",
      "|[2022-12-31 12:00...| 37.0|    8|\n",
      "|[2022-12-31 12:00...| 36.0|    8|\n",
      "|[2022-12-31 12:00...| 38.0|    8|\n",
      "|[2022-12-31 12:00...| 29.0|    8|\n",
      "|[2022-12-31 12:00...| 30.0|    6|\n",
      "|[2022-12-31 12:00...| 33.0|    3|\n",
      "|[2023-01-03 00:00...| 35.0|    1|\n",
      "|[2023-01-03 00:00...| 29.0|   15|\n",
      "|[2023-01-03 00:00...| 30.0|    8|\n",
      "|[2023-01-03 00:00...| 33.0|    2|\n",
      "|[2023-01-03 00:00...| 32.0|    8|\n",
      "|[2023-01-03 00:00...| 36.0|    3|\n",
      "|[2023-01-03 00:00...| 31.0|    4|\n",
      "|[2023-01-03 00:00...| 34.0|    2|\n",
      "|[2023-01-03 00:00...| 28.0|    2|\n",
      "|[2023-01-03 00:00...| 37.0|    6|\n",
      "+--------------------+-----+-----+\n",
      "only showing top 20 rows\n",
      "\n"
     ]
    },
    {
     "name": "stderr",
     "output_type": "stream",
     "text": [
      "                                                                                \r"
     ]
    },
    {
     "name": "stdout",
     "output_type": "stream",
     "text": [
      "-------------------------------------------\n",
      "Batch: 19\n",
      "-------------------------------------------\n",
      "+--------------------+-----+-----+\n",
      "|              window|value|count|\n",
      "+--------------------+-----+-----+\n",
      "|[2022-12-31 12:00...| 31.0|    6|\n",
      "|[2022-12-31 12:00...| 32.0|    2|\n",
      "|[2022-12-31 12:00...| 35.0|    2|\n",
      "|[2022-12-31 12:00...| 34.0|    2|\n",
      "|[2022-12-31 12:00...| 37.0|    8|\n",
      "|[2022-12-31 12:00...| 36.0|    8|\n",
      "|[2022-12-31 12:00...| 38.0|    8|\n",
      "|[2022-12-31 12:00...| 29.0|    8|\n",
      "|[2022-12-31 12:00...| 33.0|    3|\n",
      "|[2022-12-31 12:00...| 30.0|    6|\n",
      "|[2023-01-03 00:00...| 35.0|    1|\n",
      "|[2023-01-03 00:00...| 29.0|   15|\n",
      "|[2023-01-03 00:00...| 30.0|    8|\n",
      "|[2023-01-03 00:00...| 33.0|    2|\n",
      "|[2023-01-03 00:00...| 32.0|    8|\n",
      "|[2023-01-03 00:00...| 31.0|    4|\n",
      "|[2023-01-03 00:00...| 34.0|    2|\n",
      "|[2023-01-03 00:00...| 28.0|    2|\n",
      "|[2023-01-03 00:00...| 37.0|    6|\n",
      "|[2023-01-03 00:00...| 36.0|    3|\n",
      "+--------------------+-----+-----+\n",
      "only showing top 20 rows\n",
      "\n"
     ]
    },
    {
     "name": "stderr",
     "output_type": "stream",
     "text": [
      "                                                                                \r"
     ]
    },
    {
     "name": "stdout",
     "output_type": "stream",
     "text": [
      "-------------------------------------------\n",
      "Batch: 20\n",
      "-------------------------------------------\n",
      "+--------------------+-----+-----+\n",
      "|              window|value|count|\n",
      "+--------------------+-----+-----+\n",
      "|[2022-12-31 12:00...| 31.0|    6|\n",
      "|[2022-12-31 12:00...| 32.0|    2|\n",
      "|[2022-12-31 12:00...| 35.0|    2|\n",
      "|[2022-12-31 12:00...| 34.0|    2|\n",
      "|[2022-12-31 12:00...| 37.0|    8|\n",
      "|[2022-12-31 12:00...| 36.0|    8|\n",
      "|[2022-12-31 12:00...| 30.0|    6|\n",
      "|[2022-12-31 12:00...| 33.0|    3|\n",
      "|[2022-12-31 12:00...| 38.0|    8|\n",
      "|[2022-12-31 12:00...| 29.0|    8|\n",
      "|[2023-01-03 00:00...| 35.0|    1|\n",
      "|[2023-01-03 00:00...| 29.0|   15|\n",
      "|[2023-01-03 00:00...| 30.0|    8|\n",
      "|[2023-01-03 00:00...| 33.0|    2|\n",
      "|[2023-01-03 00:00...| 32.0|    8|\n",
      "|[2023-01-03 00:00...| 31.0|    4|\n",
      "|[2023-01-03 00:00...| 34.0|    2|\n",
      "|[2023-01-03 00:00...| 28.0|    2|\n",
      "|[2023-01-03 00:00...| 37.0|    6|\n",
      "|[2023-01-03 00:00...| 36.0|    3|\n",
      "+--------------------+-----+-----+\n",
      "only showing top 20 rows\n",
      "\n"
     ]
    },
    {
     "name": "stderr",
     "output_type": "stream",
     "text": [
      "                                                                                \r"
     ]
    },
    {
     "name": "stdout",
     "output_type": "stream",
     "text": [
      "-------------------------------------------\n",
      "Batch: 21\n",
      "-------------------------------------------\n",
      "+--------------------+-----+-----+\n",
      "|              window|value|count|\n",
      "+--------------------+-----+-----+\n",
      "|[2022-12-31 12:00...| 38.0|    8|\n",
      "|[2022-12-31 12:00...| 29.0|    8|\n",
      "|[2022-12-31 12:00...| 30.0|    6|\n",
      "|[2022-12-31 12:00...| 33.0|    3|\n",
      "|[2022-12-31 12:00...| 37.0|    8|\n",
      "|[2022-12-31 12:00...| 35.0|    2|\n",
      "|[2022-12-31 12:00...| 34.0|    2|\n",
      "|[2022-12-31 12:00...| 36.0|    8|\n",
      "|[2022-12-31 12:00...| 31.0|    6|\n",
      "|[2022-12-31 12:00...| 32.0|    2|\n",
      "|[2023-01-03 00:00...| 34.0|    2|\n",
      "|[2023-01-03 00:00...| 28.0|    2|\n",
      "|[2023-01-03 00:00...| 31.0|    4|\n",
      "|[2023-01-03 00:00...| 37.0|    6|\n",
      "|[2023-01-03 00:00...| 36.0|    3|\n",
      "|[2023-01-03 00:00...| 32.0|    8|\n",
      "|[2023-01-03 00:00...| 35.0|    1|\n",
      "|[2023-01-03 00:00...| 29.0|   15|\n",
      "|[2023-01-03 00:00...| 30.0|    8|\n",
      "|[2023-01-03 00:00...| 33.0|    2|\n",
      "+--------------------+-----+-----+\n",
      "only showing top 20 rows\n",
      "\n"
     ]
    },
    {
     "name": "stderr",
     "output_type": "stream",
     "text": [
      "                                                                                \r"
     ]
    },
    {
     "name": "stdout",
     "output_type": "stream",
     "text": [
      "-------------------------------------------\n",
      "Batch: 22\n",
      "-------------------------------------------\n",
      "+--------------------+-----+-----+\n",
      "|              window|value|count|\n",
      "+--------------------+-----+-----+\n",
      "|[2022-12-31 12:00...| 38.0|    8|\n",
      "|[2022-12-31 12:00...| 29.0|    8|\n",
      "|[2022-12-31 12:00...| 30.0|    6|\n",
      "|[2022-12-31 12:00...| 33.0|    3|\n",
      "|[2022-12-31 12:00...| 37.0|    8|\n",
      "|[2022-12-31 12:00...| 35.0|    2|\n",
      "|[2022-12-31 12:00...| 34.0|    2|\n",
      "|[2022-12-31 12:00...| 36.0|    8|\n",
      "|[2022-12-31 12:00...| 31.0|    6|\n",
      "|[2022-12-31 12:00...| 32.0|    2|\n",
      "|[2023-01-03 00:00...| 34.0|    2|\n",
      "|[2023-01-03 00:00...| 28.0|    2|\n",
      "|[2023-01-03 00:00...| 31.0|    4|\n",
      "|[2023-01-03 00:00...| 37.0|    6|\n",
      "|[2023-01-03 00:00...| 36.0|    3|\n",
      "|[2023-01-03 00:00...| 32.0|    8|\n",
      "|[2023-01-03 00:00...| 35.0|    1|\n",
      "|[2023-01-03 00:00...| 29.0|   15|\n",
      "|[2023-01-03 00:00...| 30.0|    8|\n",
      "|[2023-01-03 00:00...| 33.0|    2|\n",
      "+--------------------+-----+-----+\n",
      "only showing top 20 rows\n",
      "\n"
     ]
    }
   ],
   "source": [
    "from pyspark.sql.functions import window\n",
    "\n",
    "windowedCounts = final_df.groupBy(\n",
    "    window(final_df.sourceUnixSTP, \"3600 minutes\", \"3600 minutes\"),\n",
    "    final_df.value\n",
    ").count()\n",
    "\n",
    "orderwindowedCounts = windowedCounts.orderBy('window')\n",
    "\n",
    "query = orderwindowedCounts.writeStream.outputMode(\"complete\").format(\"console\").start()\n",
    "query.awaitTermination()\n"
   ]
  },
  {
   "cell_type": "code",
   "execution_count": null,
   "id": "9f38297f",
   "metadata": {},
   "outputs": [],
   "source": [
    "query.stop()"
   ]
  },
  {
   "cell_type": "code",
   "execution_count": null,
   "id": "2bcc3627",
   "metadata": {},
   "outputs": [],
   "source": []
  }
 ],
 "metadata": {
  "kernelspec": {
   "display_name": "Python 3 (ipykernel)",
   "language": "python",
   "name": "python3"
  },
  "language_info": {
   "codemirror_mode": {
    "name": "ipython",
    "version": 3
   },
   "file_extension": ".py",
   "mimetype": "text/x-python",
   "name": "python",
   "nbconvert_exporter": "python",
   "pygments_lexer": "ipython3",
   "version": "3.9.2"
  }
 },
 "nbformat": 4,
 "nbformat_minor": 5
}
